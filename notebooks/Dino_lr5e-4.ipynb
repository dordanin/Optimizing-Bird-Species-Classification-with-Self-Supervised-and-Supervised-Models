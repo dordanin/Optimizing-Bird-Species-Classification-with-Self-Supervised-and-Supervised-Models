{
 "cells": [
  {
   "cell_type": "markdown",
   "id": "2c22f97a",
   "metadata": {},
   "source": [
    "# Notebook for DINOv2 models with learning rate of 5e-4"
   ]
  },
  {
   "cell_type": "code",
   "execution_count": 1,
   "id": "ae33414c-5e75-4e19-ad94-01b8745c7fa3",
   "metadata": {},
   "outputs": [
    {
     "name": "stderr",
     "output_type": "stream",
     "text": [
      "C:\\Users\\User\\anaconda3\\envs\\deep_learn\\lib\\site-packages\\kornia\\feature\\lightglue.py:44: FutureWarning: `torch.cuda.amp.custom_fwd(args...)` is deprecated. Please use `torch.amp.custom_fwd(args..., device_type='cuda')` instead.\n",
      "  @torch.cuda.amp.custom_fwd(cast_inputs=torch.float32)\n"
     ]
    }
   ],
   "source": [
    "import copy\n",
    "import os\n",
    "\n",
    "import torch\n",
    "import torchvision\n",
    "from torch import nn\n",
    "import torch\n",
    "import torch.nn as nn\n",
    "import torchvision.datasets as datasets\n",
    "import torchvision.transforms as transforms\n",
    "from torch.utils.data import DataLoader\n",
    "\n",
    "\n",
    "from tqdm import tqdm\n",
    "\n",
    "import schedulefree\n",
    "\n",
    "from kornia import augmentation as K\n",
    "from kornia.augmentation import AugmentationSequential"
   ]
  },
  {
   "cell_type": "code",
   "execution_count": 3,
   "id": "2ae723be-0463-4b3f-bd62-b51d61da39ad",
   "metadata": {},
   "outputs": [
    {
     "name": "stderr",
     "output_type": "stream",
     "text": [
      "Using cache found in C:\\Users\\User/.cache\\torch\\hub\\facebookresearch_dinov2_main\n"
     ]
    }
   ],
   "source": [
    "# Load a pre-trained DINOv2 model from Facebook Research using torch hub\n",
    "model = torch.hub.load('facebookresearch/dinov2', 'dinov2_vitl14_lc')"
   ]
  },
  {
   "cell_type": "code",
   "execution_count": 4,
   "id": "b72f83db-3802-493e-80a5-01bacc445ddc",
   "metadata": {},
   "outputs": [],
   "source": [
    "# Freeze all model parameters to avoid updating them during training\n",
    "for param in model.parameters():\n",
    "    param.requires_grad = False"
   ]
  },
  {
   "cell_type": "code",
   "execution_count": 5,
   "id": "024cc910-7a4e-4f26-95ad-cbecb088d23b",
   "metadata": {},
   "outputs": [],
   "source": [
    "# Add a linear head to the model\n",
    "num_classes = 525\n",
    "model.linear_head = torch.nn.Linear(model.linear_head.in_features, num_classes)\n",
    "\n",
    "# Enable training only for the linear head (parameters of the added layers)\n",
    "for param in model.linear_head.parameters():\n",
    "    param.requires_grad = True"
   ]
  },
  {
   "cell_type": "code",
   "execution_count": 6,
   "id": "ee0a5816-8adc-4741-8509-9b21f14d31b1",
   "metadata": {},
   "outputs": [],
   "source": [
    "# Define a set of transformations to resize and convert images to tensors\n",
    "transform = transforms.Compose([\n",
    "    transforms.Resize((224, 224)),\n",
    "    transforms.ToTensor(),\n",
    "])"
   ]
  },
  {
   "cell_type": "code",
   "execution_count": 7,
   "id": "40d6b6da-b47b-4476-9052-aa8d061ef7c2",
   "metadata": {},
   "outputs": [],
   "source": [
    "# Load training and validation datasets from the specified directories\n",
    "train_dataset = datasets.ImageFolder('../dataset/train', transform=transform)\n",
    "val_dataset = datasets.ImageFolder('../dataset/val', transform=transform)\n",
    "\n",
    "# Create data loaders for training and validation datasets(with batch size = 128)\n",
    "train_dataloader = torch.utils.data.DataLoader(\n",
    "    train_dataset,\n",
    "    batch_size=128,\n",
    "    shuffle=True,\n",
    "    num_workers=4,\n",
    "    pin_memory=True\n",
    ")\n",
    "\n",
    "val_dataloader = torch.utils.data.DataLoader(\n",
    "    val_dataset,\n",
    "    batch_size=128,\n",
    "    shuffle=False,\n",
    "    num_workers=4,\n",
    "    pin_memory=True\n",
    ")\n"
   ]
  },
  {
   "cell_type": "code",
   "execution_count": 8,
   "id": "ffc8ca2e-c715-438b-a4f4-8f1156189155",
   "metadata": {},
   "outputs": [],
   "source": [
    "# Set the device to GPU if available, otherwise use CPU\n",
    "device = torch.device('cuda' if torch.cuda.is_available() else 'cpu')\n",
    "\n",
    "# Define the loss function (cross-entropy) for classification tasks\n",
    "criterion = nn.CrossEntropyLoss().to(device)"
   ]
  },
  {
   "cell_type": "code",
   "execution_count": 9,
   "id": "af42d185",
   "metadata": {},
   "outputs": [],
   "source": [
    "# function for calculating and displaying model accuracy\n",
    "def check_accuracy(model, dataloader=val_dataloader, device=device, desc='Validation'):\n",
    "    model.eval() # Set the model to evaluation mode\n",
    "    val_loss = 0.0\n",
    "    correct_top1 = 0 # Correct predictions for top-1 accuracy\n",
    "    correct_top5 = 0 # Correct predictions for top-5 accuracy\n",
    "    total = 0\n",
    "    \n",
    "    # Use tqdm for displaying progress during validation\n",
    "    dataloader_tqdm = tqdm(dataloader, desc=desc, leave=True)\n",
    "    \n",
    "    with torch.no_grad():\n",
    "        for inputs, labels in dataloader_tqdm:\n",
    "            inputs, labels = inputs.to(device), labels.to(device)\n",
    "            outputs = model(inputs)\n",
    "            loss = criterion(outputs, labels)\n",
    "            val_loss += loss.item()\n",
    "            \n",
    "            _, predicted = torch.max(outputs, 1)\n",
    "            total += labels.size(0)\n",
    "            correct_top1 += (predicted == labels).sum().item()\n",
    "\n",
    "            # For top-5 accuracy\n",
    "            _, top5_pred = outputs.topk(5, 1, True, True)\n",
    "            correct_top5 += top5_pred.eq(labels.view(-1, 1).expand_as(top5_pred)).sum().item()\n",
    "            \n",
    "            dataloader_tqdm.set_postfix(classes=correct_top1 / total, top1_acc=100 * correct_top1 / total, top5_acc=100 * correct_top5 / total)\n",
    "    \n",
    "    print(f'Validation Loss: {val_loss/len(dataloader):.4f}, Top-1 Accuracy: {100 * correct_top1 / total:.2f}%, Top-5 Accuracy: {100 * correct_top5 / total:.2f}%')"
   ]
  },
  {
   "cell_type": "code",
   "execution_count": 10,
   "id": "d9be64c9",
   "metadata": {},
   "outputs": [],
   "source": [
    "use_amp = True # Flag to use automatic mixed precision for training\n",
    "scaler = torch.amp.GradScaler(device,enabled=use_amp) # GradScaler for mixed precision training\n",
    "\n",
    "\n",
    "# train function without augmentations\n",
    "def train_model_no_aug(model, num_epochs, optimizer):\n",
    "    for epoch in range(num_epochs):\n",
    "        model.train() # Set the model to training mode\n",
    "        running_loss = 0.0\n",
    "        correct_top1 = 0 # Correct predictions for top-1 accuracy\n",
    "        total = 0\n",
    "        # Use tqdm for displaying progress during training\n",
    "        train_loader_tqdm = tqdm(train_dataloader, desc=f'Epoch [{epoch+1}/{num_epochs}]', leave=True)\n",
    "        \n",
    "        for inputs, labels in train_loader_tqdm:\n",
    "            inputs, labels = inputs.to(device), labels.to(device)\n",
    "\n",
    "            optimizer.zero_grad(set_to_none=True)\n",
    "            with torch.cuda.amp.autocast(enabled=use_amp):\n",
    "                outputs = model(inputs)\n",
    "                loss = criterion(outputs, labels)\n",
    "                \n",
    "            scaler.scale(loss).backward()\n",
    "            scaler.step(optimizer)\n",
    "            scaler.update()\n",
    "\n",
    "            running_loss += loss.item()\n",
    "            gpu_mem = torch.cuda.memory_reserved() / 1e9  # Get GPU memory usage in GB\n",
    "            _, predicted = torch.max(outputs, 1)\n",
    "            total += labels.size(0)\n",
    "            correct_top1 += (predicted == labels).sum().item()\n",
    "            \n",
    "            train_loader_tqdm.set_postfix(GPU_mem=f'{gpu_mem:.3f}G', loss=loss.item(), Instances=len(inputs), Size=inputs.shape[-1], top1_acc=100 * correct_top1 / total)\n",
    "\n",
    "        print(f'Epoch [{epoch+1}/{num_epochs}], Loss: {running_loss/len(train_dataloader):.4f}')\n",
    "        \n",
    "    return model\n"
   ]
  },
  {
   "cell_type": "markdown",
   "id": "f0a9f77b",
   "metadata": {},
   "source": [
    "## Set of models with the following parameters:\n",
    "1. Automatic mixed precision\n",
    "2. Batch size of 128\n",
    "4. No augmentations\n",
    "5. 3 epochs"
   ]
  },
  {
   "cell_type": "code",
   "execution_count": 16,
   "id": "7d6a7f3e",
   "metadata": {
    "scrolled": true
   },
   "outputs": [
    {
     "name": "stderr",
     "output_type": "stream",
     "text": [
      "Epoch [1/3]:   0%|                                                                             | 0/662 [00:00<?, ?it/s]C:\\Users\\User\\AppData\\Local\\Temp\\ipykernel_17340\\3159248368.py:13: FutureWarning: `torch.cuda.amp.autocast(args...)` is deprecated. Please use `torch.amp.autocast('cuda', args...)` instead.\n",
      "  with torch.cuda.amp.autocast(enabled=use_amp):\n",
      "Epoch [1/3]: 100%|█| 662/662 [06:05<00:00,  1.81it/s, GPU_mem=5.524G, Instances=27, Size=224, loss=0.0956, top1_acc=91.\n"
     ]
    },
    {
     "name": "stdout",
     "output_type": "stream",
     "text": [
      "Epoch [1/3], Loss: 0.4092\n"
     ]
    },
    {
     "name": "stderr",
     "output_type": "stream",
     "text": [
      "Epoch [2/3]: 100%|█| 662/662 [06:16<00:00,  1.76it/s, GPU_mem=5.524G, Instances=27, Size=224, loss=0.0456, top1_acc=96.\n"
     ]
    },
    {
     "name": "stdout",
     "output_type": "stream",
     "text": [
      "Epoch [2/3], Loss: 0.1332\n"
     ]
    },
    {
     "name": "stderr",
     "output_type": "stream",
     "text": [
      "Epoch [3/3]: 100%|█| 662/662 [05:54<00:00,  1.87it/s, GPU_mem=5.524G, Instances=27, Size=224, loss=0.209, top1_acc=97.7\n"
     ]
    },
    {
     "name": "stdout",
     "output_type": "stream",
     "text": [
      "Epoch [3/3], Loss: 0.1018\n"
     ]
    },
    {
     "name": "stderr",
     "output_type": "stream",
     "text": [
      "Validation: 100%|█████████████████████████| 21/21 [00:41<00:00,  1.95s/it, classes=0.974, top1_acc=97.4, top5_acc=99.8]"
     ]
    },
    {
     "name": "stdout",
     "output_type": "stream",
     "text": [
      "Validation Loss: 0.1358, Top-1 Accuracy: 97.37%, Top-5 Accuracy: 99.81%\n"
     ]
    },
    {
     "name": "stderr",
     "output_type": "stream",
     "text": [
      "\n"
     ]
    }
   ],
   "source": [
    "# Training with Adam optimizer and no augmentations\n",
    "mymodel_Adam_noAug = copy.deepcopy(model).to(device)\n",
    "num_epochs = 3  # Set the number of epochs\n",
    "lr = 5e-4\n",
    "optimizer_Adam = torch.optim.Adam(mymodel_Adam_noAug.linear_head.parameters(), lr=lr)\n",
    "mymodel_Adam_noAug = train_model_no_aug(mymodel_Adam_noAug, num_epochs, optimizer_Adam)\n",
    "check_accuracy(mymodel_Adam_noAug, val_dataloader)\n"
   ]
  },
  {
   "cell_type": "code",
   "execution_count": 17,
   "id": "8ade6fec",
   "metadata": {},
   "outputs": [],
   "source": [
    "# Save the trained model\n",
    "state = {'net': mymodel_Adam_noAug.state_dict()}\n",
    "torch.save(state, '../models/DINO/Dino_Adam_noAug_128_lr_5e-4.pth')"
   ]
  },
  {
   "cell_type": "code",
   "execution_count": 18,
   "id": "636c77a9",
   "metadata": {},
   "outputs": [],
   "source": [
    "del mymodel_Adam_noAug"
   ]
  },
  {
   "cell_type": "code",
   "execution_count": 21,
   "id": "3a7ba988",
   "metadata": {
    "scrolled": true
   },
   "outputs": [
    {
     "name": "stderr",
     "output_type": "stream",
     "text": [
      "Epoch [1/3]:   0%|                                                                             | 0/662 [00:00<?, ?it/s]C:\\Users\\User\\AppData\\Local\\Temp\\ipykernel_17340\\3159248368.py:13: FutureWarning: `torch.cuda.amp.autocast(args...)` is deprecated. Please use `torch.amp.autocast('cuda', args...)` instead.\n",
      "  with torch.cuda.amp.autocast(enabled=use_amp):\n",
      "Epoch [1/3]: 100%|█| 662/662 [06:04<00:00,  1.81it/s, GPU_mem=6.835G, Instances=27, Size=224, loss=0.669, top1_acc=74.6\n"
     ]
    },
    {
     "name": "stdout",
     "output_type": "stream",
     "text": [
      "Epoch [1/3], Loss: 1.9486\n"
     ]
    },
    {
     "name": "stderr",
     "output_type": "stream",
     "text": [
      "Epoch [2/3]: 100%|█| 662/662 [06:01<00:00,  1.83it/s, GPU_mem=6.835G, Instances=27, Size=224, loss=0.299, top1_acc=95.7\n"
     ]
    },
    {
     "name": "stdout",
     "output_type": "stream",
     "text": [
      "Epoch [2/3], Loss: 0.3943\n"
     ]
    },
    {
     "name": "stderr",
     "output_type": "stream",
     "text": [
      "Epoch [3/3]: 100%|█| 662/662 [06:00<00:00,  1.83it/s, GPU_mem=6.835G, Instances=27, Size=224, loss=0.118, top1_acc=96.8\n"
     ]
    },
    {
     "name": "stdout",
     "output_type": "stream",
     "text": [
      "Epoch [3/3], Loss: 0.2606\n"
     ]
    },
    {
     "name": "stderr",
     "output_type": "stream",
     "text": [
      "Validation: 100%|█████████████████████████| 21/21 [00:41<00:00,  1.97s/it, classes=0.981, top1_acc=98.1, top5_acc=99.9]"
     ]
    },
    {
     "name": "stdout",
     "output_type": "stream",
     "text": [
      "Validation Loss: 0.1807, Top-1 Accuracy: 98.10%, Top-5 Accuracy: 99.89%\n"
     ]
    },
    {
     "name": "stderr",
     "output_type": "stream",
     "text": [
      "\n"
     ]
    }
   ],
   "source": [
    "# Training with SGD optimizer and no augmentations(learning rate = 5e-3)\n",
    "mymodel_SGD_noAug =  copy.deepcopy(model).to(device)\n",
    "num_epochs = 3  # Set the number of epochs\n",
    "lr = 5e-3\n",
    "optimizer_SGD = torch.optim.SGD(mymodel_SGD_noAug.linear_head.parameters(), lr=lr)\n",
    "mymodel_Adam_noAug = train_model_no_aug(mymodel_SGD_noAug, num_epochs, optimizer_SGD)\n",
    "check_accuracy(mymodel_SGD_noAug, val_dataloader)\n"
   ]
  },
  {
   "cell_type": "code",
   "execution_count": 22,
   "id": "bb27313a",
   "metadata": {},
   "outputs": [],
   "source": [
    "# Save the trained model\n",
    "state = {'net': mymodel_SGD_noAug.state_dict()}\n",
    "torch.save(state, '../models/DINO/Dino_SGD_noAug_128_lr5e-3.pth')"
   ]
  },
  {
   "cell_type": "code",
   "execution_count": 23,
   "id": "33097ca9",
   "metadata": {},
   "outputs": [],
   "source": [
    "del mymodel_SGD_noAug"
   ]
  },
  {
   "cell_type": "code",
   "execution_count": 24,
   "id": "87caf581",
   "metadata": {},
   "outputs": [
    {
     "name": "stderr",
     "output_type": "stream",
     "text": [
      "Epoch [1/3]:   0%|                                                                             | 0/662 [00:00<?, ?it/s]C:\\Users\\User\\AppData\\Local\\Temp\\ipykernel_17340\\3159248368.py:13: FutureWarning: `torch.cuda.amp.autocast(args...)` is deprecated. Please use `torch.amp.autocast('cuda', args...)` instead.\n",
      "  with torch.cuda.amp.autocast(enabled=use_amp):\n",
      "Epoch [1/3]: 100%|█| 662/662 [06:01<00:00,  1.83it/s, GPU_mem=8.317G, Instances=27, Size=224, loss=0.236, top1_acc=91.8\n"
     ]
    },
    {
     "name": "stdout",
     "output_type": "stream",
     "text": [
      "Epoch [1/3], Loss: 0.4057\n"
     ]
    },
    {
     "name": "stderr",
     "output_type": "stream",
     "text": [
      "Epoch [2/3]: 100%|█| 662/662 [06:01<00:00,  1.83it/s, GPU_mem=8.317G, Instances=27, Size=224, loss=0.873, top1_acc=96.9\n"
     ]
    },
    {
     "name": "stdout",
     "output_type": "stream",
     "text": [
      "Epoch [2/3], Loss: 0.1361\n"
     ]
    },
    {
     "name": "stderr",
     "output_type": "stream",
     "text": [
      "Epoch [3/3]: 100%|█| 662/662 [06:01<00:00,  1.83it/s, GPU_mem=8.317G, Instances=27, Size=224, loss=0.00565, top1_acc=97\n"
     ]
    },
    {
     "name": "stdout",
     "output_type": "stream",
     "text": [
      "Epoch [3/3], Loss: 0.1017\n"
     ]
    },
    {
     "name": "stderr",
     "output_type": "stream",
     "text": [
      "Validation: 100%|█████████████████████████| 21/21 [00:41<00:00,  1.97s/it, classes=0.974, top1_acc=97.4, top5_acc=99.7]"
     ]
    },
    {
     "name": "stdout",
     "output_type": "stream",
     "text": [
      "Validation Loss: 0.1532, Top-1 Accuracy: 97.37%, Top-5 Accuracy: 99.73%\n"
     ]
    },
    {
     "name": "stderr",
     "output_type": "stream",
     "text": [
      "\n"
     ]
    }
   ],
   "source": [
    "# Training with AdamW optimizer and no augmentations\n",
    "mymodel_AdamW_noAug =  copy.deepcopy(model).to(device)\n",
    "num_epochs = 3  # Set the number of epochs\n",
    "lr = 5e-4\n",
    "optimizer_AdamW = torch.optim.AdamW(mymodel_AdamW_noAug.linear_head.parameters(), lr=lr)\n",
    "mymodel_AdamW_noAug = train_model_no_aug(mymodel_AdamW_noAug, num_epochs, optimizer_AdamW)\n",
    "check_accuracy(mymodel_AdamW_noAug, val_dataloader)\n"
   ]
  },
  {
   "cell_type": "code",
   "execution_count": 25,
   "id": "c5c510ab",
   "metadata": {},
   "outputs": [],
   "source": [
    "# Save the trained model\n",
    "state = {'net': mymodel_AdamW_noAug.state_dict()}\n",
    "torch.save(state, '../models/DINO/Dino_AdamW_noAug_128_lr_5e-4.pth')"
   ]
  },
  {
   "cell_type": "code",
   "execution_count": 26,
   "id": "a7e32994",
   "metadata": {},
   "outputs": [],
   "source": [
    "del mymodel_AdamW_noAug"
   ]
  },
  {
   "cell_type": "code",
   "execution_count": 28,
   "id": "a301d42b",
   "metadata": {},
   "outputs": [
    {
     "name": "stderr",
     "output_type": "stream",
     "text": [
      "Epoch [1/3]:   0%|                                                                             | 0/662 [00:00<?, ?it/s]C:\\Users\\User\\AppData\\Local\\Temp\\ipykernel_17340\\3159248368.py:13: FutureWarning: `torch.cuda.amp.autocast(args...)` is deprecated. Please use `torch.amp.autocast('cuda', args...)` instead.\n",
      "  with torch.cuda.amp.autocast(enabled=use_amp):\n",
      "Epoch [1/3]: 100%|█| 662/662 [05:53<00:00,  1.87it/s, GPU_mem=8.133G, Instances=27, Size=224, loss=0.0235, top1_acc=91.\n"
     ]
    },
    {
     "name": "stdout",
     "output_type": "stream",
     "text": [
      "Epoch [1/3], Loss: 0.5999\n"
     ]
    },
    {
     "name": "stderr",
     "output_type": "stream",
     "text": [
      "Epoch [2/3]: 100%|█| 662/662 [05:53<00:00,  1.87it/s, GPU_mem=8.133G, Instances=27, Size=224, loss=0.00112, top1_acc=96\n"
     ]
    },
    {
     "name": "stdout",
     "output_type": "stream",
     "text": [
      "Epoch [2/3], Loss: 0.1621\n"
     ]
    },
    {
     "name": "stderr",
     "output_type": "stream",
     "text": [
      "Epoch [3/3]: 100%|█| 662/662 [05:53<00:00,  1.87it/s, GPU_mem=8.133G, Instances=27, Size=224, loss=0.0254, top1_acc=97.\n"
     ]
    },
    {
     "name": "stdout",
     "output_type": "stream",
     "text": [
      "Epoch [3/3], Loss: 0.1118\n"
     ]
    },
    {
     "name": "stderr",
     "output_type": "stream",
     "text": [
      "Validation: 100%|█████████████████████████| 21/21 [00:40<00:00,  1.95s/it, classes=0.979, top1_acc=97.9, top5_acc=99.8]"
     ]
    },
    {
     "name": "stdout",
     "output_type": "stream",
     "text": [
      "Validation Loss: 0.1332, Top-1 Accuracy: 97.90%, Top-5 Accuracy: 99.81%\n"
     ]
    },
    {
     "name": "stderr",
     "output_type": "stream",
     "text": [
      "\n"
     ]
    }
   ],
   "source": [
    "# Training with RMSProp optimizer and no augmentations\n",
    "mymodel_RMSProp_noAug =  copy.deepcopy(model).to(device)\n",
    "num_epochs = 3  # Set the number of epochs\n",
    "lr = 5e-4\n",
    "optimizer_RMSProp = torch.optim.RMSprop(mymodel_RMSProp_noAug.linear_head.parameters(), lr=lr)\n",
    "mymodel_RMSProp_noAug = train_model_no_aug(mymodel_RMSProp_noAug, num_epochs, optimizer_RMSProp)\n",
    "check_accuracy(mymodel_RMSProp_noAug, val_dataloader)\n"
   ]
  },
  {
   "cell_type": "code",
   "execution_count": 29,
   "id": "40201a1c",
   "metadata": {},
   "outputs": [],
   "source": [
    "# Save the trained model\n",
    "state = {'net': mymodel_RMSProp_noAug.state_dict()}\n",
    "torch.save(state, '../models/DINO/Dino_RMSProp_noAug_128_lr_5e-4.pth')"
   ]
  },
  {
   "cell_type": "code",
   "execution_count": 30,
   "id": "1d6e2225",
   "metadata": {},
   "outputs": [],
   "source": [
    "del mymodel_RMSProp_noAug"
   ]
  },
  {
   "cell_type": "code",
   "execution_count": 32,
   "id": "4a6a8d0b",
   "metadata": {},
   "outputs": [
    {
     "name": "stderr",
     "output_type": "stream",
     "text": [
      "Epoch [1/3]:   0%|                                                                             | 0/662 [00:00<?, ?it/s]C:\\Users\\User\\AppData\\Local\\Temp\\ipykernel_17340\\3159248368.py:13: FutureWarning: `torch.cuda.amp.autocast(args...)` is deprecated. Please use `torch.amp.autocast('cuda', args...)` instead.\n",
      "  with torch.cuda.amp.autocast(enabled=use_amp):\n",
      "Epoch [1/3]: 100%|█| 662/662 [05:59<00:00,  1.84it/s, GPU_mem=6.847G, Instances=27, Size=224, loss=0.0391, top1_acc=92.\n"
     ]
    },
    {
     "name": "stdout",
     "output_type": "stream",
     "text": [
      "Epoch [1/3], Loss: 0.3720\n"
     ]
    },
    {
     "name": "stderr",
     "output_type": "stream",
     "text": [
      "Epoch [2/3]: 100%|█| 662/662 [06:16<00:00,  1.76it/s, GPU_mem=6.847G, Instances=27, Size=224, loss=0.0101, top1_acc=97.\n"
     ]
    },
    {
     "name": "stdout",
     "output_type": "stream",
     "text": [
      "Epoch [2/3], Loss: 0.1140\n"
     ]
    },
    {
     "name": "stderr",
     "output_type": "stream",
     "text": [
      "Epoch [3/3]: 100%|█| 662/662 [06:09<00:00,  1.79it/s, GPU_mem=6.847G, Instances=27, Size=224, loss=0.0026, top1_acc=98.\n"
     ]
    },
    {
     "name": "stdout",
     "output_type": "stream",
     "text": [
      "Epoch [3/3], Loss: 0.0799\n"
     ]
    },
    {
     "name": "stderr",
     "output_type": "stream",
     "text": [
      "Validation: 100%|█████████████████████████| 21/21 [00:41<00:00,  1.96s/it, classes=0.968, top1_acc=96.8, top5_acc=99.8]"
     ]
    },
    {
     "name": "stdout",
     "output_type": "stream",
     "text": [
      "Validation Loss: 0.1647, Top-1 Accuracy: 96.76%, Top-5 Accuracy: 99.77%\n"
     ]
    },
    {
     "name": "stderr",
     "output_type": "stream",
     "text": [
      "\n"
     ]
    }
   ],
   "source": [
    "# Training with NAdam optimizer and no augmentations\n",
    "mymodel_NAdam_noAug =  copy.deepcopy(model).to(device)\n",
    "num_epochs = 3  # Set the number of epochs\n",
    "lr = 5e-4\n",
    "optimizer_NAdam = torch.optim.NAdam(mymodel_NAdam_noAug.linear_head.parameters(), lr=lr)\n",
    "mymodel_Adam_noAug = train_model_no_aug(mymodel_NAdam_noAug, num_epochs, optimizer_NAdam)\n",
    "check_accuracy(mymodel_NAdam_noAug, val_dataloader)\n"
   ]
  },
  {
   "cell_type": "code",
   "execution_count": 33,
   "id": "34c00f98",
   "metadata": {},
   "outputs": [],
   "source": [
    "# Save the trained model\n",
    "state = {'net': mymodel_NAdam_noAug.state_dict()}\n",
    "torch.save(state, '../models/DINO/Dino_NAdam_noAug_128_lr_5e-4.pth')"
   ]
  },
  {
   "cell_type": "code",
   "execution_count": 34,
   "id": "c574d3a8",
   "metadata": {},
   "outputs": [],
   "source": [
    "del mymodel_NAdam_noAug"
   ]
  },
  {
   "cell_type": "code",
   "execution_count": 35,
   "id": "7dbfff52",
   "metadata": {},
   "outputs": [
    {
     "name": "stderr",
     "output_type": "stream",
     "text": [
      "Epoch [1/3]:   0%|                                                                             | 0/662 [00:00<?, ?it/s]C:\\Users\\User\\AppData\\Local\\Temp\\ipykernel_17340\\3159248368.py:13: FutureWarning: `torch.cuda.amp.autocast(args...)` is deprecated. Please use `torch.amp.autocast('cuda', args...)` instead.\n",
      "  with torch.cuda.amp.autocast(enabled=use_amp):\n",
      "Epoch [1/3]: 100%|█| 662/662 [06:01<00:00,  1.83it/s, GPU_mem=8.330G, Instances=27, Size=224, loss=0.243, top1_acc=91.7\n"
     ]
    },
    {
     "name": "stdout",
     "output_type": "stream",
     "text": [
      "Epoch [1/3], Loss: 0.4042\n"
     ]
    },
    {
     "name": "stderr",
     "output_type": "stream",
     "text": [
      "Epoch [2/3]: 100%|█| 662/662 [06:04<00:00,  1.82it/s, GPU_mem=8.330G, Instances=27, Size=224, loss=0.0178, top1_acc=96.\n"
     ]
    },
    {
     "name": "stdout",
     "output_type": "stream",
     "text": [
      "Epoch [2/3], Loss: 0.1357\n"
     ]
    },
    {
     "name": "stderr",
     "output_type": "stream",
     "text": [
      "Epoch [3/3]: 100%|█| 662/662 [06:02<00:00,  1.83it/s, GPU_mem=8.330G, Instances=27, Size=224, loss=0.0983, top1_acc=97.\n"
     ]
    },
    {
     "name": "stdout",
     "output_type": "stream",
     "text": [
      "Epoch [3/3], Loss: 0.0972\n"
     ]
    },
    {
     "name": "stderr",
     "output_type": "stream",
     "text": [
      "Validation: 100%|█████████████████████████| 21/21 [00:41<00:00,  1.98s/it, classes=0.975, top1_acc=97.5, top5_acc=99.8]"
     ]
    },
    {
     "name": "stdout",
     "output_type": "stream",
     "text": [
      "Validation Loss: 0.1348, Top-1 Accuracy: 97.52%, Top-5 Accuracy: 99.85%\n"
     ]
    },
    {
     "name": "stderr",
     "output_type": "stream",
     "text": [
      "\n"
     ]
    }
   ],
   "source": [
    "# Training with RAdam optimizer and no augmentations\n",
    "mymodel_RAdam_noAug = copy.deepcopy(model).to(device)\n",
    "num_epochs = 3  # Set the number of epochs\n",
    "lr = 5e-4\n",
    "optimizer_RAdam = torch.optim.Adam(mymodel_RAdam_noAug.linear_head.parameters(), lr=lr)\n",
    "mymodel_Adam_noAug = train_model_no_aug(mymodel_RAdam_noAug, num_epochs, optimizer_RAdam)\n",
    "check_accuracy(mymodel_RAdam_noAug, val_dataloader)\n"
   ]
  },
  {
   "cell_type": "code",
   "execution_count": 36,
   "id": "dc493d9e",
   "metadata": {},
   "outputs": [],
   "source": [
    "# Save the trained model\n",
    "state = {'net': mymodel_RAdam_noAug.state_dict()}\n",
    "torch.save(state, '../models/DINO/Dino_RAdam_noAug_128_lr_5e-4.pth')"
   ]
  },
  {
   "cell_type": "code",
   "execution_count": 37,
   "id": "e4734c77",
   "metadata": {},
   "outputs": [],
   "source": [
    "del mymodel_RAdam_noAug"
   ]
  },
  {
   "cell_type": "code",
   "execution_count": 38,
   "id": "5d5cca12",
   "metadata": {},
   "outputs": [
    {
     "name": "stderr",
     "output_type": "stream",
     "text": [
      "Epoch [1/3]:   0%|                                                                             | 0/662 [00:00<?, ?it/s]C:\\Users\\User\\AppData\\Local\\Temp\\ipykernel_17340\\3159248368.py:13: FutureWarning: `torch.cuda.amp.autocast(args...)` is deprecated. Please use `torch.amp.autocast('cuda', args...)` instead.\n",
      "  with torch.cuda.amp.autocast(enabled=use_amp):\n",
      "Epoch [1/3]: 100%|█| 662/662 [06:02<00:00,  1.83it/s, GPU_mem=8.330G, Instances=27, Size=224, loss=0.0325, top1_acc=93.\n"
     ]
    },
    {
     "name": "stdout",
     "output_type": "stream",
     "text": [
      "Epoch [1/3], Loss: 0.3405\n"
     ]
    },
    {
     "name": "stderr",
     "output_type": "stream",
     "text": [
      "Epoch [2/3]: 100%|█| 662/662 [06:01<00:00,  1.83it/s, GPU_mem=8.330G, Instances=27, Size=224, loss=0.0851, top1_acc=98.\n"
     ]
    },
    {
     "name": "stdout",
     "output_type": "stream",
     "text": [
      "Epoch [2/3], Loss: 0.0471\n"
     ]
    },
    {
     "name": "stderr",
     "output_type": "stream",
     "text": [
      "Epoch [3/3]: 100%|█| 662/662 [06:01<00:00,  1.83it/s, GPU_mem=8.330G, Instances=27, Size=224, loss=0.00942, top1_acc=99\n"
     ]
    },
    {
     "name": "stdout",
     "output_type": "stream",
     "text": [
      "Epoch [3/3], Loss: 0.0201\n"
     ]
    },
    {
     "name": "stderr",
     "output_type": "stream",
     "text": [
      "Validation: 100%|██████████████████████████| 21/21 [00:41<00:00,  1.97s/it, classes=0.988, top1_acc=98.8, top5_acc=100]"
     ]
    },
    {
     "name": "stdout",
     "output_type": "stream",
     "text": [
      "Validation Loss: 0.0440, Top-1 Accuracy: 98.78%, Top-5 Accuracy: 99.96%\n"
     ]
    },
    {
     "name": "stderr",
     "output_type": "stream",
     "text": [
      "\n"
     ]
    }
   ],
   "source": [
    "# Training with AdamWScheduleFree optimizer and no augmentations\n",
    "mymodel_AdamWScheduleFree_noAug = copy.deepcopy(model).to(device)\n",
    "num_epochs = 3  # Set the number of epochs\n",
    "lr = 5e-4\n",
    "optimizer_AdamWScheduleFree = schedulefree.AdamWScheduleFree(mymodel_AdamWScheduleFree_noAug.linear_head.parameters(), lr=lr)\n",
    "optimizer_AdamWScheduleFree.train()\n",
    "mymodel_AdamWScheduleFree_noAug = train_model_no_aug(mymodel_AdamWScheduleFree_noAug, num_epochs, optimizer_AdamWScheduleFree)\n",
    "optimizer_AdamWScheduleFree.eval()\n",
    "check_accuracy(mymodel_AdamWScheduleFree_noAug, val_dataloader)"
   ]
  },
  {
   "cell_type": "code",
   "execution_count": 40,
   "id": "b4e0d260",
   "metadata": {},
   "outputs": [],
   "source": [
    "# Save the trained model\n",
    "state = {'net': mymodel_AdamWScheduleFree_noAug.state_dict()}\n",
    "torch.save(state, '../models/DINO/Dino_AdamWScheduleFree_noAug_128_lr_5e-4.pth')"
   ]
  },
  {
   "cell_type": "code",
   "execution_count": 41,
   "id": "200ca979",
   "metadata": {},
   "outputs": [],
   "source": [
    "del mymodel_AdamWScheduleFree_noAug"
   ]
  },
  {
   "cell_type": "code",
   "execution_count": 43,
   "id": "44a1a1ab",
   "metadata": {},
   "outputs": [
    {
     "name": "stderr",
     "output_type": "stream",
     "text": [
      "Epoch [1/3]:   0%|                                                                             | 0/662 [00:00<?, ?it/s]C:\\Users\\User\\AppData\\Local\\Temp\\ipykernel_17340\\3159248368.py:13: FutureWarning: `torch.cuda.amp.autocast(args...)` is deprecated. Please use `torch.amp.autocast('cuda', args...)` instead.\n",
      "  with torch.cuda.amp.autocast(enabled=use_amp):\n",
      "Epoch [1/3]: 100%|█| 662/662 [06:04<00:00,  1.81it/s, GPU_mem=7.002G, Instances=27, Size=224, loss=0.933, top1_acc=62.5\n"
     ]
    },
    {
     "name": "stdout",
     "output_type": "stream",
     "text": [
      "Epoch [1/3], Loss: 2.7848\n"
     ]
    },
    {
     "name": "stderr",
     "output_type": "stream",
     "text": [
      "Epoch [2/3]: 100%|█| 662/662 [06:01<00:00,  1.83it/s, GPU_mem=7.002G, Instances=27, Size=224, loss=0.445, top1_acc=94.5\n"
     ]
    },
    {
     "name": "stdout",
     "output_type": "stream",
     "text": [
      "Epoch [2/3], Loss: 0.5344\n"
     ]
    },
    {
     "name": "stderr",
     "output_type": "stream",
     "text": [
      "Epoch [3/3]: 100%|█| 662/662 [05:54<00:00,  1.87it/s, GPU_mem=7.002G, Instances=27, Size=224, loss=0.215, top1_acc=96.1\n"
     ]
    },
    {
     "name": "stdout",
     "output_type": "stream",
     "text": [
      "Epoch [3/3], Loss: 0.3002\n"
     ]
    },
    {
     "name": "stderr",
     "output_type": "stream",
     "text": [
      "Validation: 100%|█████████████████████████| 21/21 [00:41<00:00,  1.96s/it, classes=0.976, top1_acc=97.6, top5_acc=99.8]"
     ]
    },
    {
     "name": "stdout",
     "output_type": "stream",
     "text": [
      "Validation Loss: 0.2232, Top-1 Accuracy: 97.64%, Top-5 Accuracy: 99.77%\n"
     ]
    },
    {
     "name": "stderr",
     "output_type": "stream",
     "text": [
      "\n"
     ]
    }
   ],
   "source": [
    "# Training with SGDScheduleFree optimizer and no augmentations(learning rate = 5e-3)\n",
    "mymodel_SGDScheduleFree_noAug = copy.deepcopy(model).to(device)\n",
    "num_epochs = 3  # Set the number of epochs\n",
    "lr = 5e-3\n",
    "optimizer_SGDScheduleFree = schedulefree.SGDScheduleFree(mymodel_SGDScheduleFree_noAug.linear_head.parameters(), lr=lr)\n",
    "optimizer_SGDScheduleFree.train()\n",
    "mymodel_SGDScheduleFree_noAug = train_model_no_aug(mymodel_SGDScheduleFree_noAug, num_epochs, optimizer_SGDScheduleFree)\n",
    "optimizer_SGDScheduleFree.eval()\n",
    "check_accuracy(mymodel_SGDScheduleFree_noAug, val_dataloader)"
   ]
  },
  {
   "cell_type": "code",
   "execution_count": 44,
   "id": "61ff4a76",
   "metadata": {},
   "outputs": [],
   "source": [
    "# Save the trained model\n",
    "state = {'net': mymodel_SGDScheduleFree_noAug.state_dict()}\n",
    "torch.save(state, '../models/DINO/Dino_SGDScheduleFree_noAug_128_lr_5e-4.pth')"
   ]
  },
  {
   "cell_type": "code",
   "execution_count": 45,
   "id": "3a7679d8",
   "metadata": {},
   "outputs": [],
   "source": [
    "del mymodel_SGDScheduleFree_noAug"
   ]
  },
  {
   "cell_type": "code",
   "execution_count": 11,
   "id": "d94f2359",
   "metadata": {
    "scrolled": true
   },
   "outputs": [
    {
     "name": "stderr",
     "output_type": "stream",
     "text": [
      "Epoch [1/3]: 100%|███████████████| 331/331 [17:13<00:00,  3.12s/it, GPU_mem=5.918G, Instances=155, Size=224, loss=5.37]\n"
     ]
    },
    {
     "name": "stdout",
     "output_type": "stream",
     "text": [
      "Epoch [1/3], Loss: 5.9340\n"
     ]
    },
    {
     "name": "stderr",
     "output_type": "stream",
     "text": [
      "Epoch [2/3]: 100%|███████████████| 331/331 [17:09<00:00,  3.11s/it, GPU_mem=5.918G, Instances=155, Size=224, loss=4.51]\n"
     ]
    },
    {
     "name": "stdout",
     "output_type": "stream",
     "text": [
      "Epoch [2/3], Loss: 4.9130\n"
     ]
    },
    {
     "name": "stderr",
     "output_type": "stream",
     "text": [
      "Epoch [3/3]: 100%|███████████████| 331/331 [17:13<00:00,  3.12s/it, GPU_mem=5.918G, Instances=155, Size=224, loss=3.54]\n"
     ]
    },
    {
     "name": "stdout",
     "output_type": "stream",
     "text": [
      "Epoch [3/3], Loss: 3.9930\n"
     ]
    },
    {
     "name": "stderr",
     "output_type": "stream",
     "text": [
      "Validation: 100%|█████████████████████████| 11/11 [00:39<00:00,  3.57s/it, classes=0.528, top1_acc=52.8, top5_acc=88.9]"
     ]
    },
    {
     "name": "stdout",
     "output_type": "stream",
     "text": [
      "Validation Loss: 3.7607, Top-1 Accuracy: 52.76%, Top-5 Accuracy: 88.91%\n"
     ]
    },
    {
     "name": "stderr",
     "output_type": "stream",
     "text": [
      "\n"
     ]
    }
   ],
   "source": [
    "# Training with SGDScheduleFree optimizer and no augmentations(learning rate = 1e-3)\n",
    "mymodel_SGDScheduleFree_noAug = copy.deepcopy(model).to(device)\n",
    "num_epochs = 3  # Set the number of epochs\n",
    "lr = 1e-3\n",
    "optimizer_SGDScheduleFree = schedulefree.SGDScheduleFree(mymodel_SGDScheduleFree_noAug.linear_head.parameters(), lr=lr)\n",
    "optimizer_SGDScheduleFree.train()\n",
    "mymodel_SGDScheduleFree_noAug = train_model_no_aug(mymodel_SGDScheduleFree_noAug, num_epochs, optimizer_SGDScheduleFree)\n",
    "optimizer_SGDScheduleFree.eval()\n",
    "check_accuracy(mymodel_SGDScheduleFree_noAug, val_dataloader)"
   ]
  },
  {
   "cell_type": "code",
   "execution_count": 12,
   "id": "655d8f4b",
   "metadata": {},
   "outputs": [],
   "source": [
    "# Save the trained model\n",
    "state = {'net': mymodel_SGDScheduleFree_noAug.state_dict()}\n",
    "torch.save(state, '../models/DINO/Dino_SGDScheduleFree_noAug_128_v2.pth')"
   ]
  },
  {
   "cell_type": "code",
   "execution_count": 13,
   "id": "7d81c87c",
   "metadata": {},
   "outputs": [],
   "source": [
    "del mymodel_SGDScheduleFree_noAug"
   ]
  },
  {
   "cell_type": "markdown",
   "id": "486bab98",
   "metadata": {},
   "source": [
    "## Set of models with the following parameters:\n",
    "1. Automatic mixed precision\n",
    "2. Batch size of 128\n",
    "4. Kornia augmentations (see specifics below)\n",
    "5. 3 epochs"
   ]
  },
  {
   "cell_type": "code",
   "execution_count": 10,
   "id": "3aa6b7af",
   "metadata": {},
   "outputs": [],
   "source": [
    "# Create an augmentation pipeline using Kornia's AugmentationSequential\n",
    "aug = AugmentationSequential(\n",
    "    # Apply a random rotation up to 45 degrees with a 30% probability\n",
    "    K.RandomRotation(degrees=45.0, p=0.3),\n",
    "    # Apply a random horizontal flip with a 30% probability\n",
    "    K.RandomHorizontalFlip(p=0.3),\n",
    "    # Apply a random vertical flip with a 30% probability\n",
    "    K.RandomVerticalFlip(p=0.3),\n",
    "    # Apply a random affine transformation with rotation up to 30 degrees with a 30% probability\n",
    "    K.RandomAffine(degrees=30.0, p=0.3)\n",
    ").to(device)"
   ]
  },
  {
   "cell_type": "code",
   "execution_count": 11,
   "id": "eb40b652",
   "metadata": {},
   "outputs": [],
   "source": [
    "use_amp = True # Flag to use automatic mixed precision for training\n",
    "scaler = torch.amp.GradScaler(device,enabled=use_amp) # GradScaler for mixed precision training\n",
    "\n",
    "# train function with augmentations\n",
    "def train_model_aug(model, num_epochs, optimizer):\n",
    "    for epoch in range(num_epochs):\n",
    "        model.train() # Set the model to training mode\n",
    "        running_loss = 0.0\n",
    "        correct_top1 = 0 # Correct predictions for top-1 accuracy\n",
    "        total = 0\n",
    "        # Use tqdm for displaying progress during training\n",
    "        train_loader_tqdm = tqdm(train_dataloader, desc=f'Epoch [{epoch+1}/{num_epochs}]', leave=True)\n",
    "        \n",
    "        for inputs, labels in train_loader_tqdm:\n",
    "            inputs, labels = aug(inputs.to(device)), labels.to(device)\n",
    "\n",
    "            optimizer.zero_grad(set_to_none=True)\n",
    "            with torch.cuda.amp.autocast(enabled=use_amp):\n",
    "                outputs = model(inputs)\n",
    "                loss = criterion(outputs, labels)\n",
    "                \n",
    "            scaler.scale(loss).backward()\n",
    "            scaler.step(optimizer)\n",
    "            scaler.update()\n",
    "\n",
    "            running_loss += loss.item()\n",
    "            gpu_mem = torch.cuda.memory_reserved() / 1e9  # Get GPU memory usage in GB\n",
    "            _, predicted = torch.max(outputs, 1)\n",
    "            total += labels.size(0)\n",
    "            correct_top1 += (predicted == labels).sum().item()\n",
    "            \n",
    "            train_loader_tqdm.set_postfix(GPU_mem=f'{gpu_mem:.3f}G', loss=loss.item(), Instances=len(inputs), Size=inputs.shape[-1], top1_acc=100 * correct_top1 / total)\n",
    "\n",
    "        print(f'Epoch [{epoch+1}/{num_epochs}], Loss: {running_loss/len(train_dataloader):.4f}')\n",
    "        \n",
    "    return model\n"
   ]
  },
  {
   "cell_type": "code",
   "execution_count": 12,
   "id": "58fd281f",
   "metadata": {},
   "outputs": [
    {
     "name": "stderr",
     "output_type": "stream",
     "text": [
      "Epoch [1/3]:   0%|                                                                             | 0/662 [00:00<?, ?it/s]C:\\Users\\User\\AppData\\Local\\Temp\\ipykernel_27744\\3954878754.py:18: FutureWarning: `torch.cuda.amp.autocast(args...)` is deprecated. Please use `torch.amp.autocast('cuda', args...)` instead.\n",
      "  with torch.cuda.amp.autocast(enabled=use_amp):\n",
      "Epoch [1/3]: 100%|█| 662/662 [06:15<00:00,  1.76it/s, GPU_mem=2.951G, Instances=27, Size=224, loss=0.425, top1_acc=90.4\n"
     ]
    },
    {
     "name": "stdout",
     "output_type": "stream",
     "text": [
      "Epoch [1/3], Loss: 0.4582\n"
     ]
    },
    {
     "name": "stderr",
     "output_type": "stream",
     "text": [
      "Epoch [2/3]: 100%|█| 662/662 [06:11<00:00,  1.78it/s, GPU_mem=2.951G, Instances=27, Size=224, loss=0.00232, top1_acc=96\n"
     ]
    },
    {
     "name": "stdout",
     "output_type": "stream",
     "text": [
      "Epoch [2/3], Loss: 0.1710\n"
     ]
    },
    {
     "name": "stderr",
     "output_type": "stream",
     "text": [
      "Epoch [3/3]: 100%|██| 662/662 [06:07<00:00,  1.80it/s, GPU_mem=2.951G, Instances=27, Size=224, loss=0.5, top1_acc=96.7]\n"
     ]
    },
    {
     "name": "stdout",
     "output_type": "stream",
     "text": [
      "Epoch [3/3], Loss: 0.1437\n"
     ]
    },
    {
     "name": "stderr",
     "output_type": "stream",
     "text": [
      "Validation: 100%|████████████████████████████| 21/21 [00:41<00:00,  2.00s/it, classes=0.97, top1_acc=97, top5_acc=99.9]"
     ]
    },
    {
     "name": "stdout",
     "output_type": "stream",
     "text": [
      "Validation Loss: 0.1545, Top-1 Accuracy: 97.03%, Top-5 Accuracy: 99.92%\n"
     ]
    },
    {
     "name": "stderr",
     "output_type": "stream",
     "text": [
      "\n"
     ]
    }
   ],
   "source": [
    "# Training with Adam optimizer and augmentations\n",
    "mymodel_Adam_Aug = copy.deepcopy(model).to(device)\n",
    "num_epochs = 3  # Set the number of epochs\n",
    "lr = 5e-4\n",
    "optimizer_Adam = torch.optim.Adam(mymodel_Adam_Aug.linear_head.parameters(), lr=lr)\n",
    "mymodel_Adam_Aug = train_model_aug(mymodel_Adam_Aug, num_epochs, optimizer_Adam)\n",
    "check_accuracy(mymodel_Adam_Aug, val_dataloader)\n"
   ]
  },
  {
   "cell_type": "code",
   "execution_count": 14,
   "id": "fb9257a3",
   "metadata": {},
   "outputs": [],
   "source": [
    "# Save the trained model\n",
    "state = {'net': mymodel_Adam_Aug.state_dict()}\n",
    "torch.save(state, '../models/DINO/Dino_Adam_Aug_128_lr_5e-4.pth')"
   ]
  },
  {
   "cell_type": "code",
   "execution_count": 15,
   "id": "a6adee9e",
   "metadata": {},
   "outputs": [],
   "source": [
    "del mymodel_Adam_Aug"
   ]
  },
  {
   "cell_type": "code",
   "execution_count": 16,
   "id": "d61c0116",
   "metadata": {
    "scrolled": true
   },
   "outputs": [
    {
     "name": "stderr",
     "output_type": "stream",
     "text": [
      "Epoch [1/3]:   0%|                                                                             | 0/662 [00:00<?, ?it/s]C:\\Users\\User\\AppData\\Local\\Temp\\ipykernel_27744\\3954878754.py:18: FutureWarning: `torch.cuda.amp.autocast(args...)` is deprecated. Please use `torch.amp.autocast('cuda', args...)` instead.\n",
      "  with torch.cuda.amp.autocast(enabled=use_amp):\n",
      "Epoch [1/3]: 100%|██| 662/662 [06:15<00:00,  1.76it/s, GPU_mem=4.228G, Instances=27, Size=224, loss=4.9, top1_acc=11.6]\n"
     ]
    },
    {
     "name": "stdout",
     "output_type": "stream",
     "text": [
      "Epoch [1/3], Loss: 5.6102\n"
     ]
    },
    {
     "name": "stderr",
     "output_type": "stream",
     "text": [
      "Epoch [2/3]: 100%|█| 662/662 [06:17<00:00,  1.75it/s, GPU_mem=4.228G, Instances=27, Size=224, loss=3.44, top1_acc=46.8]\n"
     ]
    },
    {
     "name": "stdout",
     "output_type": "stream",
     "text": [
      "Epoch [2/3], Loss: 4.1266\n"
     ]
    },
    {
     "name": "stderr",
     "output_type": "stream",
     "text": [
      "Epoch [3/3]: 100%|█| 662/662 [06:18<00:00,  1.75it/s, GPU_mem=4.228G, Instances=27, Size=224, loss=2.48, top1_acc=66.7]\n"
     ]
    },
    {
     "name": "stdout",
     "output_type": "stream",
     "text": [
      "Epoch [3/3], Loss: 2.9670\n"
     ]
    },
    {
     "name": "stderr",
     "output_type": "stream",
     "text": [
      "Validation: 100%|████████████████████████████| 21/21 [00:43<00:00,  2.05s/it, classes=0.75, top1_acc=75, top5_acc=97.1]"
     ]
    },
    {
     "name": "stdout",
     "output_type": "stream",
     "text": [
      "Validation Loss: 2.3063, Top-1 Accuracy: 75.01%, Top-5 Accuracy: 97.14%\n"
     ]
    },
    {
     "name": "stderr",
     "output_type": "stream",
     "text": [
      "\n"
     ]
    }
   ],
   "source": [
    "# Training with SGD optimizer and augmentations(learning rate = 5e-4)\n",
    "mymodel_SGD_Aug =  copy.deepcopy(model).to(device)\n",
    "num_epochs = 3  # Set the number of epochs\n",
    "lr = 5e-4\n",
    "optimizer_SGD = torch.optim.SGD(mymodel_SGD_Aug.linear_head.parameters(), lr=lr)\n",
    "mymodel_Adam_Aug = train_model_aug(mymodel_SGD_Aug, num_epochs, optimizer_SGD)\n",
    "check_accuracy(mymodel_SGD_Aug, val_dataloader)\n"
   ]
  },
  {
   "cell_type": "code",
   "execution_count": 17,
   "id": "d1885d58",
   "metadata": {},
   "outputs": [],
   "source": [
    "# Save the trained model\n",
    "state = {'net': mymodel_SGD_Aug.state_dict()}\n",
    "torch.save(state, '../models/DINO/Dino_SGD_Aug_128_lr_5e-4.pth')"
   ]
  },
  {
   "cell_type": "code",
   "execution_count": 18,
   "id": "282b74e2",
   "metadata": {},
   "outputs": [],
   "source": [
    "del mymodel_SGD_Aug"
   ]
  },
  {
   "cell_type": "code",
   "execution_count": 15,
   "id": "c2b8ce70",
   "metadata": {
    "scrolled": true
   },
   "outputs": [
    {
     "name": "stderr",
     "output_type": "stream",
     "text": [
      "Epoch [1/3]:   0%|                                                                             | 0/662 [00:00<?, ?it/s]C:\\Users\\User\\AppData\\Local\\Temp\\ipykernel_12936\\596334793.py:12: FutureWarning: `torch.cuda.amp.autocast(args...)` is deprecated. Please use `torch.amp.autocast('cuda', args...)` instead.\n",
      "  with torch.cuda.amp.autocast(enabled=use_amp):\n",
      "Epoch [1/3]: 100%|███████████████| 662/662 [06:04<00:00,  1.81it/s, GPU_mem=2.957G, Instances=27, Size=224, loss=0.619]\n"
     ]
    },
    {
     "name": "stdout",
     "output_type": "stream",
     "text": [
      "Epoch [1/3], Loss: 2.1752\n"
     ]
    },
    {
     "name": "stderr",
     "output_type": "stream",
     "text": [
      "Epoch [2/3]: 100%|███████████████| 662/662 [06:03<00:00,  1.82it/s, GPU_mem=2.957G, Instances=27, Size=224, loss=0.448]\n"
     ]
    },
    {
     "name": "stdout",
     "output_type": "stream",
     "text": [
      "Epoch [2/3], Loss: 0.4919\n"
     ]
    },
    {
     "name": "stderr",
     "output_type": "stream",
     "text": [
      "Epoch [3/3]: 100%|███████████████| 662/662 [06:04<00:00,  1.82it/s, GPU_mem=2.957G, Instances=27, Size=224, loss=0.221]\n"
     ]
    },
    {
     "name": "stdout",
     "output_type": "stream",
     "text": [
      "Epoch [3/3], Loss: 0.3225\n"
     ]
    },
    {
     "name": "stderr",
     "output_type": "stream",
     "text": [
      "Validation: 100%|█████████████████████████| 21/21 [00:41<00:00,  1.99s/it, classes=0.979, top1_acc=97.9, top5_acc=99.8]"
     ]
    },
    {
     "name": "stdout",
     "output_type": "stream",
     "text": [
      "Validation Loss: 0.1815, Top-1 Accuracy: 97.87%, Top-5 Accuracy: 99.85%\n"
     ]
    },
    {
     "name": "stderr",
     "output_type": "stream",
     "text": [
      "\n"
     ]
    }
   ],
   "source": [
    "# Training with SGD optimizer and augmentations(learning rate = 5e-3)\n",
    "mymodel_SGD_Aug =  copy.deepcopy(model).to(device)\n",
    "num_epochs = 3  # Set the number of epochs\n",
    "lr = 5e-3\n",
    "optimizer_SGD = torch.optim.SGD(mymodel_SGD_Aug.linear_head.parameters(), lr=lr)\n",
    "mymodel_Adam_Aug = train_model_aug(mymodel_SGD_Aug, num_epochs, optimizer_SGD)\n",
    "check_accuracy(mymodel_SGD_Aug, val_dataloader)\n"
   ]
  },
  {
   "cell_type": "code",
   "execution_count": 16,
   "id": "e9135c77",
   "metadata": {},
   "outputs": [],
   "source": [
    "# Save the trained model\n",
    "state = {'net': mymodel_SGD_Aug.state_dict()}\n",
    "torch.save(state, '../models/DINO/Dino_SGD_Aug_128_lr_5e-3.pth')"
   ]
  },
  {
   "cell_type": "code",
   "execution_count": 17,
   "id": "f1daeeed",
   "metadata": {},
   "outputs": [],
   "source": [
    "del mymodel_SGD_Aug"
   ]
  },
  {
   "cell_type": "code",
   "execution_count": 19,
   "id": "09518faa",
   "metadata": {},
   "outputs": [
    {
     "name": "stderr",
     "output_type": "stream",
     "text": [
      "Epoch [1/3]:   0%|                                                                             | 0/662 [00:00<?, ?it/s]C:\\Users\\User\\AppData\\Local\\Temp\\ipykernel_27744\\3954878754.py:18: FutureWarning: `torch.cuda.amp.autocast(args...)` is deprecated. Please use `torch.amp.autocast('cuda', args...)` instead.\n",
      "  with torch.cuda.amp.autocast(enabled=use_amp):\n",
      "Epoch [1/3]: 100%|█| 662/662 [06:17<00:00,  1.75it/s, GPU_mem=5.711G, Instances=27, Size=224, loss=0.0421, top1_acc=90.\n"
     ]
    },
    {
     "name": "stdout",
     "output_type": "stream",
     "text": [
      "Epoch [1/3], Loss: 0.4564\n"
     ]
    },
    {
     "name": "stderr",
     "output_type": "stream",
     "text": [
      "Epoch [2/3]: 100%|█| 662/662 [06:14<00:00,  1.77it/s, GPU_mem=5.711G, Instances=27, Size=224, loss=0.217, top1_acc=95.9\n"
     ]
    },
    {
     "name": "stdout",
     "output_type": "stream",
     "text": [
      "Epoch [2/3], Loss: 0.1767\n"
     ]
    },
    {
     "name": "stderr",
     "output_type": "stream",
     "text": [
      "Epoch [3/3]: 100%|█| 662/662 [06:20<00:00,  1.74it/s, GPU_mem=5.711G, Instances=27, Size=224, loss=0.0163, top1_acc=96.\n"
     ]
    },
    {
     "name": "stdout",
     "output_type": "stream",
     "text": [
      "Epoch [3/3], Loss: 0.1455\n"
     ]
    },
    {
     "name": "stderr",
     "output_type": "stream",
     "text": [
      "Validation: 100%|█████████████████████████| 21/21 [00:41<00:00,  1.99s/it, classes=0.971, top1_acc=97.1, top5_acc=99.9]"
     ]
    },
    {
     "name": "stdout",
     "output_type": "stream",
     "text": [
      "Validation Loss: 0.1144, Top-1 Accuracy: 97.10%, Top-5 Accuracy: 99.92%\n"
     ]
    },
    {
     "name": "stderr",
     "output_type": "stream",
     "text": [
      "\n"
     ]
    }
   ],
   "source": [
    "# Training with AdamW optimizer and augmentations\n",
    "mymodel_AdamW_Aug =  copy.deepcopy(model).to(device)\n",
    "num_epochs = 3  # Set the number of epochs\n",
    "lr = 5e-4\n",
    "optimizer_AdamW = torch.optim.AdamW(mymodel_AdamW_Aug.linear_head.parameters(), lr=lr)\n",
    "mymodel_AdamW_Aug = train_model_aug(mymodel_AdamW_Aug, num_epochs, optimizer_AdamW)\n",
    "check_accuracy(mymodel_AdamW_Aug, val_dataloader)\n"
   ]
  },
  {
   "cell_type": "code",
   "execution_count": 20,
   "id": "7b42aa41",
   "metadata": {},
   "outputs": [],
   "source": [
    "# Save the trained model\n",
    "state = {'net': mymodel_AdamW_Aug.state_dict()}\n",
    "torch.save(state, '../models/DINO/Dino_AdamW_Aug_128_lr_5e-4.pth')"
   ]
  },
  {
   "cell_type": "code",
   "execution_count": 21,
   "id": "9e24e282",
   "metadata": {},
   "outputs": [],
   "source": [
    "del mymodel_AdamW_Aug"
   ]
  },
  {
   "cell_type": "code",
   "execution_count": 22,
   "id": "d602e738",
   "metadata": {},
   "outputs": [
    {
     "name": "stderr",
     "output_type": "stream",
     "text": [
      "Epoch [1/3]:   0%|                                                                             | 0/662 [00:00<?, ?it/s]C:\\Users\\User\\AppData\\Local\\Temp\\ipykernel_27744\\3954878754.py:18: FutureWarning: `torch.cuda.amp.autocast(args...)` is deprecated. Please use `torch.amp.autocast('cuda', args...)` instead.\n",
      "  with torch.cuda.amp.autocast(enabled=use_amp):\n",
      "Epoch [1/3]: 100%|█| 662/662 [06:10<00:00,  1.79it/s, GPU_mem=5.713G, Instances=27, Size=224, loss=0.0817, top1_acc=89.\n"
     ]
    },
    {
     "name": "stdout",
     "output_type": "stream",
     "text": [
      "Epoch [1/3], Loss: 0.6279\n"
     ]
    },
    {
     "name": "stderr",
     "output_type": "stream",
     "text": [
      "Epoch [2/3]: 100%|█| 662/662 [06:02<00:00,  1.83it/s, GPU_mem=5.713G, Instances=27, Size=224, loss=0.185, top1_acc=95.9\n"
     ]
    },
    {
     "name": "stdout",
     "output_type": "stream",
     "text": [
      "Epoch [2/3], Loss: 0.1963\n"
     ]
    },
    {
     "name": "stderr",
     "output_type": "stream",
     "text": [
      "Epoch [3/3]: 100%|█| 662/662 [06:03<00:00,  1.82it/s, GPU_mem=5.713G, Instances=27, Size=224, loss=0.0905, top1_acc=96.\n"
     ]
    },
    {
     "name": "stdout",
     "output_type": "stream",
     "text": [
      "Epoch [3/3], Loss: 0.1561\n"
     ]
    },
    {
     "name": "stderr",
     "output_type": "stream",
     "text": [
      "Validation: 100%|█████████████████████████| 21/21 [00:41<00:00,  1.96s/it, classes=0.974, top1_acc=97.4, top5_acc=99.9]"
     ]
    },
    {
     "name": "stdout",
     "output_type": "stream",
     "text": [
      "Validation Loss: 0.1551, Top-1 Accuracy: 97.37%, Top-5 Accuracy: 99.89%\n"
     ]
    },
    {
     "name": "stderr",
     "output_type": "stream",
     "text": [
      "\n"
     ]
    }
   ],
   "source": [
    "# Training with RMSProp optimizer and augmentations\n",
    "mymodel_RMSProp_Aug =  copy.deepcopy(model).to(device)\n",
    "num_epochs = 3  # Set the number of epochs\n",
    "lr = 5e-4\n",
    "optimizer_RMSProp = torch.optim.RMSprop(mymodel_RMSProp_Aug.linear_head.parameters(), lr=lr)\n",
    "mymodel_RMSProp_Aug = train_model_aug(mymodel_RMSProp_Aug, num_epochs, optimizer_RMSProp)\n",
    "check_accuracy(mymodel_RMSProp_Aug, val_dataloader)\n"
   ]
  },
  {
   "cell_type": "code",
   "execution_count": 23,
   "id": "47fcbe89",
   "metadata": {},
   "outputs": [],
   "source": [
    "# Save the trained model\n",
    "state = {'net': mymodel_RMSProp_Aug.state_dict()}\n",
    "torch.save(state, '../models/DINO/Dino_RMSProp_Aug_128_lr_5e-4.pth')"
   ]
  },
  {
   "cell_type": "code",
   "execution_count": 24,
   "id": "f1ab52a4",
   "metadata": {},
   "outputs": [],
   "source": [
    "del mymodel_RMSProp_Aug"
   ]
  },
  {
   "cell_type": "code",
   "execution_count": 37,
   "id": "1dafc735",
   "metadata": {},
   "outputs": [
    {
     "name": "stderr",
     "output_type": "stream",
     "text": [
      "Epoch [1/3]:   0%|                                                                             | 0/662 [00:00<?, ?it/s]C:\\Users\\User\\AppData\\Local\\Temp\\ipykernel_10912\\596334793.py:12: FutureWarning: `torch.cuda.amp.autocast(args...)` is deprecated. Please use `torch.amp.autocast('cuda', args...)` instead.\n",
      "  with torch.cuda.amp.autocast(enabled=use_amp):\n",
      "Epoch [1/3]: 100%|██████████████| 662/662 [06:13<00:00,  1.77it/s, GPU_mem=5.929G, Instances=27, Size=224, loss=0.0525]\n"
     ]
    },
    {
     "name": "stdout",
     "output_type": "stream",
     "text": [
      "Epoch [1/3], Loss: 0.5091\n"
     ]
    },
    {
     "name": "stderr",
     "output_type": "stream",
     "text": [
      "Epoch [2/3]: 100%|███████████████| 662/662 [06:06<00:00,  1.80it/s, GPU_mem=5.929G, Instances=27, Size=224, loss=0.238]\n"
     ]
    },
    {
     "name": "stdout",
     "output_type": "stream",
     "text": [
      "Epoch [2/3], Loss: 0.1145\n"
     ]
    },
    {
     "name": "stderr",
     "output_type": "stream",
     "text": [
      "Epoch [3/3]: 100%|██████████████| 662/662 [06:03<00:00,  1.82it/s, GPU_mem=5.929G, Instances=27, Size=224, loss=0.0498]\n"
     ]
    },
    {
     "name": "stdout",
     "output_type": "stream",
     "text": [
      "Epoch [3/3], Loss: 0.0832\n"
     ]
    },
    {
     "name": "stderr",
     "output_type": "stream",
     "text": [
      "Validation: 100%|██████████████████████████| 21/21 [00:41<00:00,  1.96s/it, classes=0.983, top1_acc=98.3, top5_acc=100]"
     ]
    },
    {
     "name": "stdout",
     "output_type": "stream",
     "text": [
      "Validation Loss: 0.0685, Top-1 Accuracy: 98.29%, Top-5 Accuracy: 99.96%\n"
     ]
    },
    {
     "name": "stderr",
     "output_type": "stream",
     "text": [
      "\n"
     ]
    }
   ],
   "source": [
    "# Training with NAdam optimizer and augmentations\n",
    "mymodel_NAdam_Aug =  copy.deepcopy(model).to(device)\n",
    "num_epochs = 3  # Set the number of epochs\n",
    "lr = 5e-4\n",
    "optimizer_NAdam = torch.optim.NAdam(mymodel_NAdam_Aug.linear_head.parameters(), lr=lr)\n",
    "mymodel_Adam_Aug = train_model_aug(mymodel_NAdam_Aug, num_epochs, optimizer_NAdam)\n",
    "check_accuracy(mymodel_NAdam_Aug, val_dataloader)\n"
   ]
  },
  {
   "cell_type": "code",
   "execution_count": 39,
   "id": "4d4be53a",
   "metadata": {},
   "outputs": [],
   "source": [
    "# Save the trained model\n",
    "state = {'net': mymodel_NAdam_Aug.state_dict()}\n",
    "torch.save(state, '../models/DINO/Dino_NAdam_Aug_128_lr_5e-4.pth')"
   ]
  },
  {
   "cell_type": "code",
   "execution_count": 40,
   "id": "c69e81b5",
   "metadata": {},
   "outputs": [],
   "source": [
    "del mymodel_NAdam_Aug"
   ]
  },
  {
   "cell_type": "code",
   "execution_count": 25,
   "id": "21db1b9e",
   "metadata": {},
   "outputs": [
    {
     "name": "stderr",
     "output_type": "stream",
     "text": [
      "Epoch [1/3]:   0%|                                                                             | 0/662 [00:00<?, ?it/s]C:\\Users\\User\\AppData\\Local\\Temp\\ipykernel_27744\\3954878754.py:18: FutureWarning: `torch.cuda.amp.autocast(args...)` is deprecated. Please use `torch.amp.autocast('cuda', args...)` instead.\n",
      "  with torch.cuda.amp.autocast(enabled=use_amp):\n",
      "Epoch [1/3]: 100%|█| 662/662 [06:03<00:00,  1.82it/s, GPU_mem=6.252G, Instances=27, Size=224, loss=0.0253, top1_acc=90.\n"
     ]
    },
    {
     "name": "stdout",
     "output_type": "stream",
     "text": [
      "Epoch [1/3], Loss: 0.4553\n"
     ]
    },
    {
     "name": "stderr",
     "output_type": "stream",
     "text": [
      "Epoch [2/3]: 100%|██| 662/662 [06:05<00:00,  1.81it/s, GPU_mem=6.252G, Instances=27, Size=224, loss=0.538, top1_acc=96]\n"
     ]
    },
    {
     "name": "stdout",
     "output_type": "stream",
     "text": [
      "Epoch [2/3], Loss: 0.1732\n"
     ]
    },
    {
     "name": "stderr",
     "output_type": "stream",
     "text": [
      "Epoch [3/3]: 100%|█| 662/662 [06:09<00:00,  1.79it/s, GPU_mem=6.252G, Instances=27, Size=224, loss=0.00202, top1_acc=96\n"
     ]
    },
    {
     "name": "stdout",
     "output_type": "stream",
     "text": [
      "Epoch [3/3], Loss: 0.1450\n"
     ]
    },
    {
     "name": "stderr",
     "output_type": "stream",
     "text": [
      "Validation: 100%|█████████████████████████| 21/21 [00:41<00:00,  1.99s/it, classes=0.971, top1_acc=97.1, top5_acc=99.9]"
     ]
    },
    {
     "name": "stdout",
     "output_type": "stream",
     "text": [
      "Validation Loss: 0.1453, Top-1 Accuracy: 97.07%, Top-5 Accuracy: 99.89%\n"
     ]
    },
    {
     "name": "stderr",
     "output_type": "stream",
     "text": [
      "\n"
     ]
    }
   ],
   "source": [
    "# Training with RAdam optimizer and augmentations\n",
    "mymodel_RAdam_Aug = copy.deepcopy(model).to(device)\n",
    "num_epochs = 3  # Set the number of epochs\n",
    "lr = 5e-4\n",
    "optimizer_RAdam = torch.optim.Adam(mymodel_RAdam_Aug.linear_head.parameters(), lr=lr)\n",
    "mymodel_Adam_Aug = train_model_aug(mymodel_RAdam_Aug, num_epochs, optimizer_RAdam)\n",
    "check_accuracy(mymodel_RAdam_Aug, val_dataloader)\n"
   ]
  },
  {
   "cell_type": "code",
   "execution_count": 26,
   "id": "d92059b0",
   "metadata": {},
   "outputs": [],
   "source": [
    "# Save the trained model\n",
    "state = {'net': mymodel_RAdam_Aug.state_dict()}\n",
    "torch.save(state, '../models/DINO/Dino_RAdam_Aug_128_lr_5e-4.pth')"
   ]
  },
  {
   "cell_type": "code",
   "execution_count": 27,
   "id": "c8bb884e",
   "metadata": {},
   "outputs": [],
   "source": [
    "del mymodel_RAdam_Aug"
   ]
  },
  {
   "cell_type": "code",
   "execution_count": 28,
   "id": "19fc9a97",
   "metadata": {},
   "outputs": [
    {
     "name": "stderr",
     "output_type": "stream",
     "text": [
      "Epoch [1/3]:   0%|                                                                             | 0/662 [00:00<?, ?it/s]C:\\Users\\User\\AppData\\Local\\Temp\\ipykernel_27744\\3954878754.py:18: FutureWarning: `torch.cuda.amp.autocast(args...)` is deprecated. Please use `torch.amp.autocast('cuda', args...)` instead.\n",
      "  with torch.cuda.amp.autocast(enabled=use_amp):\n",
      "Epoch [1/3]: 100%|█| 662/662 [06:06<00:00,  1.80it/s, GPU_mem=6.252G, Instances=27, Size=224, loss=0.0886, top1_acc=92.\n"
     ]
    },
    {
     "name": "stdout",
     "output_type": "stream",
     "text": [
      "Epoch [1/3], Loss: 0.3971\n"
     ]
    },
    {
     "name": "stderr",
     "output_type": "stream",
     "text": [
      "Epoch [2/3]: 100%|█| 662/662 [06:07<00:00,  1.80it/s, GPU_mem=6.252G, Instances=27, Size=224, loss=0.244, top1_acc=98.1\n"
     ]
    },
    {
     "name": "stdout",
     "output_type": "stream",
     "text": [
      "Epoch [2/3], Loss: 0.0750\n"
     ]
    },
    {
     "name": "stderr",
     "output_type": "stream",
     "text": [
      "Epoch [3/3]: 100%|█| 662/662 [06:11<00:00,  1.78it/s, GPU_mem=6.252G, Instances=27, Size=224, loss=0.0966, top1_acc=98.\n"
     ]
    },
    {
     "name": "stdout",
     "output_type": "stream",
     "text": [
      "Epoch [3/3], Loss: 0.0440\n"
     ]
    },
    {
     "name": "stderr",
     "output_type": "stream",
     "text": [
      "Validation: 100%|██████████████████████████| 21/21 [00:41<00:00,  1.97s/it, classes=0.991, top1_acc=99.1, top5_acc=100]"
     ]
    },
    {
     "name": "stdout",
     "output_type": "stream",
     "text": [
      "Validation Loss: 0.0423, Top-1 Accuracy: 99.12%, Top-5 Accuracy: 100.00%\n"
     ]
    },
    {
     "name": "stderr",
     "output_type": "stream",
     "text": [
      "\n"
     ]
    }
   ],
   "source": [
    "# Training with AdamWScheduleFree optimizer and augmentations\n",
    "mymodel_AdamWScheduleFree_Aug = copy.deepcopy(model).to(device)\n",
    "num_epochs = 3  # Set the number of epochs\n",
    "lr = 5e-4\n",
    "optimizer_AdamWScheduleFree = schedulefree.AdamWScheduleFree(mymodel_AdamWScheduleFree_Aug.linear_head.parameters(), lr=lr)\n",
    "optimizer_AdamWScheduleFree.train()\n",
    "mymodel_AdamWScheduleFree_Aug = train_model_aug(mymodel_AdamWScheduleFree_Aug, num_epochs, optimizer_AdamWScheduleFree)\n",
    "optimizer_AdamWScheduleFree.eval()\n",
    "check_accuracy(mymodel_AdamWScheduleFree_Aug, val_dataloader)"
   ]
  },
  {
   "cell_type": "code",
   "execution_count": 29,
   "id": "f8f3e9a1",
   "metadata": {},
   "outputs": [],
   "source": [
    "# Save the trained model\n",
    "state = {'net': mymodel_AdamWScheduleFree_Aug.state_dict()}\n",
    "torch.save(state, '../models/DINO/Dino_AdamWScheduleFree_Aug_128_lr_5e-4.pth')"
   ]
  },
  {
   "cell_type": "code",
   "execution_count": 30,
   "id": "44476cc0",
   "metadata": {},
   "outputs": [],
   "source": [
    "del mymodel_AdamWScheduleFree_Aug"
   ]
  },
  {
   "cell_type": "code",
   "execution_count": 31,
   "id": "93e825ce",
   "metadata": {},
   "outputs": [
    {
     "name": "stderr",
     "output_type": "stream",
     "text": [
      "Epoch [1/3]:   0%|                                                                             | 0/662 [00:00<?, ?it/s]C:\\Users\\User\\AppData\\Local\\Temp\\ipykernel_27744\\3954878754.py:18: FutureWarning: `torch.cuda.amp.autocast(args...)` is deprecated. Please use `torch.amp.autocast('cuda', args...)` instead.\n",
      "  with torch.cuda.amp.autocast(enabled=use_amp):\n",
      "Epoch [1/3]: 100%|█| 662/662 [06:10<00:00,  1.79it/s, GPU_mem=6.252G, Instances=27, Size=224, loss=5.62, top1_acc=3.67]\n"
     ]
    },
    {
     "name": "stdout",
     "output_type": "stream",
     "text": [
      "Epoch [1/3], Loss: 5.9631\n"
     ]
    },
    {
     "name": "stderr",
     "output_type": "stream",
     "text": [
      "Epoch [2/3]: 100%|█| 662/662 [06:05<00:00,  1.81it/s, GPU_mem=6.252G, Instances=27, Size=224, loss=4.54, top1_acc=24.1]\n"
     ]
    },
    {
     "name": "stdout",
     "output_type": "stream",
     "text": [
      "Epoch [2/3], Loss: 5.0704\n"
     ]
    },
    {
     "name": "stderr",
     "output_type": "stream",
     "text": [
      "Epoch [3/3]: 100%|█| 662/662 [06:23<00:00,  1.72it/s, GPU_mem=6.252G, Instances=27, Size=224, loss=3.94, top1_acc=44.1]\n"
     ]
    },
    {
     "name": "stdout",
     "output_type": "stream",
     "text": [
      "Epoch [3/3], Loss: 4.2576\n"
     ]
    },
    {
     "name": "stderr",
     "output_type": "stream",
     "text": [
      "Validation: 100%|█████████████████████████| 21/21 [00:42<00:00,  2.02s/it, classes=0.486, top1_acc=48.6, top5_acc=83.5]"
     ]
    },
    {
     "name": "stdout",
     "output_type": "stream",
     "text": [
      "Validation Loss: 3.9643, Top-1 Accuracy: 48.65%, Top-5 Accuracy: 83.50%\n"
     ]
    },
    {
     "name": "stderr",
     "output_type": "stream",
     "text": [
      "\n"
     ]
    }
   ],
   "source": [
    "# Training with SGD optimizer and augmentations(learning rate = 5e-4)\n",
    "mymodel_SGDScheduleFree_Aug = copy.deepcopy(model).to(device)\n",
    "num_epochs = 3  # Set the number of epochs\n",
    "lr = 5e-4\n",
    "optimizer_SGDScheduleFree = schedulefree.SGDScheduleFree(mymodel_SGDScheduleFree_Aug.linear_head.parameters(), lr=lr)\n",
    "optimizer_SGDScheduleFree.train()\n",
    "mymodel_SGDScheduleFree_Aug = train_model_aug(mymodel_SGDScheduleFree_Aug, num_epochs, optimizer_SGDScheduleFree)\n",
    "optimizer_SGDScheduleFree.eval()\n",
    "check_accuracy(mymodel_SGDScheduleFree_Aug, val_dataloader)"
   ]
  },
  {
   "cell_type": "code",
   "execution_count": 32,
   "id": "a5a22c47",
   "metadata": {},
   "outputs": [],
   "source": [
    "# Save the trained model\n",
    "state = {'net': mymodel_SGDScheduleFree_Aug.state_dict()}\n",
    "torch.save(state, '../models/DINO/Dino_SGDScheduleFree_Aug_128_lr_5e-4.pth')"
   ]
  },
  {
   "cell_type": "code",
   "execution_count": 33,
   "id": "2f293e60",
   "metadata": {},
   "outputs": [],
   "source": [
    "del mymodel_SGDScheduleFree_Aug"
   ]
  },
  {
   "cell_type": "code",
   "execution_count": 34,
   "id": "5973563d",
   "metadata": {},
   "outputs": [
    {
     "name": "stderr",
     "output_type": "stream",
     "text": [
      "Epoch [1/3]:   0%|                                                                             | 0/662 [00:00<?, ?it/s]C:\\Users\\User\\AppData\\Local\\Temp\\ipykernel_27744\\3954878754.py:18: FutureWarning: `torch.cuda.amp.autocast(args...)` is deprecated. Please use `torch.amp.autocast('cuda', args...)` instead.\n",
      "  with torch.cuda.amp.autocast(enabled=use_amp):\n",
      "Epoch [1/3]: 100%|█| 662/662 [06:19<00:00,  1.75it/s, GPU_mem=6.252G, Instances=27, Size=224, loss=4.59, top1_acc=13.6]\n"
     ]
    },
    {
     "name": "stdout",
     "output_type": "stream",
     "text": [
      "Epoch [1/3], Loss: 5.5243\n"
     ]
    },
    {
     "name": "stderr",
     "output_type": "stream",
     "text": [
      "Epoch [2/3]: 100%|█| 662/662 [06:13<00:00,  1.77it/s, GPU_mem=6.252G, Instances=27, Size=224, loss=3.09, top1_acc=50.1]\n"
     ]
    },
    {
     "name": "stdout",
     "output_type": "stream",
     "text": [
      "Epoch [2/3], Loss: 3.8937\n"
     ]
    },
    {
     "name": "stderr",
     "output_type": "stream",
     "text": [
      "Epoch [3/3]: 100%|█| 662/662 [06:13<00:00,  1.77it/s, GPU_mem=6.252G, Instances=27, Size=224, loss=2.16, top1_acc=68.6]\n"
     ]
    },
    {
     "name": "stdout",
     "output_type": "stream",
     "text": [
      "Epoch [3/3], Loss: 2.6438\n"
     ]
    },
    {
     "name": "stderr",
     "output_type": "stream",
     "text": [
      "Validation: 100%|█████████████████████████| 21/21 [00:41<00:00,  1.98s/it, classes=0.735, top1_acc=73.5, top5_acc=96.9]"
     ]
    },
    {
     "name": "stdout",
     "output_type": "stream",
     "text": [
      "Validation Loss: 2.2124, Top-1 Accuracy: 73.52%, Top-5 Accuracy: 96.88%\n"
     ]
    },
    {
     "name": "stderr",
     "output_type": "stream",
     "text": [
      "\n"
     ]
    }
   ],
   "source": [
    "# Training with SGD optimizer and augmentations(learning rate = 5e-4)\n",
    "mymodel_SGDScheduleFree_Aug = copy.deepcopy(model).to(device)\n",
    "num_epochs = 3  # Set the number of epochs\n",
    "lr = 1e-3\n",
    "optimizer_SGDScheduleFree = schedulefree.SGDScheduleFree(mymodel_SGDScheduleFree_Aug.linear_head.parameters(), lr=lr)\n",
    "optimizer_SGDScheduleFree.train()\n",
    "mymodel_SGDScheduleFree_Aug = train_model_aug(mymodel_SGDScheduleFree_Aug, num_epochs, optimizer_SGDScheduleFree)\n",
    "optimizer_SGDScheduleFree.eval()\n",
    "check_accuracy(mymodel_SGDScheduleFree_Aug, val_dataloader)"
   ]
  },
  {
   "cell_type": "code",
   "execution_count": 35,
   "id": "2593f206",
   "metadata": {},
   "outputs": [],
   "source": [
    "# Save the trained model\n",
    "state = {'net': mymodel_SGDScheduleFree_Aug.state_dict()}\n",
    "torch.save(state, '../models/DINO/Dino_SGDScheduleFree_Aug_128_lr_1e-3.pth')"
   ]
  },
  {
   "cell_type": "code",
   "execution_count": 36,
   "id": "9968fb32",
   "metadata": {},
   "outputs": [],
   "source": [
    "del mymodel_SGDScheduleFree_Aug"
   ]
  },
  {
   "cell_type": "code",
   "execution_count": 37,
   "id": "98090db6",
   "metadata": {
    "scrolled": true
   },
   "outputs": [
    {
     "name": "stderr",
     "output_type": "stream",
     "text": [
      "Epoch [1/3]:   0%|                                                                             | 0/662 [00:00<?, ?it/s]C:\\Users\\User\\AppData\\Local\\Temp\\ipykernel_27744\\3954878754.py:18: FutureWarning: `torch.cuda.amp.autocast(args...)` is deprecated. Please use `torch.amp.autocast('cuda', args...)` instead.\n",
      "  with torch.cuda.amp.autocast(enabled=use_amp):\n",
      "Epoch [1/3]: 100%|███| 662/662 [06:15<00:00,  1.76it/s, GPU_mem=6.252G, Instances=27, Size=224, loss=1.14, top1_acc=58]\n"
     ]
    },
    {
     "name": "stdout",
     "output_type": "stream",
     "text": [
      "Epoch [1/3], Loss: 3.0721\n"
     ]
    },
    {
     "name": "stderr",
     "output_type": "stream",
     "text": [
      "Epoch [2/3]: 100%|█| 662/662 [06:15<00:00,  1.76it/s, GPU_mem=6.252G, Instances=27, Size=224, loss=0.263, top1_acc=92.8\n"
     ]
    },
    {
     "name": "stdout",
     "output_type": "stream",
     "text": [
      "Epoch [2/3], Loss: 0.6978\n"
     ]
    },
    {
     "name": "stderr",
     "output_type": "stream",
     "text": [
      "Epoch [3/3]: 100%|██| 662/662 [06:15<00:00,  1.76it/s, GPU_mem=6.252G, Instances=27, Size=224, loss=0.234, top1_acc=95]\n"
     ]
    },
    {
     "name": "stdout",
     "output_type": "stream",
     "text": [
      "Epoch [3/3], Loss: 0.3842\n"
     ]
    },
    {
     "name": "stderr",
     "output_type": "stream",
     "text": [
      "Validation: 100%|████████████████████████████| 21/21 [00:41<00:00,  1.99s/it, classes=0.97, top1_acc=97, top5_acc=99.8]"
     ]
    },
    {
     "name": "stdout",
     "output_type": "stream",
     "text": [
      "Validation Loss: 0.2355, Top-1 Accuracy: 96.99%, Top-5 Accuracy: 99.81%\n"
     ]
    },
    {
     "name": "stderr",
     "output_type": "stream",
     "text": [
      "\n"
     ]
    }
   ],
   "source": [
    "# Training with SGD optimizer and augmentations(learning rate = 5e-3)\n",
    "mymodel_SGDScheduleFree_Aug = copy.deepcopy(model).to(device)\n",
    "num_epochs = 3  # Set the number of epochs\n",
    "lr = 5e-3\n",
    "optimizer_SGDScheduleFree = schedulefree.SGDScheduleFree(mymodel_SGDScheduleFree_Aug.linear_head.parameters(), lr=lr)\n",
    "optimizer_SGDScheduleFree.train()\n",
    "mymodel_SGDScheduleFree_Aug = train_model_aug(mymodel_SGDScheduleFree_Aug, num_epochs, optimizer_SGDScheduleFree)\n",
    "optimizer_SGDScheduleFree.eval()\n",
    "check_accuracy(mymodel_SGDScheduleFree_Aug, val_dataloader)"
   ]
  },
  {
   "cell_type": "code",
   "execution_count": 38,
   "id": "5ef92c38",
   "metadata": {},
   "outputs": [],
   "source": [
    "# Save the trained model\n",
    "state = {'net': mymodel_SGDScheduleFree_Aug.state_dict()}\n",
    "torch.save(state, '../models/DINO/Dino_SGDScheduleFree_Aug_128_lr_5e-3.pth')"
   ]
  },
  {
   "cell_type": "code",
   "execution_count": 39,
   "id": "20cc1af0",
   "metadata": {},
   "outputs": [],
   "source": [
    "del mymodel_SGDScheduleFree_Aug"
   ]
  }
 ],
 "metadata": {
  "kernelspec": {
   "display_name": "Python 3 (ipykernel)",
   "language": "python",
   "name": "python3"
  },
  "language_info": {
   "codemirror_mode": {
    "name": "ipython",
    "version": 3
   },
   "file_extension": ".py",
   "mimetype": "text/x-python",
   "name": "python",
   "nbconvert_exporter": "python",
   "pygments_lexer": "ipython3",
   "version": "3.8.18"
  }
 },
 "nbformat": 4,
 "nbformat_minor": 5
}
