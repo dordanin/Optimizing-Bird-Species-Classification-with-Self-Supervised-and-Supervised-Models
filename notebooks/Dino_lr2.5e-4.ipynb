{
 "cells": [
  {
   "cell_type": "markdown",
   "id": "1eca50ef",
   "metadata": {},
   "source": [
    "# Notebool for DINOv2 models with learning rate 2.5e-4"
   ]
  },
  {
   "cell_type": "code",
   "execution_count": 1,
   "id": "ae33414c-5e75-4e19-ad94-01b8745c7fa3",
   "metadata": {},
   "outputs": [
    {
     "name": "stderr",
     "output_type": "stream",
     "text": [
      "C:\\Users\\User\\anaconda3\\envs\\deep_learn\\lib\\site-packages\\kornia\\feature\\lightglue.py:44: FutureWarning: `torch.cuda.amp.custom_fwd(args...)` is deprecated. Please use `torch.amp.custom_fwd(args..., device_type='cuda')` instead.\n",
      "  @torch.cuda.amp.custom_fwd(cast_inputs=torch.float32)\n"
     ]
    }
   ],
   "source": [
    "import copy\n",
    "import os\n",
    "\n",
    "import torch\n",
    "import torchvision\n",
    "from torch import nn\n",
    "import torch\n",
    "import torch.nn as nn\n",
    "import torchvision.datasets as datasets\n",
    "import torchvision.transforms as transforms\n",
    "from torch.utils.data import DataLoader\n",
    "\n",
    "from tqdm import tqdm\n",
    "import schedulefree\n",
    "\n",
    "from kornia import augmentation as K\n",
    "from kornia.augmentation import AugmentationSequential"
   ]
  },
  {
   "cell_type": "code",
   "execution_count": 3,
   "id": "2ae723be-0463-4b3f-bd62-b51d61da39ad",
   "metadata": {},
   "outputs": [
    {
     "name": "stderr",
     "output_type": "stream",
     "text": [
      "Using cache found in C:\\Users\\User/.cache\\torch\\hub\\facebookresearch_dinov2_main\n"
     ]
    }
   ],
   "source": [
    "# Load a pre-trained DINOv2 model from Facebook Research using torch hub\n",
    "model = torch.hub.load('facebookresearch/dinov2', 'dinov2_vitl14_lc')"
   ]
  },
  {
   "cell_type": "code",
   "execution_count": 4,
   "id": "b72f83db-3802-493e-80a5-01bacc445ddc",
   "metadata": {},
   "outputs": [],
   "source": [
    "# Freeze all model parameters to avoid updating them during training\n",
    "for param in model.parameters():\n",
    "    param.requires_grad = False"
   ]
  },
  {
   "cell_type": "code",
   "execution_count": 5,
   "id": "024cc910-7a4e-4f26-95ad-cbecb088d23b",
   "metadata": {},
   "outputs": [],
   "source": [
    "# Add a linear head to the model\n",
    "num_classes = 525\n",
    "model.linear_head = torch.nn.Linear(model.linear_head.in_features, num_classes)\n",
    "\n",
    "# Enable training only for the linear head (parameters of the added layer)\n",
    "for param in model.linear_head.parameters():\n",
    "    param.requires_grad = True"
   ]
  },
  {
   "cell_type": "markdown",
   "id": "e0083bd1",
   "metadata": {},
   "source": [
    "## Set of models with the following parameters:\n",
    "1. Fixed precision\n",
    "2. Batch size of 256\n",
    "4. No augmentations\n",
    "5. 3 epochs"
   ]
  },
  {
   "cell_type": "code",
   "execution_count": 6,
   "id": "ee0a5816-8adc-4741-8509-9b21f14d31b1",
   "metadata": {},
   "outputs": [],
   "source": [
    "# Define a set of transformations to resize and convert images to tensors\n",
    "transform = transforms.Compose([\n",
    "    transforms.Resize((224, 224)),\n",
    "    transforms.ToTensor(),\n",
    "])"
   ]
  },
  {
   "cell_type": "code",
   "execution_count": 7,
   "id": "40d6b6da-b47b-4476-9052-aa8d061ef7c2",
   "metadata": {},
   "outputs": [],
   "source": [
    "# Load training and validation datasets from the specified directories\n",
    "train_dataset = datasets.ImageFolder('../dataset/train', transform=transform)\n",
    "val_dataset = datasets.ImageFolder('../dataset/val', transform=transform)\n",
    "\n",
    "# Create data loaders for training and validation datasets(with batch size = 256)\n",
    "train_dataloader = torch.utils.data.DataLoader(\n",
    "    train_dataset,\n",
    "    batch_size=256,\n",
    "    shuffle=True,\n",
    "    num_workers=4,\n",
    "    pin_memory=True\n",
    ")\n",
    "\n",
    "val_dataloader = torch.utils.data.DataLoader(\n",
    "    val_dataset,\n",
    "    batch_size=256,\n",
    "    shuffle=False,\n",
    "    num_workers=4,\n",
    "    pin_memory=True\n",
    ")\n"
   ]
  },
  {
   "cell_type": "code",
   "execution_count": 8,
   "id": "ffc8ca2e-c715-438b-a4f4-8f1156189155",
   "metadata": {},
   "outputs": [],
   "source": [
    "# Set the device to GPU if available, otherwise use CPU\n",
    "device = torch.device('cuda' if torch.cuda.is_available() else 'cpu')\n",
    "\n",
    "# Define the loss function (cross-entropy) for classification tasks\n",
    "criterion = nn.CrossEntropyLoss().to(device)"
   ]
  },
  {
   "cell_type": "code",
   "execution_count": 9,
   "id": "af42d185",
   "metadata": {},
   "outputs": [],
   "source": [
    "# function for calculating and displaying model accuracy\n",
    "def check_accuracy(model, dataloader=val_dataloader, device=device, desc='Validation'):\n",
    "    model.eval() # Set the model to evaluation mode\n",
    "    val_loss = 0.0\n",
    "    correct_top1 = 0 # Correct predictions for top-1 accuracy\n",
    "    correct_top5 = 0 # Correct predictions for top-5 accuracy\n",
    "    total = 0\n",
    "    \n",
    "    # Use tqdm for displaying progress during training\n",
    "    dataloader_tqdm = tqdm(dataloader, desc=desc, leave=True)\n",
    "    \n",
    "    with torch.no_grad():\n",
    "        for inputs, labels in dataloader_tqdm:\n",
    "            inputs, labels = inputs.to(device), labels.to(device)\n",
    "            outputs = model(inputs)\n",
    "            loss = criterion(outputs, labels)\n",
    "            val_loss += loss.item()\n",
    "            \n",
    "            _, predicted = torch.max(outputs, 1)\n",
    "            total += labels.size(0)\n",
    "            correct_top1 += (predicted == labels).sum().item()\n",
    "\n",
    "            # For top-5 accuracy\n",
    "            _, top5_pred = outputs.topk(5, 1, True, True)\n",
    "            correct_top5 += top5_pred.eq(labels.view(-1, 1).expand_as(top5_pred)).sum().item()\n",
    "            \n",
    "            dataloader_tqdm.set_postfix(classes=correct_top1 / total, top1_acc=100 * correct_top1 / total, top5_acc=100 * correct_top5 / total)\n",
    "    \n",
    "    print(f'Validation Loss: {val_loss/len(dataloader):.4f}, Top-1 Accuracy: {100 * correct_top1 / total:.2f}%, Top-5 Accuracy: {100 * correct_top5 / total:.2f}%')"
   ]
  },
  {
   "cell_type": "code",
   "execution_count": 10,
   "id": "1fd5a179",
   "metadata": {},
   "outputs": [],
   "source": [
    "# train function without augmentations\n",
    "def train_model_no_aug(model, num_epochs, optimizer):\n",
    "    for epoch in range(num_epochs):\n",
    "        model.train() # Set the model to training mode\n",
    "        running_loss = 0.0\n",
    "        # Use tqdm for displaying progress during training\n",
    "        train_loader_tqdm = tqdm(train_dataloader, desc=f'Epoch [{epoch+1}/{num_epochs}]', leave=True)\n",
    "\n",
    "        for inputs, labels in train_loader_tqdm:\n",
    "            inputs, labels = inputs.to(device), labels.to(device)\n",
    "\n",
    "            optimizer.zero_grad()\n",
    "            outputs = model(inputs)\n",
    "            loss = criterion(outputs, labels)\n",
    "            loss.backward()\n",
    "            optimizer.step()\n",
    "\n",
    "            running_loss += loss.item()\n",
    "            gpu_mem = torch.cuda.memory_reserved() / 1e9  # Get GPU memory usage in GB\n",
    "            \n",
    "            train_loader_tqdm.set_postfix(GPU_mem=f'{gpu_mem:.3f}G', loss=loss.item(), Instances=len(inputs), Size=inputs.shape[-1])\n",
    "\n",
    "        print(f'Epoch [{epoch+1}/{num_epochs}], Loss: {running_loss/len(train_dataloader):.4f}')\n",
    "        \n",
    "    return model\n"
   ]
  },
  {
   "cell_type": "code",
   "execution_count": 11,
   "id": "7d6a7f3e",
   "metadata": {
    "scrolled": true
   },
   "outputs": [
    {
     "name": "stderr",
     "output_type": "stream",
     "text": [
      "Epoch [1/3]: 100%|██████████████| 331/331 [17:01<00:00,  3.08s/it, GPU_mem=5.918G, Instances=155, Size=224, loss=0.084]\n"
     ]
    },
    {
     "name": "stdout",
     "output_type": "stream",
     "text": [
      "Epoch [1/3], Loss: 0.5182\n"
     ]
    },
    {
     "name": "stderr",
     "output_type": "stream",
     "text": [
      "Epoch [2/3]: 100%|██████████████| 331/331 [17:32<00:00,  3.18s/it, GPU_mem=5.918G, Instances=155, Size=224, loss=0.139]\n"
     ]
    },
    {
     "name": "stdout",
     "output_type": "stream",
     "text": [
      "Epoch [2/3], Loss: 0.0914\n"
     ]
    },
    {
     "name": "stderr",
     "output_type": "stream",
     "text": [
      "Epoch [3/3]: 100%|█████████████| 331/331 [18:00<00:00,  3.26s/it, GPU_mem=5.918G, Instances=155, Size=224, loss=0.0231]\n"
     ]
    },
    {
     "name": "stdout",
     "output_type": "stream",
     "text": [
      "Epoch [3/3], Loss: 0.0569\n"
     ]
    },
    {
     "name": "stderr",
     "output_type": "stream",
     "text": [
      "Validation: 100%|██████████████████████████| 11/11 [00:41<00:00,  3.81s/it, classes=0.984, top1_acc=98.4, top5_acc=100]"
     ]
    },
    {
     "name": "stdout",
     "output_type": "stream",
     "text": [
      "Validation Loss: 0.0641, Top-1 Accuracy: 98.40%, Top-5 Accuracy: 99.96%\n"
     ]
    },
    {
     "name": "stderr",
     "output_type": "stream",
     "text": [
      "\n"
     ]
    }
   ],
   "source": [
    "# Training with Adam optimizer and no augmentations\n",
    "mymodel_Adam_noAug = copy.deepcopy(model).to(device)\n",
    "num_epochs = 3  # Set the number of epochs\n",
    "lr = 2.5e-4\n",
    "optimizer_Adam = torch.optim.Adam(mymodel_Adam_noAug.linear_head.parameters(), lr=lr)\n",
    "mymodel_Adam_noAug = train_model_no_aug(mymodel_Adam_noAug, num_epochs, optimizer_Adam)\n",
    "check_accuracy(mymodel_Adam_noAug, val_dataloader)\n"
   ]
  },
  {
   "cell_type": "code",
   "execution_count": 12,
   "id": "8ade6fec",
   "metadata": {},
   "outputs": [],
   "source": [
    "# Save the trained model\n",
    "state = {'net': mymodel_Adam_noAug.state_dict()}\n",
    "torch.save(state, '../models/DINO/Dino_Adam_noAug_256.pth')"
   ]
  },
  {
   "cell_type": "code",
   "execution_count": 13,
   "id": "636c77a9",
   "metadata": {},
   "outputs": [],
   "source": [
    "del mymodel_Adam_noAug"
   ]
  },
  {
   "cell_type": "code",
   "execution_count": 35,
   "id": "b2cfe82d",
   "metadata": {
    "scrolled": true
   },
   "outputs": [
    {
     "name": "stderr",
     "output_type": "stream",
     "text": [
      "Epoch [1/3]: 100%|████████████████| 331/331 [16:58<00:00,  3.08s/it, GPU_mem=8.611G, Instances=155, Size=224, loss=6.2]\n"
     ]
    },
    {
     "name": "stdout",
     "output_type": "stream",
     "text": [
      "Epoch [1/3], Loss: 6.4051\n"
     ]
    },
    {
     "name": "stderr",
     "output_type": "stream",
     "text": [
      "Epoch [2/3]: 100%|███████████████| 331/331 [17:04<00:00,  3.10s/it, GPU_mem=8.611G, Instances=155, Size=224, loss=6.06]\n"
     ]
    },
    {
     "name": "stdout",
     "output_type": "stream",
     "text": [
      "Epoch [2/3], Loss: 6.1944\n"
     ]
    },
    {
     "name": "stderr",
     "output_type": "stream",
     "text": [
      "Epoch [3/3]: 100%|███████████████| 331/331 [17:02<00:00,  3.09s/it, GPU_mem=8.611G, Instances=155, Size=224, loss=5.83]\n"
     ]
    },
    {
     "name": "stdout",
     "output_type": "stream",
     "text": [
      "Epoch [3/3], Loss: 5.9937\n"
     ]
    },
    {
     "name": "stderr",
     "output_type": "stream",
     "text": [
      "Validation: 100%|█████████████████████████| 11/11 [00:39<00:00,  3.60s/it, classes=0.0232, top1_acc=2.32, top5_acc=7.7]"
     ]
    },
    {
     "name": "stdout",
     "output_type": "stream",
     "text": [
      "Validation Loss: 5.8874, Top-1 Accuracy: 2.32%, Top-5 Accuracy: 7.70%\n"
     ]
    },
    {
     "name": "stderr",
     "output_type": "stream",
     "text": [
      "\n"
     ]
    }
   ],
   "source": [
    "# Training with SGD optimizer and no augmentations (learning rate = 1e-4)\n",
    "mymodel_SGD_noAug =  copy.deepcopy(model).to(device)\n",
    "num_epochs = 3  # Set the number of epochs\n",
    "lr = 1e-4\n",
    "optimizer_SGD = torch.optim.SGD(mymodel_SGD_noAug.linear_head.parameters(), lr=lr)\n",
    "mymodel_Adam_noAug = train_model_no_aug(mymodel_SGD_noAug, num_epochs, optimizer_SGD)\n",
    "check_accuracy(mymodel_SGD_noAug, val_dataloader)\n"
   ]
  },
  {
   "cell_type": "code",
   "execution_count": 36,
   "id": "660e39ec",
   "metadata": {},
   "outputs": [],
   "source": [
    "# Save the trained model\n",
    "state = {'net': mymodel_SGD_noAug.state_dict()}\n",
    "torch.save(state, '../models/DINO/Dino_SGD_noAug_256.pth')"
   ]
  },
  {
   "cell_type": "code",
   "execution_count": 16,
   "id": "1d30050c",
   "metadata": {},
   "outputs": [],
   "source": [
    "del mymodel_SGD_noAug"
   ]
  },
  {
   "cell_type": "code",
   "execution_count": 18,
   "id": "3a7ba988",
   "metadata": {
    "scrolled": true
   },
   "outputs": [
    {
     "name": "stderr",
     "output_type": "stream",
     "text": [
      "Epoch [1/3]: 100%|██████████████| 331/331 [17:12<00:00,  3.12s/it, GPU_mem=10.161G, Instances=155, Size=224, loss=1.24]\n"
     ]
    },
    {
     "name": "stdout",
     "output_type": "stream",
     "text": [
      "Epoch [1/3], Loss: 3.0608\n"
     ]
    },
    {
     "name": "stderr",
     "output_type": "stream",
     "text": [
      "Epoch [2/3]: 100%|█████████████| 331/331 [17:23<00:00,  3.15s/it, GPU_mem=10.161G, Instances=155, Size=224, loss=0.507]\n"
     ]
    },
    {
     "name": "stdout",
     "output_type": "stream",
     "text": [
      "Epoch [2/3], Loss: 0.7697\n"
     ]
    },
    {
     "name": "stderr",
     "output_type": "stream",
     "text": [
      "Epoch [3/3]: 100%|█████████████| 331/331 [17:14<00:00,  3.12s/it, GPU_mem=10.161G, Instances=155, Size=224, loss=0.393]\n"
     ]
    },
    {
     "name": "stdout",
     "output_type": "stream",
     "text": [
      "Epoch [3/3], Loss: 0.4446\n"
     ]
    },
    {
     "name": "stderr",
     "output_type": "stream",
     "text": [
      "Validation: 100%|█████████████████████████| 11/11 [00:39<00:00,  3.59s/it, classes=0.971, top1_acc=97.1, top5_acc=99.8]"
     ]
    },
    {
     "name": "stdout",
     "output_type": "stream",
     "text": [
      "Validation Loss: 0.3231, Top-1 Accuracy: 97.10%, Top-5 Accuracy: 99.85%\n"
     ]
    },
    {
     "name": "stderr",
     "output_type": "stream",
     "text": [
      "\n"
     ]
    }
   ],
   "source": [
    "# Training with SGD optimizer and no augmentations (learning rate = 5e-3)\n",
    "mymodel_SGD_noAug =  copy.deepcopy(model).to(device)\n",
    "num_epochs = 3  # Set the number of epochs\n",
    "lr = 5e-3\n",
    "optimizer_SGD = torch.optim.SGD(mymodel_SGD_noAug.linear_head.parameters(), lr=lr)\n",
    "mymodel_Adam_noAug = train_model_no_aug(mymodel_SGD_noAug, num_epochs, optimizer_SGD)\n",
    "check_accuracy(mymodel_SGD_noAug, val_dataloader)\n"
   ]
  },
  {
   "cell_type": "code",
   "execution_count": 19,
   "id": "bb27313a",
   "metadata": {},
   "outputs": [],
   "source": [
    "# Save the trained model\n",
    "state = {'net': mymodel_SGD_noAug.state_dict()}\n",
    "torch.save(state, '../models/DINO/Dino_SGD_noAug_256_lr5e-3.pth')"
   ]
  },
  {
   "cell_type": "code",
   "execution_count": 42,
   "id": "87caf581",
   "metadata": {},
   "outputs": [
    {
     "name": "stderr",
     "output_type": "stream",
     "text": [
      "Epoch [1/3]: 100%|████████████| 331/331 [17:07<00:00,  3.10s/it, GPU_mem=10.052G, Instances=155, Size=224, loss=0.0834]\n"
     ]
    },
    {
     "name": "stdout",
     "output_type": "stream",
     "text": [
      "Epoch [1/3], Loss: 0.5130\n"
     ]
    },
    {
     "name": "stderr",
     "output_type": "stream",
     "text": [
      "Epoch [2/3]: 100%|████████████| 331/331 [17:05<00:00,  3.10s/it, GPU_mem=10.052G, Instances=155, Size=224, loss=0.0427]\n"
     ]
    },
    {
     "name": "stdout",
     "output_type": "stream",
     "text": [
      "Epoch [2/3], Loss: 0.0893\n"
     ]
    },
    {
     "name": "stderr",
     "output_type": "stream",
     "text": [
      "Epoch [3/3]: 100%|████████████| 331/331 [17:12<00:00,  3.12s/it, GPU_mem=10.052G, Instances=155, Size=224, loss=0.0682]\n"
     ]
    },
    {
     "name": "stdout",
     "output_type": "stream",
     "text": [
      "Epoch [3/3], Loss: 0.0581\n"
     ]
    },
    {
     "name": "stderr",
     "output_type": "stream",
     "text": [
      "Validation: 100%|█████████████████████████| 11/11 [00:41<00:00,  3.78s/it, classes=0.986, top1_acc=98.6, top5_acc=99.9]"
     ]
    },
    {
     "name": "stdout",
     "output_type": "stream",
     "text": [
      "Validation Loss: 0.0684, Top-1 Accuracy: 98.55%, Top-5 Accuracy: 99.92%\n"
     ]
    },
    {
     "name": "stderr",
     "output_type": "stream",
     "text": [
      "\n"
     ]
    }
   ],
   "source": [
    "# Training with AdamW optimizer and no augmentations\n",
    "mymodel_AdamW_noAug =  copy.deepcopy(model).to(device)\n",
    "num_epochs = 3  # Set the number of epochs\n",
    "lr = 2.5e-4\n",
    "optimizer_AdamW = torch.optim.AdamW(mymodel_AdamW_noAug.linear_head.parameters(), lr=lr)\n",
    "mymodel_AdamW_noAug = train_model_no_aug(mymodel_AdamW_noAug, num_epochs, optimizer_AdamW)\n",
    "check_accuracy(mymodel_AdamW_noAug, val_dataloader)\n"
   ]
  },
  {
   "cell_type": "code",
   "execution_count": 43,
   "id": "c5c510ab",
   "metadata": {},
   "outputs": [],
   "source": [
    "# Save the trained model\n",
    "state = {'net': mymodel_AdamW_noAug.state_dict()}\n",
    "torch.save(state, '../models/DINO/Dino_AdamW_noAug_256.pth')"
   ]
  },
  {
   "cell_type": "code",
   "execution_count": 44,
   "id": "a7e32994",
   "metadata": {},
   "outputs": [],
   "source": [
    "del mymodel_AdamW_noAug"
   ]
  },
  {
   "cell_type": "code",
   "execution_count": 49,
   "id": "a301d42b",
   "metadata": {},
   "outputs": [
    {
     "name": "stderr",
     "output_type": "stream",
     "text": [
      "Epoch [1/3]: 100%|█████████████| 331/331 [17:12<00:00,  3.12s/it, GPU_mem=9.926G, Instances=155, Size=224, loss=0.0775]\n"
     ]
    },
    {
     "name": "stdout",
     "output_type": "stream",
     "text": [
      "Epoch [1/3], Loss: 0.3579\n"
     ]
    },
    {
     "name": "stderr",
     "output_type": "stream",
     "text": [
      "Epoch [2/3]: 100%|██████████████| 331/331 [17:20<00:00,  3.14s/it, GPU_mem=9.926G, Instances=155, Size=224, loss=0.143]\n"
     ]
    },
    {
     "name": "stdout",
     "output_type": "stream",
     "text": [
      "Epoch [2/3], Loss: 0.0890\n"
     ]
    },
    {
     "name": "stderr",
     "output_type": "stream",
     "text": [
      "Epoch [3/3]: 100%|██████████████| 331/331 [17:10<00:00,  3.11s/it, GPU_mem=9.926G, Instances=155, Size=224, loss=0.069]\n"
     ]
    },
    {
     "name": "stdout",
     "output_type": "stream",
     "text": [
      "Epoch [3/3], Loss: 0.0582\n"
     ]
    },
    {
     "name": "stderr",
     "output_type": "stream",
     "text": [
      "Validation: 100%|█████████████████████████| 11/11 [00:40<00:00,  3.65s/it, classes=0.978, top1_acc=97.8, top5_acc=99.9]"
     ]
    },
    {
     "name": "stdout",
     "output_type": "stream",
     "text": [
      "Validation Loss: 0.0845, Top-1 Accuracy: 97.83%, Top-5 Accuracy: 99.92%\n"
     ]
    },
    {
     "name": "stderr",
     "output_type": "stream",
     "text": [
      "\n"
     ]
    }
   ],
   "source": [
    "# Training with RMSProp optimizer and no augmentations\n",
    "mymodel_RMSProp_noAug =  copy.deepcopy(model).to(device)\n",
    "num_epochs = 3  # Set the number of epochs\n",
    "lr = 2.5e-4\n",
    "optimizer_RMSProp = torch.optim.RMSprop(mymodel_RMSProp_noAug.linear_head.parameters(), lr=lr)\n",
    "mymodel_RMSProp_noAug = train_model_no_aug(mymodel_RMSProp_noAug, num_epochs, optimizer_RMSProp)\n",
    "check_accuracy(mymodel_RMSProp_noAug, val_dataloader)\n"
   ]
  },
  {
   "cell_type": "code",
   "execution_count": 50,
   "id": "40201a1c",
   "metadata": {},
   "outputs": [],
   "source": [
    "# Save the trained model\n",
    "state = {'net': mymodel_RMSProp_noAug.state_dict()}\n",
    "torch.save(state, '../models/DINO/Dino_RMSProp_noAug_256.pth')"
   ]
  },
  {
   "cell_type": "code",
   "execution_count": 51,
   "id": "1d6e2225",
   "metadata": {},
   "outputs": [],
   "source": [
    "del mymodel_RMSProp_noAug"
   ]
  },
  {
   "cell_type": "code",
   "execution_count": 12,
   "id": "4a6a8d0b",
   "metadata": {},
   "outputs": [
    {
     "name": "stderr",
     "output_type": "stream",
     "text": [
      "Epoch [1/3]: 100%|██████████████| 331/331 [17:16<00:00,  3.13s/it, GPU_mem=5.918G, Instances=155, Size=224, loss=0.131]\n"
     ]
    },
    {
     "name": "stdout",
     "output_type": "stream",
     "text": [
      "Epoch [1/3], Loss: 0.5554\n"
     ]
    },
    {
     "name": "stderr",
     "output_type": "stream",
     "text": [
      "Epoch [2/3]: 100%|██████████████| 331/331 [17:08<00:00,  3.11s/it, GPU_mem=5.918G, Instances=155, Size=224, loss=0.084]\n"
     ]
    },
    {
     "name": "stdout",
     "output_type": "stream",
     "text": [
      "Epoch [2/3], Loss: 0.0894\n"
     ]
    },
    {
     "name": "stderr",
     "output_type": "stream",
     "text": [
      "Epoch [3/3]: 100%|█████████████| 331/331 [17:02<00:00,  3.09s/it, GPU_mem=5.918G, Instances=155, Size=224, loss=0.0567]\n"
     ]
    },
    {
     "name": "stdout",
     "output_type": "stream",
     "text": [
      "Epoch [3/3], Loss: 0.0542\n"
     ]
    },
    {
     "name": "stderr",
     "output_type": "stream",
     "text": [
      "Validation: 100%|██████████████████████████| 11/11 [00:39<00:00,  3.58s/it, classes=0.983, top1_acc=98.3, top5_acc=100]"
     ]
    },
    {
     "name": "stdout",
     "output_type": "stream",
     "text": [
      "Validation Loss: 0.0583, Top-1 Accuracy: 98.32%, Top-5 Accuracy: 99.96%\n"
     ]
    },
    {
     "name": "stderr",
     "output_type": "stream",
     "text": [
      "\n"
     ]
    }
   ],
   "source": [
    "# Training with NAdam optimizer and no augmentations\n",
    "mymodel_NAdam_noAug =  copy.deepcopy(model).to(device)\n",
    "num_epochs = 3  # Set the number of epochs\n",
    "lr = 2.5e-4\n",
    "optimizer_NAdam = torch.optim.NAdam(mymodel_NAdam_noAug.linear_head.parameters(), lr=lr)\n",
    "mymodel_Adam_noAug = train_model_no_aug(mymodel_NAdam_noAug, num_epochs, optimizer_NAdam)\n",
    "check_accuracy(mymodel_NAdam_noAug, val_dataloader)\n"
   ]
  },
  {
   "cell_type": "code",
   "execution_count": 13,
   "id": "34c00f98",
   "metadata": {},
   "outputs": [],
   "source": [
    "# Save the trained model\n",
    "state = {'net': mymodel_NAdam_noAug.state_dict()}\n",
    "torch.save(state, '../models/DINO/Dino_NAdam_noAug_256.pth')"
   ]
  },
  {
   "cell_type": "code",
   "execution_count": 14,
   "id": "c574d3a8",
   "metadata": {},
   "outputs": [],
   "source": [
    "del mymodel_NAdam_noAug"
   ]
  },
  {
   "cell_type": "code",
   "execution_count": 15,
   "id": "7dbfff52",
   "metadata": {},
   "outputs": [
    {
     "name": "stderr",
     "output_type": "stream",
     "text": [
      "Epoch [1/3]: 100%|██████████████| 331/331 [17:03<00:00,  3.09s/it, GPU_mem=6.998G, Instances=155, Size=224, loss=0.119]\n"
     ]
    },
    {
     "name": "stdout",
     "output_type": "stream",
     "text": [
      "Epoch [1/3], Loss: 0.5126\n"
     ]
    },
    {
     "name": "stderr",
     "output_type": "stream",
     "text": [
      "Epoch [2/3]: 100%|██████████████| 331/331 [17:14<00:00,  3.13s/it, GPU_mem=6.998G, Instances=155, Size=224, loss=0.114]\n"
     ]
    },
    {
     "name": "stdout",
     "output_type": "stream",
     "text": [
      "Epoch [2/3], Loss: 0.0902\n"
     ]
    },
    {
     "name": "stderr",
     "output_type": "stream",
     "text": [
      "Epoch [3/3]: 100%|█████████████| 331/331 [17:16<00:00,  3.13s/it, GPU_mem=6.998G, Instances=155, Size=224, loss=0.0424]\n"
     ]
    },
    {
     "name": "stdout",
     "output_type": "stream",
     "text": [
      "Epoch [3/3], Loss: 0.0579\n"
     ]
    },
    {
     "name": "stderr",
     "output_type": "stream",
     "text": [
      "Validation: 100%|█████████████████████████| 11/11 [00:41<00:00,  3.79s/it, classes=0.982, top1_acc=98.2, top5_acc=99.9]"
     ]
    },
    {
     "name": "stdout",
     "output_type": "stream",
     "text": [
      "Validation Loss: 0.0641, Top-1 Accuracy: 98.25%, Top-5 Accuracy: 99.92%\n"
     ]
    },
    {
     "name": "stderr",
     "output_type": "stream",
     "text": [
      "\n"
     ]
    }
   ],
   "source": [
    "# Training with RAdam optimizer and no augmentations\n",
    "mymodel_RAdam_noAug = copy.deepcopy(model).to(device)\n",
    "num_epochs = 3  # Set the number of epochs\n",
    "lr = 2.5e-4\n",
    "optimizer_RAdam = torch.optim.Adam(mymodel_RAdam_noAug.linear_head.parameters(), lr=lr)\n",
    "mymodel_Adam_noAug = train_model_no_aug(mymodel_RAdam_noAug, num_epochs, optimizer_RAdam)\n",
    "check_accuracy(mymodel_RAdam_noAug, val_dataloader)\n"
   ]
  },
  {
   "cell_type": "code",
   "execution_count": 16,
   "id": "dc493d9e",
   "metadata": {},
   "outputs": [],
   "source": [
    "# Save the trained model\n",
    "state = {'net': mymodel_RAdam_noAug.state_dict()}\n",
    "torch.save(state, '../models/DINO/Dino_RAdam_noAug_256.pth')"
   ]
  },
  {
   "cell_type": "code",
   "execution_count": 17,
   "id": "e4734c77",
   "metadata": {},
   "outputs": [],
   "source": [
    "del mymodel_RAdam_noAug"
   ]
  },
  {
   "cell_type": "code",
   "execution_count": 24,
   "id": "5d5cca12",
   "metadata": {},
   "outputs": [
    {
     "name": "stderr",
     "output_type": "stream",
     "text": [
      "Epoch [1/3]: 100%|██████████████| 331/331 [17:12<00:00,  3.12s/it, GPU_mem=8.716G, Instances=155, Size=224, loss=0.179]\n"
     ]
    },
    {
     "name": "stdout",
     "output_type": "stream",
     "text": [
      "Epoch [1/3], Loss: 0.6211\n"
     ]
    },
    {
     "name": "stderr",
     "output_type": "stream",
     "text": [
      "Epoch [2/3]: 100%|██████████████| 331/331 [17:19<00:00,  3.14s/it, GPU_mem=8.716G, Instances=155, Size=224, loss=0.118]\n"
     ]
    },
    {
     "name": "stdout",
     "output_type": "stream",
     "text": [
      "Epoch [2/3], Loss: 0.0839\n"
     ]
    },
    {
     "name": "stderr",
     "output_type": "stream",
     "text": [
      "Epoch [3/3]: 100%|█████████████| 331/331 [17:14<00:00,  3.12s/it, GPU_mem=8.716G, Instances=155, Size=224, loss=0.0295]"
     ]
    },
    {
     "name": "stdout",
     "output_type": "stream",
     "text": [
      "Epoch [3/3], Loss: 0.0502\n"
     ]
    },
    {
     "name": "stderr",
     "output_type": "stream",
     "text": [
      "\n"
     ]
    }
   ],
   "source": [
    "# Training with AdamWScheduleFree optimizer and no augmentations\n",
    "mymodel_AdamWScheduleFree_noAug = copy.deepcopy(model).to(device)\n",
    "num_epochs = 3  # Set the number of epochs\n",
    "lr = 2.5e-4\n",
    "optimizer_AdamWScheduleFree = schedulefree.AdamWScheduleFree(mymodel_AdamWScheduleFree_noAug.linear_head.parameters(), lr=lr)\n",
    "optimizer_AdamWScheduleFree.train()\n",
    "mymodel_AdamWScheduleFree_noAug = train_model_no_aug(mymodel_AdamWScheduleFree_noAug, num_epochs, optimizer_AdamWScheduleFree)"
   ]
  },
  {
   "cell_type": "code",
   "execution_count": 25,
   "id": "70022ec2",
   "metadata": {},
   "outputs": [
    {
     "name": "stderr",
     "output_type": "stream",
     "text": [
      "Validation: 100%|██████████████████████████| 11/11 [00:39<00:00,  3.56s/it, classes=0.991, top1_acc=99.1, top5_acc=100]"
     ]
    },
    {
     "name": "stdout",
     "output_type": "stream",
     "text": [
      "Validation Loss: 0.0532, Top-1 Accuracy: 99.12%, Top-5 Accuracy: 99.96%\n"
     ]
    },
    {
     "name": "stderr",
     "output_type": "stream",
     "text": [
      "\n"
     ]
    }
   ],
   "source": [
    "# Evaluating accuracy with AdamWScheduleFree\n",
    "optimizer_AdamWScheduleFree.eval()\n",
    "check_accuracy(mymodel_AdamWScheduleFree_noAug, val_dataloader)"
   ]
  },
  {
   "cell_type": "code",
   "execution_count": 26,
   "id": "b4e0d260",
   "metadata": {},
   "outputs": [],
   "source": [
    "# Save the trained model\n",
    "state = {'net': mymodel_AdamWScheduleFree_noAug.state_dict()}\n",
    "torch.save(state, '../models/DINO/Dino_AdamWScheduleFree_noAug_256.pth')"
   ]
  },
  {
   "cell_type": "code",
   "execution_count": 27,
   "id": "200ca979",
   "metadata": {},
   "outputs": [],
   "source": [
    "del mymodel_AdamWScheduleFree_noAug"
   ]
  },
  {
   "cell_type": "code",
   "execution_count": 28,
   "id": "44a1a1ab",
   "metadata": {},
   "outputs": [
    {
     "name": "stderr",
     "output_type": "stream",
     "text": [
      "Epoch [1/3]: 100%|███████████████| 331/331 [17:08<00:00,  3.11s/it, GPU_mem=8.334G, Instances=155, Size=224, loss=6.15]\n"
     ]
    },
    {
     "name": "stdout",
     "output_type": "stream",
     "text": [
      "Epoch [1/3], Loss: 6.3317\n"
     ]
    },
    {
     "name": "stderr",
     "output_type": "stream",
     "text": [
      "Epoch [2/3]: 100%|███████████████| 331/331 [17:10<00:00,  3.11s/it, GPU_mem=8.334G, Instances=155, Size=224, loss=5.96]\n"
     ]
    },
    {
     "name": "stdout",
     "output_type": "stream",
     "text": [
      "Epoch [2/3], Loss: 6.0437\n"
     ]
    },
    {
     "name": "stderr",
     "output_type": "stream",
     "text": [
      "Epoch [3/3]: 100%|████████████████| 331/331 [17:12<00:00,  3.12s/it, GPU_mem=8.334G, Instances=155, Size=224, loss=5.6]\n"
     ]
    },
    {
     "name": "stdout",
     "output_type": "stream",
     "text": [
      "Epoch [3/3], Loss: 5.7724\n"
     ]
    },
    {
     "name": "stderr",
     "output_type": "stream",
     "text": [
      "Validation: 100%|████████████████████████| 11/11 [00:39<00:00,  3.58s/it, classes=0.0533, top1_acc=5.33, top5_acc=15.1]"
     ]
    },
    {
     "name": "stdout",
     "output_type": "stream",
     "text": [
      "Validation Loss: 5.6905, Top-1 Accuracy: 5.33%, Top-5 Accuracy: 15.09%\n"
     ]
    },
    {
     "name": "stderr",
     "output_type": "stream",
     "text": [
      "\n"
     ]
    }
   ],
   "source": [
    "# Training with SGDScheduleFree optimizer and no augmentations(learning rate = 2.5e-4)\n",
    "mymodel_SGDScheduleFree_noAug = copy.deepcopy(model).to(device)\n",
    "num_epochs = 3  # Set the number of epochs\n",
    "lr = 2.5e-4\n",
    "optimizer_SGDScheduleFree = schedulefree.SGDScheduleFree(mymodel_SGDScheduleFree_noAug.linear_head.parameters(), lr=lr)\n",
    "optimizer_SGDScheduleFree.train()\n",
    "mymodel_SGDScheduleFree_noAug = train_model_no_aug(mymodel_SGDScheduleFree_noAug, num_epochs, optimizer_SGDScheduleFree)\n",
    "optimizer_SGDScheduleFree.eval()\n",
    "check_accuracy(mymodel_SGDScheduleFree_noAug, val_dataloader)"
   ]
  },
  {
   "cell_type": "code",
   "execution_count": 29,
   "id": "61ff4a76",
   "metadata": {},
   "outputs": [],
   "source": [
    "# Save the trained model\n",
    "state = {'net': mymodel_SGDScheduleFree_noAug.state_dict()}\n",
    "torch.save(state, '../models/DINO/Dino_SGDScheduleFree_noAug_256.pth')"
   ]
  },
  {
   "cell_type": "code",
   "execution_count": null,
   "id": "3a7679d8",
   "metadata": {},
   "outputs": [],
   "source": [
    "del mymodel_SGDScheduleFree_noAug"
   ]
  },
  {
   "cell_type": "code",
   "execution_count": 11,
   "id": "d94f2359",
   "metadata": {
    "scrolled": true
   },
   "outputs": [
    {
     "name": "stderr",
     "output_type": "stream",
     "text": [
      "Epoch [1/3]: 100%|███████████████| 331/331 [17:13<00:00,  3.12s/it, GPU_mem=5.918G, Instances=155, Size=224, loss=5.37]\n"
     ]
    },
    {
     "name": "stdout",
     "output_type": "stream",
     "text": [
      "Epoch [1/3], Loss: 5.9340\n"
     ]
    },
    {
     "name": "stderr",
     "output_type": "stream",
     "text": [
      "Epoch [2/3]: 100%|███████████████| 331/331 [17:09<00:00,  3.11s/it, GPU_mem=5.918G, Instances=155, Size=224, loss=4.51]\n"
     ]
    },
    {
     "name": "stdout",
     "output_type": "stream",
     "text": [
      "Epoch [2/3], Loss: 4.9130\n"
     ]
    },
    {
     "name": "stderr",
     "output_type": "stream",
     "text": [
      "Epoch [3/3]: 100%|███████████████| 331/331 [17:13<00:00,  3.12s/it, GPU_mem=5.918G, Instances=155, Size=224, loss=3.54]\n"
     ]
    },
    {
     "name": "stdout",
     "output_type": "stream",
     "text": [
      "Epoch [3/3], Loss: 3.9930\n"
     ]
    },
    {
     "name": "stderr",
     "output_type": "stream",
     "text": [
      "Validation: 100%|█████████████████████████| 11/11 [00:39<00:00,  3.57s/it, classes=0.528, top1_acc=52.8, top5_acc=88.9]"
     ]
    },
    {
     "name": "stdout",
     "output_type": "stream",
     "text": [
      "Validation Loss: 3.7607, Top-1 Accuracy: 52.76%, Top-5 Accuracy: 88.91%\n"
     ]
    },
    {
     "name": "stderr",
     "output_type": "stream",
     "text": [
      "\n"
     ]
    }
   ],
   "source": [
    "# Training with SGDScheduleFree optimizer and no augmentations(learning rate = 1e-3)\n",
    "mymodel_SGDScheduleFree_noAug = copy.deepcopy(model).to(device)\n",
    "num_epochs = 3  # Set the number of epochs\n",
    "lr = 1e-3\n",
    "optimizer_SGDScheduleFree = schedulefree.SGDScheduleFree(mymodel_SGDScheduleFree_noAug.linear_head.parameters(), lr=lr)\n",
    "optimizer_SGDScheduleFree.train()\n",
    "mymodel_SGDScheduleFree_noAug = train_model_no_aug(mymodel_SGDScheduleFree_noAug, num_epochs, optimizer_SGDScheduleFree)\n",
    "optimizer_SGDScheduleFree.eval()\n",
    "check_accuracy(mymodel_SGDScheduleFree_noAug, val_dataloader)"
   ]
  },
  {
   "cell_type": "code",
   "execution_count": 12,
   "id": "655d8f4b",
   "metadata": {},
   "outputs": [],
   "source": [
    "# Save the trained model\n",
    "state = {'net': mymodel_SGDScheduleFree_noAug.state_dict()}\n",
    "torch.save(state, '../models/DINO/Dino_SGDScheduleFree_noAug_256_lr_1e-3.pth')"
   ]
  },
  {
   "cell_type": "code",
   "execution_count": 13,
   "id": "7d81c87c",
   "metadata": {},
   "outputs": [],
   "source": [
    "del mymodel_SGDScheduleFree_noAug"
   ]
  },
  {
   "cell_type": "code",
   "execution_count": 22,
   "id": "5ccf9046",
   "metadata": {
    "scrolled": false
   },
   "outputs": [
    {
     "name": "stderr",
     "output_type": "stream",
     "text": [
      "Epoch [1/3]: 100%|████████████████| 331/331 [17:49<00:00,  3.23s/it, GPU_mem=6.998G, Instances=155, Size=224, loss=2.4]\n"
     ]
    },
    {
     "name": "stdout",
     "output_type": "stream",
     "text": [
      "Epoch [1/3], Loss: 4.1640\n"
     ]
    },
    {
     "name": "stderr",
     "output_type": "stream",
     "text": [
      "Epoch [2/3]: 100%|██████████████| 331/331 [17:47<00:00,  3.23s/it, GPU_mem=6.998G, Instances=155, Size=224, loss=0.861]\n"
     ]
    },
    {
     "name": "stdout",
     "output_type": "stream",
     "text": [
      "Epoch [2/3], Loss: 1.4026\n"
     ]
    },
    {
     "name": "stderr",
     "output_type": "stream",
     "text": [
      "Epoch [3/3]: 100%|██████████████| 331/331 [17:47<00:00,  3.23s/it, GPU_mem=6.998G, Instances=155, Size=224, loss=0.516]\n"
     ]
    },
    {
     "name": "stdout",
     "output_type": "stream",
     "text": [
      "Epoch [3/3], Loss: 0.6417\n"
     ]
    },
    {
     "name": "stderr",
     "output_type": "stream",
     "text": [
      "Validation: 100%|█████████████████████████| 11/11 [00:41<00:00,  3.79s/it, classes=0.955, top1_acc=95.5, top5_acc=99.7]"
     ]
    },
    {
     "name": "stdout",
     "output_type": "stream",
     "text": [
      "Validation Loss: 0.5065, Top-1 Accuracy: 95.47%, Top-5 Accuracy: 99.66%\n"
     ]
    },
    {
     "name": "stderr",
     "output_type": "stream",
     "text": [
      "\n"
     ]
    }
   ],
   "source": [
    "# Training with SGDScheduleFree optimizer and no augmentations(learning rate = 5e-3)\n",
    "mymodel_SGDScheduleFree_noAug = copy.deepcopy(model).to(device)\n",
    "num_epochs = 3  # Set the number of epochs\n",
    "lr = 5e-3\n",
    "optimizer_SGDScheduleFree = schedulefree.SGDScheduleFree(mymodel_SGDScheduleFree_noAug.linear_head.parameters(), lr=lr)\n",
    "optimizer_SGDScheduleFree.train()\n",
    "mymodel_SGDScheduleFree_noAug = train_model_no_aug(mymodel_SGDScheduleFree_noAug, num_epochs, optimizer_SGDScheduleFree)\n",
    "optimizer_SGDScheduleFree.eval()\n",
    "check_accuracy(mymodel_SGDScheduleFree_noAug, val_dataloader)"
   ]
  },
  {
   "cell_type": "code",
   "execution_count": 23,
   "id": "d198e65f",
   "metadata": {},
   "outputs": [],
   "source": [
    "# Save the trained model\n",
    "state = {'net': mymodel_SGDScheduleFree_noAug.state_dict()}\n",
    "torch.save(state, '../models/DINO/Dino_SGDScheduleFree_noAug_256_lr_5e-3.pth')"
   ]
  },
  {
   "cell_type": "code",
   "execution_count": 13,
   "id": "a232e24c",
   "metadata": {},
   "outputs": [],
   "source": [
    "del mymodel_SGDScheduleFree_noAug"
   ]
  },
  {
   "cell_type": "markdown",
   "id": "93f0cc8b",
   "metadata": {},
   "source": [
    "## Set of models with the following parameters:\n",
    "1. Automatic mixed precision\n",
    "2. Batch size of 64\n",
    "4. Kornia augmentations (see specifics below)\n",
    "5. 3 epochs"
   ]
  },
  {
   "cell_type": "code",
   "execution_count": 25,
   "id": "da407b29",
   "metadata": {},
   "outputs": [],
   "source": [
    "# Create data loaders for training and validation datasets(with batch size = 128)\n",
    "train_dataloader = torch.utils.data.DataLoader(\n",
    "    train_dataset,\n",
    "    batch_size=128,\n",
    "    shuffle=True,\n",
    "    num_workers=4,\n",
    "    pin_memory=True\n",
    ")\n",
    "\n",
    "val_dataloader = torch.utils.data.DataLoader(\n",
    "    val_dataset,\n",
    "    batch_size=128,\n",
    "    shuffle=False,\n",
    "    num_workers=4,\n",
    "    pin_memory=True\n",
    ")\n"
   ]
  },
  {
   "cell_type": "code",
   "execution_count": 26,
   "id": "3aa6b7af",
   "metadata": {},
   "outputs": [
    {
     "name": "stderr",
     "output_type": "stream",
     "text": [
      "C:\\Users\\User\\anaconda3\\envs\\deep_learn\\lib\\site-packages\\kornia\\feature\\lightglue.py:44: FutureWarning: `torch.cuda.amp.custom_fwd(args...)` is deprecated. Please use `torch.amp.custom_fwd(args..., device_type='cuda')` instead.\n",
      "  @torch.cuda.amp.custom_fwd(cast_inputs=torch.float32)\n"
     ]
    }
   ],
   "source": [
    "# Create an augmentation pipeline using Kornia's AugmentationSequential\n",
    "aug = AugmentationSequential(\n",
    "    # Apply a random rotation up to 45 degrees with a 30% probability\n",
    "    K.RandomRotation(degrees=45.0, p=0.3),\n",
    "    # Apply a random horizontal flip with a 30% probability\n",
    "    K.RandomHorizontalFlip(p=0.3),\n",
    "    # Apply a random vertical flip with a 30% probability\n",
    "    K.RandomVerticalFlip(p=0.3),\n",
    "    # Apply a random affine transformation with rotation up to 30 degrees with a 30% probability\n",
    "    K.RandomAffine(degrees=30.0, p=0.3)\n",
    ").to(device)"
   ]
  },
  {
   "cell_type": "code",
   "execution_count": 28,
   "id": "eb40b652",
   "metadata": {},
   "outputs": [],
   "source": [
    "use_amp = True\n",
    "scaler = torch.amp.GradScaler(device,enabled=use_amp)\n",
    "# train function with augmentations\n",
    "def train_model_aug(model, num_epochs, optimizer):\n",
    "    for epoch in range(num_epochs):\n",
    "        model.train()# Set the model to training mode\n",
    "        running_loss = 0.0\n",
    "        \n",
    "        # Use tqdm to create a progress bar for the training loop\n",
    "        train_loader_tqdm = tqdm(train_dataloader, desc=f'Epoch [{epoch+1}/{num_epochs}]', leave=True)\n",
    "        \n",
    "        for inputs, labels in train_loader_tqdm:\n",
    "            inputs, labels = aug(inputs.to(device)), labels.to(device)\n",
    "\n",
    "            optimizer.zero_grad(set_to_none=True)\n",
    "            with torch.cuda.amp.autocast(enabled=use_amp):\n",
    "                outputs = model(inputs)\n",
    "                loss = criterion(outputs, labels)\n",
    "                \n",
    "            scaler.scale(loss).backward()\n",
    "            scaler.step(optimizer)\n",
    "            scaler.update()\n",
    "\n",
    "            running_loss += loss.item()\n",
    "            gpu_mem = torch.cuda.memory_reserved() / 1e9  # Get GPU memory usage in GB\n",
    "            \n",
    "            train_loader_tqdm.set_postfix(GPU_mem=f'{gpu_mem:.3f}G', loss=loss.item(), Instances=len(inputs), Size=inputs.shape[-1])\n",
    "\n",
    "        print(f'Epoch [{epoch+1}/{num_epochs}], Loss: {running_loss/len(train_dataloader):.4f}')\n",
    "        \n",
    "    return model\n"
   ]
  },
  {
   "cell_type": "code",
   "execution_count": 21,
   "id": "58fd281f",
   "metadata": {},
   "outputs": [
    {
     "name": "stderr",
     "output_type": "stream",
     "text": [
      "Epoch [1/3]:   0%|                                                                             | 0/662 [00:00<?, ?it/s]C:\\Users\\User\\AppData\\Local\\Temp\\ipykernel_10912\\596334793.py:12: FutureWarning: `torch.cuda.amp.autocast(args...)` is deprecated. Please use `torch.amp.autocast('cuda', args...)` instead.\n",
      "  with torch.cuda.amp.autocast(enabled=use_amp):\n",
      "Epoch [1/3]: 100%|███████████████| 662/662 [06:02<00:00,  1.82it/s, GPU_mem=4.335G, Instances=27, Size=224, loss=0.271]\n"
     ]
    },
    {
     "name": "stdout",
     "output_type": "stream",
     "text": [
      "Epoch [1/3], Loss: 0.5038\n"
     ]
    },
    {
     "name": "stderr",
     "output_type": "stream",
     "text": [
      "Epoch [2/3]: 100%|██████████████| 662/662 [06:03<00:00,  1.82it/s, GPU_mem=4.335G, Instances=27, Size=224, loss=0.0466]\n"
     ]
    },
    {
     "name": "stdout",
     "output_type": "stream",
     "text": [
      "Epoch [2/3], Loss: 0.1194\n"
     ]
    },
    {
     "name": "stderr",
     "output_type": "stream",
     "text": [
      "Epoch [3/3]: 100%|██████████████| 662/662 [06:03<00:00,  1.82it/s, GPU_mem=4.335G, Instances=27, Size=224, loss=0.0496]\n"
     ]
    },
    {
     "name": "stdout",
     "output_type": "stream",
     "text": [
      "Epoch [3/3], Loss: 0.0890\n"
     ]
    },
    {
     "name": "stderr",
     "output_type": "stream",
     "text": [
      "Validation: 100%|██████████████████████████| 21/21 [00:41<00:00,  1.97s/it, classes=0.983, top1_acc=98.3, top5_acc=100]"
     ]
    },
    {
     "name": "stdout",
     "output_type": "stream",
     "text": [
      "Validation Loss: 0.0729, Top-1 Accuracy: 98.29%, Top-5 Accuracy: 100.00%\n"
     ]
    },
    {
     "name": "stderr",
     "output_type": "stream",
     "text": [
      "\n"
     ]
    }
   ],
   "source": [
    "# Training with Adam optimizer and augmentations\n",
    "mymodel_Adam_Aug = copy.deepcopy(model).to(device)\n",
    "num_epochs = 3  # Set the number of epochs\n",
    "lr = 2.5e-4\n",
    "optimizer_Adam = torch.optim.Adam(mymodel_Adam_Aug.linear_head.parameters(), lr=lr)\n",
    "mymodel_Adam_Aug = train_model_aug(mymodel_Adam_Aug, num_epochs, optimizer_Adam)\n",
    "check_accuracy(mymodel_Adam_Aug, val_dataloader)\n"
   ]
  },
  {
   "cell_type": "code",
   "execution_count": 22,
   "id": "fb9257a3",
   "metadata": {},
   "outputs": [],
   "source": [
    "# Save the trained model\n",
    "state = {'net': mymodel_Adam_Aug.state_dict()}\n",
    "torch.save(state, '../models/DINO/Dino_Adam_Aug_128.pth')"
   ]
  },
  {
   "cell_type": "code",
   "execution_count": 23,
   "id": "a6adee9e",
   "metadata": {},
   "outputs": [],
   "source": [
    "del mymodel_Adam_Aug"
   ]
  },
  {
   "cell_type": "code",
   "execution_count": 26,
   "id": "d61c0116",
   "metadata": {
    "scrolled": true
   },
   "outputs": [
    {
     "name": "stderr",
     "output_type": "stream",
     "text": [
      "Epoch [1/3]:   0%|                                                                             | 0/331 [00:00<?, ?it/s]C:\\Users\\User\\AppData\\Local\\Temp\\ipykernel_10912\\596334793.py:12: FutureWarning: `torch.cuda.amp.autocast(args...)` is deprecated. Please use `torch.amp.autocast('cuda', args...)` instead.\n",
      "  with torch.cuda.amp.autocast(enabled=use_amp):\n",
      "Epoch [1/3]: 100%|███████████████| 331/331 [06:00<00:00,  1.09s/it, GPU_mem=6.426G, Instances=155, Size=224, loss=6.06]\n"
     ]
    },
    {
     "name": "stdout",
     "output_type": "stream",
     "text": [
      "Epoch [1/3], Loss: 6.2466\n"
     ]
    },
    {
     "name": "stderr",
     "output_type": "stream",
     "text": [
      "Epoch [2/3]: 100%|███████████████| 331/331 [06:06<00:00,  1.11s/it, GPU_mem=6.426G, Instances=155, Size=224, loss=5.56]\n"
     ]
    },
    {
     "name": "stdout",
     "output_type": "stream",
     "text": [
      "Epoch [2/3], Loss: 5.8120\n"
     ]
    },
    {
     "name": "stderr",
     "output_type": "stream",
     "text": [
      "Epoch [3/3]: 100%|████████████████| 331/331 [06:03<00:00,  1.10s/it, GPU_mem=6.426G, Instances=155, Size=224, loss=5.3]\n"
     ]
    },
    {
     "name": "stdout",
     "output_type": "stream",
     "text": [
      "Epoch [3/3], Loss: 5.4059\n"
     ]
    },
    {
     "name": "stderr",
     "output_type": "stream",
     "text": [
      "Validation: 100%|█████████████████████████| 11/11 [00:42<00:00,  3.85s/it, classes=0.209, top1_acc=20.9, top5_acc=44.8]"
     ]
    },
    {
     "name": "stdout",
     "output_type": "stream",
     "text": [
      "Validation Loss: 5.1485, Top-1 Accuracy: 20.91%, Top-5 Accuracy: 44.84%\n"
     ]
    },
    {
     "name": "stderr",
     "output_type": "stream",
     "text": [
      "\n"
     ]
    }
   ],
   "source": [
    "# Training with SGD optimizer and augmentations(learning rate = 2.5e-4)\n",
    "mymodel_SGD_Aug =  copy.deepcopy(model).to(device)\n",
    "num_epochs = 3  # Set the number of epochs\n",
    "lr = 2.5e-4\n",
    "optimizer_SGD = torch.optim.SGD(mymodel_SGD_Aug.linear_head.parameters(), lr=lr)\n",
    "mymodel_Adam_Aug = train_model_aug(mymodel_SGD_Aug, num_epochs, optimizer_SGD)\n",
    "check_accuracy(mymodel_SGD_Aug, val_dataloader)"
   ]
  },
  {
   "cell_type": "code",
   "execution_count": 28,
   "id": "4bf9062e",
   "metadata": {},
   "outputs": [],
   "source": [
    "# Save the trained model\n",
    "state = {'net': mymodel_SGD_Aug.state_dict()}\n",
    "torch.save(state, '../models/DINO/Dino_SGD_Aug_128.pth')"
   ]
  },
  {
   "cell_type": "code",
   "execution_count": 29,
   "id": "282b74e2",
   "metadata": {},
   "outputs": [],
   "source": [
    "del mymodel_SGD_Aug"
   ]
  },
  {
   "cell_type": "code",
   "execution_count": 31,
   "id": "62f06401",
   "metadata": {
    "scrolled": true
   },
   "outputs": [
    {
     "name": "stderr",
     "output_type": "stream",
     "text": [
      "Epoch [1/3]:   0%|                                                                             | 0/662 [00:00<?, ?it/s]C:\\Users\\User\\AppData\\Local\\Temp\\ipykernel_22728\\596334793.py:12: FutureWarning: `torch.cuda.amp.autocast(args...)` is deprecated. Please use `torch.amp.autocast('cuda', args...)` instead.\n",
      "  with torch.cuda.amp.autocast(enabled=use_amp):\n",
      "Epoch [1/3]: 100%|███████████████| 662/662 [06:02<00:00,  1.82it/s, GPU_mem=8.080G, Instances=27, Size=224, loss=0.639]\n"
     ]
    },
    {
     "name": "stdout",
     "output_type": "stream",
     "text": [
      "Epoch [1/3], Loss: 2.1978\n"
     ]
    },
    {
     "name": "stderr",
     "output_type": "stream",
     "text": [
      "Epoch [2/3]: 100%|███████████████| 662/662 [06:03<00:00,  1.82it/s, GPU_mem=8.080G, Instances=27, Size=224, loss=0.277]\n"
     ]
    },
    {
     "name": "stdout",
     "output_type": "stream",
     "text": [
      "Epoch [2/3], Loss: 0.4907\n"
     ]
    },
    {
     "name": "stderr",
     "output_type": "stream",
     "text": [
      "Epoch [3/3]: 100%|███████████████| 662/662 [06:03<00:00,  1.82it/s, GPU_mem=8.080G, Instances=27, Size=224, loss=0.135]\n"
     ]
    },
    {
     "name": "stdout",
     "output_type": "stream",
     "text": [
      "Epoch [3/3], Loss: 0.3217\n"
     ]
    },
    {
     "name": "stderr",
     "output_type": "stream",
     "text": [
      "Validation: 100%|█████████████████████████| 21/21 [00:41<00:00,  1.96s/it, classes=0.978, top1_acc=97.8, top5_acc=99.8]"
     ]
    },
    {
     "name": "stdout",
     "output_type": "stream",
     "text": [
      "Validation Loss: 0.1787, Top-1 Accuracy: 97.79%, Top-5 Accuracy: 99.85%\n"
     ]
    },
    {
     "name": "stderr",
     "output_type": "stream",
     "text": [
      "\n"
     ]
    }
   ],
   "source": [
    "# Training with SGD optimizer and augmentations(learning rate = 5e-3)\n",
    "mymodel_SGD_Aug =  copy.deepcopy(model).to(device)\n",
    "num_epochs = 3  # Set the number of epochs\n",
    "lr = 5e-3\n",
    "optimizer_SGD = torch.optim.SGD(mymodel_SGD_Aug.linear_head.parameters(), lr=lr)\n",
    "mymodel_Adam_Aug = train_model_aug(mymodel_SGD_Aug, num_epochs, optimizer_SGD)\n",
    "check_accuracy(mymodel_SGD_Aug, val_dataloader)\n"
   ]
  },
  {
   "cell_type": "code",
   "execution_count": 32,
   "id": "70440455",
   "metadata": {},
   "outputs": [],
   "source": [
    "# Save the trained model\n",
    "state = {'net': mymodel_SGD_Aug.state_dict()}\n",
    "torch.save(state, '../models/DINO/Dino_SGD_Aug_128_lr_5e-3.pth')"
   ]
  },
  {
   "cell_type": "code",
   "execution_count": 30,
   "id": "0495e2b2",
   "metadata": {},
   "outputs": [],
   "source": [
    "del mymodel_SGD_Aug"
   ]
  },
  {
   "cell_type": "code",
   "execution_count": 31,
   "id": "09518faa",
   "metadata": {},
   "outputs": [
    {
     "name": "stderr",
     "output_type": "stream",
     "text": [
      "Epoch [1/3]:   0%|                                                                             | 0/662 [00:00<?, ?it/s]C:\\Users\\User\\AppData\\Local\\Temp\\ipykernel_10912\\596334793.py:12: FutureWarning: `torch.cuda.amp.autocast(args...)` is deprecated. Please use `torch.amp.autocast('cuda', args...)` instead.\n",
      "  with torch.cuda.amp.autocast(enabled=use_amp):\n",
      "Epoch [1/3]: 100%|███████████████| 662/662 [06:03<00:00,  1.82it/s, GPU_mem=4.444G, Instances=27, Size=224, loss=0.144]\n"
     ]
    },
    {
     "name": "stdout",
     "output_type": "stream",
     "text": [
      "Epoch [1/3], Loss: 0.4990\n"
     ]
    },
    {
     "name": "stderr",
     "output_type": "stream",
     "text": [
      "Epoch [2/3]: 100%|███████████████| 662/662 [06:04<00:00,  1.82it/s, GPU_mem=4.444G, Instances=27, Size=224, loss=0.376]\n"
     ]
    },
    {
     "name": "stdout",
     "output_type": "stream",
     "text": [
      "Epoch [2/3], Loss: 0.1202\n"
     ]
    },
    {
     "name": "stderr",
     "output_type": "stream",
     "text": [
      "Epoch [3/3]: 100%|█████████████| 662/662 [06:03<00:00,  1.82it/s, GPU_mem=4.444G, Instances=27, Size=224, loss=0.00846]\n"
     ]
    },
    {
     "name": "stdout",
     "output_type": "stream",
     "text": [
      "Epoch [3/3], Loss: 0.0899\n"
     ]
    },
    {
     "name": "stderr",
     "output_type": "stream",
     "text": [
      "Validation: 100%|██████████████████████████| 21/21 [00:41<00:00,  1.97s/it, classes=0.981, top1_acc=98.1, top5_acc=100]"
     ]
    },
    {
     "name": "stdout",
     "output_type": "stream",
     "text": [
      "Validation Loss: 0.0763, Top-1 Accuracy: 98.10%, Top-5 Accuracy: 100.00%\n"
     ]
    },
    {
     "name": "stderr",
     "output_type": "stream",
     "text": [
      "\n"
     ]
    }
   ],
   "source": [
    "# Training with AdamW optimizer and augmentations\n",
    "mymodel_AdamW_Aug =  copy.deepcopy(model).to(device)\n",
    "num_epochs = 3  # Set the number of epochs\n",
    "lr = 2.5e-4\n",
    "optimizer_AdamW = torch.optim.AdamW(mymodel_AdamW_Aug.linear_head.parameters(), lr=lr)\n",
    "mymodel_AdamW_Aug = train_model_aug(mymodel_AdamW_Aug, num_epochs, optimizer_AdamW)\n",
    "check_accuracy(mymodel_AdamW_Aug, val_dataloader)\n"
   ]
  },
  {
   "cell_type": "code",
   "execution_count": 32,
   "id": "7b42aa41",
   "metadata": {},
   "outputs": [],
   "source": [
    "# Save the trained model\n",
    "state = {'net': mymodel_AdamW_Aug.state_dict()}\n",
    "torch.save(state, '../models/DINO/Dino_AdamW_Aug_128.pth')"
   ]
  },
  {
   "cell_type": "code",
   "execution_count": 33,
   "id": "9e24e282",
   "metadata": {},
   "outputs": [],
   "source": [
    "del mymodel_AdamW_Aug"
   ]
  },
  {
   "cell_type": "code",
   "execution_count": 34,
   "id": "d602e738",
   "metadata": {},
   "outputs": [
    {
     "name": "stderr",
     "output_type": "stream",
     "text": [
      "Epoch [1/3]:   0%|                                                                             | 0/662 [00:00<?, ?it/s]C:\\Users\\User\\AppData\\Local\\Temp\\ipykernel_10912\\596334793.py:12: FutureWarning: `torch.cuda.amp.autocast(args...)` is deprecated. Please use `torch.amp.autocast('cuda', args...)` instead.\n",
      "  with torch.cuda.amp.autocast(enabled=use_amp):\n",
      "Epoch [1/3]: 100%|██████████████| 662/662 [06:03<00:00,  1.82it/s, GPU_mem=5.929G, Instances=27, Size=224, loss=0.0192]\n"
     ]
    },
    {
     "name": "stdout",
     "output_type": "stream",
     "text": [
      "Epoch [1/3], Loss: 0.4438\n"
     ]
    },
    {
     "name": "stderr",
     "output_type": "stream",
     "text": [
      "Epoch [2/3]: 100%|███████████████| 662/662 [06:04<00:00,  1.82it/s, GPU_mem=5.929G, Instances=27, Size=224, loss=0.111]\n"
     ]
    },
    {
     "name": "stdout",
     "output_type": "stream",
     "text": [
      "Epoch [2/3], Loss: 0.1227\n"
     ]
    },
    {
     "name": "stderr",
     "output_type": "stream",
     "text": [
      "Epoch [3/3]: 100%|██████████████| 662/662 [06:08<00:00,  1.80it/s, GPU_mem=5.929G, Instances=27, Size=224, loss=0.0161]\n"
     ]
    },
    {
     "name": "stdout",
     "output_type": "stream",
     "text": [
      "Epoch [3/3], Loss: 0.0904\n"
     ]
    },
    {
     "name": "stderr",
     "output_type": "stream",
     "text": [
      "Validation: 100%|█████████████████████████| 21/21 [00:41<00:00,  1.96s/it, classes=0.977, top1_acc=97.7, top5_acc=99.9]"
     ]
    },
    {
     "name": "stdout",
     "output_type": "stream",
     "text": [
      "Validation Loss: 0.0813, Top-1 Accuracy: 97.68%, Top-5 Accuracy: 99.92%\n"
     ]
    },
    {
     "name": "stderr",
     "output_type": "stream",
     "text": [
      "\n"
     ]
    }
   ],
   "source": [
    "# Training with RMSProp optimizer and augmentations\n",
    "mymodel_RMSProp_Aug =  copy.deepcopy(model).to(device)\n",
    "num_epochs = 3  # Set the number of epochs\n",
    "lr = 2.5e-4\n",
    "optimizer_RMSProp = torch.optim.RMSprop(mymodel_RMSProp_Aug.linear_head.parameters(), lr=lr)\n",
    "mymodel_RMSProp_Aug = train_model_aug(mymodel_RMSProp_Aug, num_epochs, optimizer_RMSProp)\n",
    "check_accuracy(mymodel_RMSProp_Aug, val_dataloader)\n"
   ]
  },
  {
   "cell_type": "code",
   "execution_count": 35,
   "id": "47fcbe89",
   "metadata": {},
   "outputs": [],
   "source": [
    "# Save the trained model\n",
    "state = {'net': mymodel_RMSProp_Aug.state_dict()}\n",
    "torch.save(state, '../models/DINO/Dino_RMSProp_Aug_128.pth')"
   ]
  },
  {
   "cell_type": "code",
   "execution_count": 36,
   "id": "f1ab52a4",
   "metadata": {},
   "outputs": [],
   "source": [
    "del mymodel_RMSProp_Aug"
   ]
  },
  {
   "cell_type": "code",
   "execution_count": 37,
   "id": "1dafc735",
   "metadata": {},
   "outputs": [
    {
     "name": "stderr",
     "output_type": "stream",
     "text": [
      "Epoch [1/3]:   0%|                                                                             | 0/662 [00:00<?, ?it/s]C:\\Users\\User\\AppData\\Local\\Temp\\ipykernel_10912\\596334793.py:12: FutureWarning: `torch.cuda.amp.autocast(args...)` is deprecated. Please use `torch.amp.autocast('cuda', args...)` instead.\n",
      "  with torch.cuda.amp.autocast(enabled=use_amp):\n",
      "Epoch [1/3]: 100%|██████████████| 662/662 [06:13<00:00,  1.77it/s, GPU_mem=5.929G, Instances=27, Size=224, loss=0.0525]\n"
     ]
    },
    {
     "name": "stdout",
     "output_type": "stream",
     "text": [
      "Epoch [1/3], Loss: 0.5091\n"
     ]
    },
    {
     "name": "stderr",
     "output_type": "stream",
     "text": [
      "Epoch [2/3]: 100%|███████████████| 662/662 [06:06<00:00,  1.80it/s, GPU_mem=5.929G, Instances=27, Size=224, loss=0.238]\n"
     ]
    },
    {
     "name": "stdout",
     "output_type": "stream",
     "text": [
      "Epoch [2/3], Loss: 0.1145\n"
     ]
    },
    {
     "name": "stderr",
     "output_type": "stream",
     "text": [
      "Epoch [3/3]: 100%|██████████████| 662/662 [06:03<00:00,  1.82it/s, GPU_mem=5.929G, Instances=27, Size=224, loss=0.0498]\n"
     ]
    },
    {
     "name": "stdout",
     "output_type": "stream",
     "text": [
      "Epoch [3/3], Loss: 0.0832\n"
     ]
    },
    {
     "name": "stderr",
     "output_type": "stream",
     "text": [
      "Validation: 100%|██████████████████████████| 21/21 [00:41<00:00,  1.96s/it, classes=0.983, top1_acc=98.3, top5_acc=100]"
     ]
    },
    {
     "name": "stdout",
     "output_type": "stream",
     "text": [
      "Validation Loss: 0.0685, Top-1 Accuracy: 98.29%, Top-5 Accuracy: 99.96%\n"
     ]
    },
    {
     "name": "stderr",
     "output_type": "stream",
     "text": [
      "\n"
     ]
    }
   ],
   "source": [
    "# Training with NAdam optimizer and augmentations\n",
    "mymodel_NAdam_Aug =  copy.deepcopy(model).to(device)\n",
    "num_epochs = 3  # Set the number of epochs\n",
    "lr = 2.5e-4\n",
    "optimizer_NAdam = torch.optim.NAdam(mymodel_NAdam_Aug.linear_head.parameters(), lr=lr)\n",
    "mymodel_Adam_Aug = train_model_aug(mymodel_NAdam_Aug, num_epochs, optimizer_NAdam)\n",
    "check_accuracy(mymodel_NAdam_Aug, val_dataloader)\n"
   ]
  },
  {
   "cell_type": "code",
   "execution_count": 39,
   "id": "4d4be53a",
   "metadata": {},
   "outputs": [],
   "source": [
    "# Save the trained model\n",
    "state = {'net': mymodel_NAdam_Aug.state_dict()}\n",
    "torch.save(state, '../models/DINO/Dino_NAdam_Aug_128.pth')"
   ]
  },
  {
   "cell_type": "code",
   "execution_count": 40,
   "id": "c69e81b5",
   "metadata": {},
   "outputs": [],
   "source": [
    "del mymodel_NAdam_Aug"
   ]
  },
  {
   "cell_type": "code",
   "execution_count": 42,
   "id": "21db1b9e",
   "metadata": {},
   "outputs": [
    {
     "name": "stderr",
     "output_type": "stream",
     "text": [
      "Epoch [1/3]:   0%|                                                                             | 0/662 [00:00<?, ?it/s]C:\\Users\\User\\AppData\\Local\\Temp\\ipykernel_10912\\596334793.py:12: FutureWarning: `torch.cuda.amp.autocast(args...)` is deprecated. Please use `torch.amp.autocast('cuda', args...)` instead.\n",
      "  with torch.cuda.amp.autocast(enabled=use_amp):\n",
      "Epoch [1/3]: 100%|██████████████| 662/662 [06:07<00:00,  1.80it/s, GPU_mem=4.618G, Instances=27, Size=224, loss=0.0573]\n"
     ]
    },
    {
     "name": "stdout",
     "output_type": "stream",
     "text": [
      "Epoch [1/3], Loss: 0.4995\n"
     ]
    },
    {
     "name": "stderr",
     "output_type": "stream",
     "text": [
      "Epoch [2/3]: 100%|███████████████| 662/662 [06:04<00:00,  1.82it/s, GPU_mem=4.618G, Instances=27, Size=224, loss=0.105]\n"
     ]
    },
    {
     "name": "stdout",
     "output_type": "stream",
     "text": [
      "Epoch [2/3], Loss: 0.1193\n"
     ]
    },
    {
     "name": "stderr",
     "output_type": "stream",
     "text": [
      "Epoch [3/3]: 100%|██████████████| 662/662 [06:01<00:00,  1.83it/s, GPU_mem=4.618G, Instances=27, Size=224, loss=0.0305]\n"
     ]
    },
    {
     "name": "stdout",
     "output_type": "stream",
     "text": [
      "Epoch [3/3], Loss: 0.0874\n"
     ]
    },
    {
     "name": "stderr",
     "output_type": "stream",
     "text": [
      "Validation: 100%|██████████████████████████| 21/21 [00:40<00:00,  1.95s/it, classes=0.977, top1_acc=97.7, top5_acc=100]"
     ]
    },
    {
     "name": "stdout",
     "output_type": "stream",
     "text": [
      "Validation Loss: 0.0734, Top-1 Accuracy: 97.68%, Top-5 Accuracy: 99.96%\n"
     ]
    },
    {
     "name": "stderr",
     "output_type": "stream",
     "text": [
      "\n"
     ]
    }
   ],
   "source": [
    "# Training with RAdam optimizer and augmentations\n",
    "mymodel_RAdam_Aug = copy.deepcopy(model).to(device)\n",
    "num_epochs = 3  # Set the number of epochs\n",
    "lr = 2.5e-4\n",
    "optimizer_RAdam = torch.optim.Adam(mymodel_RAdam_Aug.linear_head.parameters(), lr=lr)\n",
    "mymodel_Adam_Aug = train_model_aug(mymodel_RAdam_Aug, num_epochs, optimizer_RAdam)\n",
    "check_accuracy(mymodel_RAdam_Aug, val_dataloader)"
   ]
  },
  {
   "cell_type": "code",
   "execution_count": 43,
   "id": "d92059b0",
   "metadata": {},
   "outputs": [],
   "source": [
    "# Save the trained model\n",
    "state = {'net': mymodel_RAdam_Aug.state_dict()}\n",
    "torch.save(state, '../models/DINO/Dino_RAdam_Aug_128.pth')"
   ]
  },
  {
   "cell_type": "code",
   "execution_count": 44,
   "id": "c8bb884e",
   "metadata": {},
   "outputs": [],
   "source": [
    "del mymodel_RAdam_Aug"
   ]
  },
  {
   "cell_type": "code",
   "execution_count": 45,
   "id": "19fc9a97",
   "metadata": {},
   "outputs": [
    {
     "name": "stderr",
     "output_type": "stream",
     "text": [
      "Epoch [1/3]:   0%|                                                                             | 0/662 [00:00<?, ?it/s]C:\\Users\\User\\AppData\\Local\\Temp\\ipykernel_10912\\596334793.py:12: FutureWarning: `torch.cuda.amp.autocast(args...)` is deprecated. Please use `torch.amp.autocast('cuda', args...)` instead.\n",
      "  with torch.cuda.amp.autocast(enabled=use_amp):\n",
      "Epoch [1/3]: 100%|███████████████| 662/662 [06:01<00:00,  1.83it/s, GPU_mem=6.101G, Instances=27, Size=224, loss=0.123]\n"
     ]
    },
    {
     "name": "stdout",
     "output_type": "stream",
     "text": [
      "Epoch [1/3], Loss: 0.5601\n"
     ]
    },
    {
     "name": "stderr",
     "output_type": "stream",
     "text": [
      "Epoch [2/3]: 100%|███████████████| 662/662 [06:01<00:00,  1.83it/s, GPU_mem=6.101G, Instances=27, Size=224, loss=0.104]\n"
     ]
    },
    {
     "name": "stdout",
     "output_type": "stream",
     "text": [
      "Epoch [2/3], Loss: 0.0940\n"
     ]
    },
    {
     "name": "stderr",
     "output_type": "stream",
     "text": [
      "Epoch [3/3]: 100%|██████████████| 662/662 [06:00<00:00,  1.84it/s, GPU_mem=6.101G, Instances=27, Size=224, loss=0.0779]\n"
     ]
    },
    {
     "name": "stdout",
     "output_type": "stream",
     "text": [
      "Epoch [3/3], Loss: 0.0605\n"
     ]
    },
    {
     "name": "stderr",
     "output_type": "stream",
     "text": [
      "Validation: 100%|██████████████████████████| 21/21 [00:40<00:00,  1.95s/it, classes=0.991, top1_acc=99.1, top5_acc=100]"
     ]
    },
    {
     "name": "stdout",
     "output_type": "stream",
     "text": [
      "Validation Loss: 0.0458, Top-1 Accuracy: 99.09%, Top-5 Accuracy: 99.96%\n"
     ]
    },
    {
     "name": "stderr",
     "output_type": "stream",
     "text": [
      "\n"
     ]
    }
   ],
   "source": [
    "# Training with AdamWScheduleFree optimizer and augmentations\n",
    "mymodel_AdamWScheduleFree_Aug = copy.deepcopy(model).to(device)\n",
    "num_epochs = 3  # Set the number of epochs\n",
    "lr = 2.5e-4\n",
    "optimizer_AdamWScheduleFree = schedulefree.AdamWScheduleFree(mymodel_AdamWScheduleFree_Aug.linear_head.parameters(), lr=lr)\n",
    "optimizer_AdamWScheduleFree.train()\n",
    "mymodel_AdamWScheduleFree_Aug = train_model_aug(mymodel_AdamWScheduleFree_Aug, num_epochs, optimizer_AdamWScheduleFree)\n",
    "optimizer_AdamWScheduleFree.eval()\n",
    "check_accuracy(mymodel_AdamWScheduleFree_Aug, val_dataloader)"
   ]
  },
  {
   "cell_type": "code",
   "execution_count": 46,
   "id": "f8f3e9a1",
   "metadata": {},
   "outputs": [],
   "source": [
    "# Save the trained model\n",
    "state = {'net': mymodel_AdamWScheduleFree_Aug.state_dict()}\n",
    "torch.save(state, '../models/DINO/Dino_AdamWScheduleFree_Aug_128.pth')"
   ]
  },
  {
   "cell_type": "code",
   "execution_count": 47,
   "id": "44476cc0",
   "metadata": {},
   "outputs": [],
   "source": [
    "del mymodel_AdamWScheduleFree_Aug"
   ]
  },
  {
   "cell_type": "code",
   "execution_count": 48,
   "id": "93e825ce",
   "metadata": {},
   "outputs": [
    {
     "name": "stderr",
     "output_type": "stream",
     "text": [
      "Epoch [1/3]:   0%|                                                                             | 0/662 [00:00<?, ?it/s]C:\\Users\\User\\AppData\\Local\\Temp\\ipykernel_10912\\596334793.py:12: FutureWarning: `torch.cuda.amp.autocast(args...)` is deprecated. Please use `torch.amp.autocast('cuda', args...)` instead.\n",
      "  with torch.cuda.amp.autocast(enabled=use_amp):\n",
      "Epoch [1/3]: 100%|████████████████| 662/662 [06:00<00:00,  1.83it/s, GPU_mem=6.103G, Instances=27, Size=224, loss=5.88]\n"
     ]
    },
    {
     "name": "stdout",
     "output_type": "stream",
     "text": [
      "Epoch [1/3], Loss: 6.2244\n"
     ]
    },
    {
     "name": "stderr",
     "output_type": "stream",
     "text": [
      "Epoch [2/3]: 100%|████████████████| 662/662 [06:00<00:00,  1.83it/s, GPU_mem=6.103G, Instances=27, Size=224, loss=5.55]\n"
     ]
    },
    {
     "name": "stdout",
     "output_type": "stream",
     "text": [
      "Epoch [2/3], Loss: 5.7432\n"
     ]
    },
    {
     "name": "stderr",
     "output_type": "stream",
     "text": [
      "Epoch [3/3]: 100%|████████████████| 662/662 [06:00<00:00,  1.83it/s, GPU_mem=6.103G, Instances=27, Size=224, loss=5.07]\n"
     ]
    },
    {
     "name": "stdout",
     "output_type": "stream",
     "text": [
      "Epoch [3/3], Loss: 5.2954\n"
     ]
    },
    {
     "name": "stderr",
     "output_type": "stream",
     "text": [
      "Validation: 100%|█████████████████████████| 21/21 [00:41<00:00,  1.95s/it, classes=0.212, top1_acc=21.2, top5_acc=45.1]"
     ]
    },
    {
     "name": "stdout",
     "output_type": "stream",
     "text": [
      "Validation Loss: 5.1468, Top-1 Accuracy: 21.22%, Top-5 Accuracy: 45.10%\n"
     ]
    },
    {
     "name": "stderr",
     "output_type": "stream",
     "text": [
      "\n"
     ]
    }
   ],
   "source": [
    "# Training with SGDScheduleFree optimizer and augmentations(learning rate = 2.5e-4)\n",
    "mymodel_SGDScheduleFree_Aug = copy.deepcopy(model).to(device)\n",
    "num_epochs = 3  # Set the number of epochs\n",
    "lr = 2.5e-4\n",
    "optimizer_SGDScheduleFree = schedulefree.SGDScheduleFree(mymodel_SGDScheduleFree_Aug.linear_head.parameters(), lr=lr)\n",
    "optimizer_SGDScheduleFree.train()\n",
    "mymodel_SGDScheduleFree_Aug = train_model_aug(mymodel_SGDScheduleFree_Aug, num_epochs, optimizer_SGDScheduleFree)\n",
    "optimizer_SGDScheduleFree.eval()\n",
    "check_accuracy(mymodel_SGDScheduleFree_Aug, val_dataloader)"
   ]
  },
  {
   "cell_type": "code",
   "execution_count": 49,
   "id": "a5a22c47",
   "metadata": {},
   "outputs": [],
   "source": [
    "# Save the trained model\n",
    "state = {'net': mymodel_SGDScheduleFree_Aug.state_dict()}\n",
    "torch.save(state, '../models/DINO/Dino_SGDScheduleFree_Aug_128.pth')"
   ]
  },
  {
   "cell_type": "code",
   "execution_count": 50,
   "id": "2f293e60",
   "metadata": {},
   "outputs": [],
   "source": [
    "del mymodel_SGDScheduleFree_Aug"
   ]
  },
  {
   "cell_type": "code",
   "execution_count": 52,
   "id": "5973563d",
   "metadata": {},
   "outputs": [
    {
     "name": "stderr",
     "output_type": "stream",
     "text": [
      "Epoch [1/3]:   0%|                                                                             | 0/662 [00:00<?, ?it/s]C:\\Users\\User\\AppData\\Local\\Temp\\ipykernel_10912\\596334793.py:12: FutureWarning: `torch.cuda.amp.autocast(args...)` is deprecated. Please use `torch.amp.autocast('cuda', args...)` instead.\n",
      "  with torch.cuda.amp.autocast(enabled=use_amp):\n",
      "Epoch [1/3]: 100%|████████████████| 662/662 [06:11<00:00,  1.78it/s, GPU_mem=5.962G, Instances=27, Size=224, loss=4.45]\n"
     ]
    },
    {
     "name": "stdout",
     "output_type": "stream",
     "text": [
      "Epoch [1/3], Loss: 5.5427\n"
     ]
    },
    {
     "name": "stderr",
     "output_type": "stream",
     "text": [
      "Epoch [2/3]: 100%|████████████████| 662/662 [06:07<00:00,  1.80it/s, GPU_mem=5.962G, Instances=27, Size=224, loss=3.11]\n"
     ]
    },
    {
     "name": "stdout",
     "output_type": "stream",
     "text": [
      "Epoch [2/3], Loss: 3.9039\n"
     ]
    },
    {
     "name": "stderr",
     "output_type": "stream",
     "text": [
      "Epoch [3/3]: 100%|████████████████| 662/662 [06:05<00:00,  1.81it/s, GPU_mem=5.962G, Instances=27, Size=224, loss=2.34]\n"
     ]
    },
    {
     "name": "stdout",
     "output_type": "stream",
     "text": [
      "Epoch [3/3], Loss: 2.6445\n"
     ]
    },
    {
     "name": "stderr",
     "output_type": "stream",
     "text": [
      "Validation: 100%|█████████████████████████| 21/21 [00:41<00:00,  1.97s/it, classes=0.735, top1_acc=73.5, top5_acc=97.4]"
     ]
    },
    {
     "name": "stdout",
     "output_type": "stream",
     "text": [
      "Validation Loss: 2.2185, Top-1 Accuracy: 73.49%, Top-5 Accuracy: 97.37%\n"
     ]
    },
    {
     "name": "stderr",
     "output_type": "stream",
     "text": [
      "\n"
     ]
    }
   ],
   "source": [
    "# Training with SGDScheduleFree optimizer and augmentations(learning rate = 1e-3)\n",
    "mymodel_SGDScheduleFree_Aug = copy.deepcopy(model).to(device)\n",
    "num_epochs = 3  # Set the number of epochs\n",
    "lr = 1e-3\n",
    "optimizer_SGDScheduleFree = schedulefree.SGDScheduleFree(mymodel_SGDScheduleFree_Aug.linear_head.parameters(), lr=lr)\n",
    "optimizer_SGDScheduleFree.train()\n",
    "mymodel_SGDScheduleFree_Aug = train_model_aug(mymodel_SGDScheduleFree_Aug, num_epochs, optimizer_SGDScheduleFree)\n",
    "optimizer_SGDScheduleFree.eval()\n",
    "check_accuracy(mymodel_SGDScheduleFree_Aug, val_dataloader)"
   ]
  },
  {
   "cell_type": "code",
   "execution_count": 53,
   "id": "2593f206",
   "metadata": {},
   "outputs": [],
   "source": [
    "# Save the trained model\n",
    "state = {'net': mymodel_SGDScheduleFree_Aug.state_dict()}\n",
    "torch.save(state, '../models/DINO/Dino_SGDScheduleFree_Aug_128_lr_1e-3.pth')"
   ]
  },
  {
   "cell_type": "code",
   "execution_count": 54,
   "id": "9968fb32",
   "metadata": {},
   "outputs": [],
   "source": [
    "del mymodel_SGDScheduleFree_Aug"
   ]
  },
  {
   "cell_type": "code",
   "execution_count": 55,
   "id": "98090db6",
   "metadata": {
    "scrolled": true
   },
   "outputs": [
    {
     "name": "stderr",
     "output_type": "stream",
     "text": [
      "Epoch [1/3]:   0%|                                                                             | 0/662 [00:00<?, ?it/s]C:\\Users\\User\\AppData\\Local\\Temp\\ipykernel_10912\\596334793.py:12: FutureWarning: `torch.cuda.amp.autocast(args...)` is deprecated. Please use `torch.amp.autocast('cuda', args...)` instead.\n",
      "  with torch.cuda.amp.autocast(enabled=use_amp):\n",
      "Epoch [1/3]: 100%|████████████████| 662/662 [06:08<00:00,  1.80it/s, GPU_mem=7.445G, Instances=27, Size=224, loss=1.59]\n"
     ]
    },
    {
     "name": "stdout",
     "output_type": "stream",
     "text": [
      "Epoch [1/3], Loss: 3.0719\n"
     ]
    },
    {
     "name": "stderr",
     "output_type": "stream",
     "text": [
      "Epoch [2/3]: 100%|███████████████| 662/662 [06:04<00:00,  1.82it/s, GPU_mem=7.445G, Instances=27, Size=224, loss=0.299]\n"
     ]
    },
    {
     "name": "stdout",
     "output_type": "stream",
     "text": [
      "Epoch [2/3], Loss: 0.6983\n"
     ]
    },
    {
     "name": "stderr",
     "output_type": "stream",
     "text": [
      "Epoch [3/3]: 100%|███████████████| 662/662 [06:07<00:00,  1.80it/s, GPU_mem=7.445G, Instances=27, Size=224, loss=0.331]\n"
     ]
    },
    {
     "name": "stdout",
     "output_type": "stream",
     "text": [
      "Epoch [3/3], Loss: 0.3821\n"
     ]
    },
    {
     "name": "stderr",
     "output_type": "stream",
     "text": [
      "Validation: 100%|████████████████████████████| 21/21 [00:41<00:00,  1.97s/it, classes=0.97, top1_acc=97, top5_acc=99.8]"
     ]
    },
    {
     "name": "stdout",
     "output_type": "stream",
     "text": [
      "Validation Loss: 0.2389, Top-1 Accuracy: 96.99%, Top-5 Accuracy: 99.77%\n"
     ]
    },
    {
     "name": "stderr",
     "output_type": "stream",
     "text": [
      "\n"
     ]
    }
   ],
   "source": [
    "# Training with SGDScheduleFree optimizer and augmentations(learning rate = 5e-3)\n",
    "mymodel_SGDScheduleFree_Aug = copy.deepcopy(model).to(device)\n",
    "num_epochs = 3  # Set the number of epochs\n",
    "lr = 5e-3\n",
    "optimizer_SGDScheduleFree = schedulefree.SGDScheduleFree(mymodel_SGDScheduleFree_Aug.linear_head.parameters(), lr=lr)\n",
    "optimizer_SGDScheduleFree.train()\n",
    "mymodel_SGDScheduleFree_Aug = train_model_aug(mymodel_SGDScheduleFree_Aug, num_epochs, optimizer_SGDScheduleFree)\n",
    "optimizer_SGDScheduleFree.eval()\n",
    "check_accuracy(mymodel_SGDScheduleFree_Aug, val_dataloader)"
   ]
  },
  {
   "cell_type": "code",
   "execution_count": 56,
   "id": "5ef92c38",
   "metadata": {},
   "outputs": [],
   "source": [
    "# Save the trained model\n",
    "state = {'net': mymodel_SGDScheduleFree_Aug.state_dict()}\n",
    "torch.save(state, '../models/DINO/Dino_SGDScheduleFree_Aug_128_lr_5e-3.pth')"
   ]
  }
 ],
 "metadata": {
  "kernelspec": {
   "display_name": "Python 3 (ipykernel)",
   "language": "python",
   "name": "python3"
  },
  "language_info": {
   "codemirror_mode": {
    "name": "ipython",
    "version": 3
   },
   "file_extension": ".py",
   "mimetype": "text/x-python",
   "name": "python",
   "nbconvert_exporter": "python",
   "pygments_lexer": "ipython3",
   "version": "3.8.18"
  }
 },
 "nbformat": 4,
 "nbformat_minor": 5
}
