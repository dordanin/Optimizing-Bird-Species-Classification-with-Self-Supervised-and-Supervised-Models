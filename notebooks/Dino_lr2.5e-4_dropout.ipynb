{
 "cells": [
  {
   "cell_type": "markdown",
   "id": "b18971cb",
   "metadata": {},
   "source": [
    "# Notebook for DINOv2 models with dropout"
   ]
  },
  {
   "cell_type": "code",
   "execution_count": 6,
   "id": "ae33414c-5e75-4e19-ad94-01b8745c7fa3",
   "metadata": {},
   "outputs": [
    {
     "name": "stderr",
     "output_type": "stream",
     "text": [
      "C:\\Users\\User\\anaconda3\\envs\\deep_learn\\lib\\site-packages\\kornia\\feature\\lightglue.py:44: FutureWarning: `torch.cuda.amp.custom_fwd(args...)` is deprecated. Please use `torch.amp.custom_fwd(args..., device_type='cuda')` instead.\n",
      "  @torch.cuda.amp.custom_fwd(cast_inputs=torch.float32)\n"
     ]
    }
   ],
   "source": [
    "import copy\n",
    "import os\n",
    "\n",
    "import torch\n",
    "import torchvision\n",
    "from torch import nn\n",
    "import torch\n",
    "import torch.nn as nn\n",
    "import torchvision.datasets as datasets\n",
    "import torchvision.transforms as transforms\n",
    "from torch.utils.data import DataLoader\n",
    "\n",
    "\n",
    "from tqdm import tqdm\n",
    "\n",
    "import schedulefree\n",
    "\n",
    "from kornia import augmentation as K\n",
    "from kornia.augmentation import AugmentationSequential"
   ]
  },
  {
   "cell_type": "code",
   "execution_count": 7,
   "id": "2ae723be-0463-4b3f-bd62-b51d61da39ad",
   "metadata": {},
   "outputs": [
    {
     "name": "stderr",
     "output_type": "stream",
     "text": [
      "Using cache found in C:\\Users\\User/.cache\\torch\\hub\\facebookresearch_dinov2_main\n"
     ]
    }
   ],
   "source": [
    "# Load a pre-trained DINOv2 model from Facebook Research using torch hub\n",
    "model = torch.hub.load('facebookresearch/dinov2', 'dinov2_vitl14_lc')"
   ]
  },
  {
   "cell_type": "code",
   "execution_count": 8,
   "id": "b72f83db-3802-493e-80a5-01bacc445ddc",
   "metadata": {},
   "outputs": [],
   "source": [
    "# Freeze all model parameters to avoid updating them during training\n",
    "for param in model.parameters():\n",
    "    param.requires_grad = False"
   ]
  },
  {
   "cell_type": "code",
   "execution_count": 9,
   "id": "024cc910-7a4e-4f26-95ad-cbecb088d23b",
   "metadata": {},
   "outputs": [],
   "source": [
    "# Add a linear head to the model with a dropout layer for regularization\n",
    "dropout_rate = 0.3\n",
    "num_classes = 525\n",
    "model.linear_head = nn.Sequential(\n",
    "    nn.Dropout(dropout_rate),\n",
    "    nn.Linear(model.linear_head.in_features, num_classes)\n",
    ")\n",
    "# Enable training only for the linear head (parameters of the added layers)\n",
    "for param in model.linear_head.parameters():\n",
    "    param.requires_grad = True"
   ]
  },
  {
   "cell_type": "code",
   "execution_count": 10,
   "id": "ee0a5816-8adc-4741-8509-9b21f14d31b1",
   "metadata": {},
   "outputs": [],
   "source": [
    "# Define a set of transformations to resize and convert images to tensors\n",
    "transform = transforms.Compose([\n",
    "    transforms.Resize((224, 224)),\n",
    "    transforms.ToTensor(),\n",
    "])"
   ]
  },
  {
   "cell_type": "code",
   "execution_count": 13,
   "id": "40d6b6da-b47b-4476-9052-aa8d061ef7c2",
   "metadata": {},
   "outputs": [],
   "source": [
    "# Load training and validation datasets from the specified directories\n",
    "train_dataset = datasets.ImageFolder('../dataset/train', transform=transform)\n",
    "val_dataset = datasets.ImageFolder('../dataset/val', transform=transform)\n",
    "\n",
    "# Create data loaders for training and validation datasets(with batch size = 256)\n",
    "train_dataloader = torch.utils.data.DataLoader(\n",
    "    train_dataset,\n",
    "    batch_size=256,\n",
    "    shuffle=True,\n",
    "    num_workers=4,\n",
    "    pin_memory=True\n",
    ")\n",
    "\n",
    "val_dataloader = torch.utils.data.DataLoader(\n",
    "    val_dataset,\n",
    "    batch_size=256,\n",
    "    shuffle=False,\n",
    "    num_workers=4,\n",
    "    pin_memory=True\n",
    ")\n"
   ]
  },
  {
   "cell_type": "code",
   "execution_count": 14,
   "id": "ffc8ca2e-c715-438b-a4f4-8f1156189155",
   "metadata": {},
   "outputs": [],
   "source": [
    "# Set the device to GPU if available, otherwise use CPU\n",
    "device = torch.device('cuda' if torch.cuda.is_available() else 'cpu')\n",
    "\n",
    "# Define the loss function (cross-entropy) for classification tasks\n",
    "criterion = nn.CrossEntropyLoss().to(device)"
   ]
  },
  {
   "cell_type": "code",
   "execution_count": 15,
   "id": "af42d185",
   "metadata": {},
   "outputs": [],
   "source": [
    "# function for calculating and displaying model accuracy\n",
    "def check_accuracy(model, dataloader=val_dataloader, device=device, desc='Validation'):\n",
    "    model.eval() # Set the model to evaluation mode\n",
    "    val_loss = 0.0\n",
    "    correct_top1 = 0 # Correct predictions for top-1 accuracy\n",
    "    correct_top5 = 0 # Correct predictions for top-5 accuracy\n",
    "    total = 0\n",
    "    \n",
    "    # Use tqdm for displaying progress during validation\n",
    "    dataloader_tqdm = tqdm(dataloader, desc=desc, leave=True)\n",
    "    \n",
    "    with torch.no_grad():\n",
    "        for inputs, labels in dataloader_tqdm:\n",
    "            inputs, labels = inputs.to(device), labels.to(device)\n",
    "            outputs = model(inputs)\n",
    "            loss = criterion(outputs, labels)\n",
    "            val_loss += loss.item()\n",
    "            \n",
    "            _, predicted = torch.max(outputs, 1)\n",
    "            total += labels.size(0)\n",
    "            correct_top1 += (predicted == labels).sum().item()\n",
    "\n",
    "            # For top-5 accuracy\n",
    "            _, top5_pred = outputs.topk(5, 1, True, True)\n",
    "            correct_top5 += top5_pred.eq(labels.view(-1, 1).expand_as(top5_pred)).sum().item()\n",
    "            \n",
    "            dataloader_tqdm.set_postfix(classes=correct_top1 / total, top1_acc=100 * correct_top1 / total, top5_acc=100 * correct_top5 / total)\n",
    "    \n",
    "    print(f'Validation Loss: {val_loss/len(dataloader):.4f}, Top-1 Accuracy: {100 * correct_top1 / total:.2f}%, Top-5 Accuracy: {100 * correct_top5 / total:.2f}%')"
   ]
  },
  {
   "cell_type": "code",
   "execution_count": 18,
   "id": "d9be64c9",
   "metadata": {},
   "outputs": [],
   "source": [
    "use_amp = True # Flag to use automatic mixed precision for training\n",
    "scaler = torch.amp.GradScaler(device,enabled=use_amp) # GradScaler for mixed precision training\n",
    "\n",
    "\n",
    "# train function without augmentations\n",
    "def train_model_no_aug(model, num_epochs, optimizer):\n",
    "    for epoch in range(num_epochs):\n",
    "        model.train() # Set the model to training mode\n",
    "        running_loss = 0.0\n",
    "        correct_top1 = 0 # Correct predictions for top-1 accuracy\n",
    "        total = 0\n",
    "        # Use tqdm for displaying progress during training\n",
    "        train_loader_tqdm = tqdm(train_dataloader, desc=f'Epoch [{epoch+1}/{num_epochs}]', leave=True)\n",
    "        \n",
    "        for inputs, labels in train_loader_tqdm:\n",
    "            inputs, labels = inputs.to(device), labels.to(device)\n",
    "\n",
    "            optimizer.zero_grad(set_to_none=True)\n",
    "            with torch.cuda.amp.autocast(enabled=use_amp):\n",
    "                outputs = model(inputs)\n",
    "                loss = criterion(outputs, labels)\n",
    "                \n",
    "            scaler.scale(loss).backward()\n",
    "            scaler.step(optimizer)\n",
    "            scaler.update()\n",
    "\n",
    "            running_loss += loss.item()\n",
    "            gpu_mem = torch.cuda.memory_reserved() / 1e9  # Get GPU memory usage in GB\n",
    "            _, predicted = torch.max(outputs, 1)\n",
    "            total += labels.size(0)\n",
    "            correct_top1 += (predicted == labels).sum().item()\n",
    "            \n",
    "            train_loader_tqdm.set_postfix(GPU_mem=f'{gpu_mem:.3f}G', loss=loss.item(), Instances=len(inputs), Size=inputs.shape[-1], top1_acc=100 * correct_top1 / total)\n",
    "\n",
    "        print(f'Epoch [{epoch+1}/{num_epochs}], Loss: {running_loss/len(train_dataloader):.4f}')\n",
    "        \n",
    "    return model\n"
   ]
  },
  {
   "cell_type": "markdown",
   "id": "a2c4ab12",
   "metadata": {},
   "source": [
    "## Set of models with the following parameters:\n",
    "1. Automatic mixed precision\n",
    "2. Batch size of 256\n",
    "3. Dropout rate of 0.3\n",
    "4. No augmentations\n",
    "5. 3 epochs"
   ]
  },
  {
   "cell_type": "code",
   "execution_count": 19,
   "id": "7d6a7f3e",
   "metadata": {
    "scrolled": true
   },
   "outputs": [
    {
     "name": "stderr",
     "output_type": "stream",
     "text": [
      "Epoch [1/3]:   0%|                                                                             | 0/331 [00:00<?, ?it/s]C:\\Users\\User\\AppData\\Local\\Temp\\ipykernel_4932\\3159248368.py:13: FutureWarning: `torch.cuda.amp.autocast(args...)` is deprecated. Please use `torch.amp.autocast('cuda', args...)` instead.\n",
      "  with torch.cuda.amp.autocast(enabled=use_amp):\n",
      "Epoch [1/3]: 100%|█| 331/331 [06:00<00:00,  1.09s/it, GPU_mem=4.513G, Instances=155, Size=224, loss=0.246, top1_acc=89.\n"
     ]
    },
    {
     "name": "stdout",
     "output_type": "stream",
     "text": [
      "Epoch [1/3], Loss: 0.5942\n"
     ]
    },
    {
     "name": "stderr",
     "output_type": "stream",
     "text": [
      "Epoch [2/3]: 100%|█| 331/331 [05:56<00:00,  1.08s/it, GPU_mem=4.513G, Instances=155, Size=224, loss=0.0489, top1_acc=97\n"
     ]
    },
    {
     "name": "stdout",
     "output_type": "stream",
     "text": [
      "Epoch [2/3], Loss: 0.1017\n"
     ]
    },
    {
     "name": "stderr",
     "output_type": "stream",
     "text": [
      "Epoch [3/3]: 100%|█| 331/331 [05:54<00:00,  1.07s/it, GPU_mem=4.513G, Instances=155, Size=224, loss=0.0697, top1_acc=98\n"
     ]
    },
    {
     "name": "stdout",
     "output_type": "stream",
     "text": [
      "Epoch [3/3], Loss: 0.0675\n"
     ]
    },
    {
     "name": "stderr",
     "output_type": "stream",
     "text": [
      "Validation: 100%|██████████████████████████| 11/11 [00:40<00:00,  3.64s/it, classes=0.982, top1_acc=98.2, top5_acc=100]"
     ]
    },
    {
     "name": "stdout",
     "output_type": "stream",
     "text": [
      "Validation Loss: 0.0702, Top-1 Accuracy: 98.25%, Top-5 Accuracy: 100.00%\n"
     ]
    },
    {
     "name": "stderr",
     "output_type": "stream",
     "text": [
      "\n"
     ]
    }
   ],
   "source": [
    "# Training with Adam optimizer and no augmentations\n",
    "mymodel_Adam_noAug = copy.deepcopy(model).to(device)\n",
    "num_epochs = 3  # Set the number of epochs\n",
    "lr = 2.5e-4\n",
    "optimizer_Adam = torch.optim.Adam(mymodel_Adam_noAug.linear_head.parameters(), lr=lr)\n",
    "mymodel_Adam_noAug = train_model_no_aug(mymodel_Adam_noAug, num_epochs, optimizer_Adam)\n",
    "check_accuracy(mymodel_Adam_noAug, val_dataloader)\n"
   ]
  },
  {
   "cell_type": "code",
   "execution_count": 20,
   "id": "8ade6fec",
   "metadata": {},
   "outputs": [],
   "source": [
    "# Save the trained model\n",
    "state = {'net': mymodel_Adam_noAug.state_dict()}\n",
    "torch.save(state, '../models/DINO/Dino_Adam_noAug_256_dropout_0.3.pth')"
   ]
  },
  {
   "cell_type": "code",
   "execution_count": 21,
   "id": "636c77a9",
   "metadata": {},
   "outputs": [],
   "source": [
    "del mymodel_Adam_noAug"
   ]
  },
  {
   "cell_type": "code",
   "execution_count": 23,
   "id": "3a7ba988",
   "metadata": {
    "scrolled": true
   },
   "outputs": [
    {
     "name": "stderr",
     "output_type": "stream",
     "text": [
      "Epoch [1/3]:   0%|                                                                             | 0/331 [00:00<?, ?it/s]C:\\Users\\User\\AppData\\Local\\Temp\\ipykernel_4932\\3159248368.py:13: FutureWarning: `torch.cuda.amp.autocast(args...)` is deprecated. Please use `torch.amp.autocast('cuda', args...)` instead.\n",
      "  with torch.cuda.amp.autocast(enabled=use_amp):\n",
      "Epoch [1/3]: 100%|█| 331/331 [05:50<00:00,  1.06s/it, GPU_mem=5.799G, Instances=155, Size=224, loss=1.27, top1_acc=53.7\n"
     ]
    },
    {
     "name": "stdout",
     "output_type": "stream",
     "text": [
      "Epoch [1/3], Loss: 3.1425\n"
     ]
    },
    {
     "name": "stderr",
     "output_type": "stream",
     "text": [
      "Epoch [2/3]: 100%|█| 331/331 [05:54<00:00,  1.07s/it, GPU_mem=5.799G, Instances=155, Size=224, loss=0.518, top1_acc=90.\n"
     ]
    },
    {
     "name": "stdout",
     "output_type": "stream",
     "text": [
      "Epoch [2/3], Loss: 0.8207\n"
     ]
    },
    {
     "name": "stderr",
     "output_type": "stream",
     "text": [
      "Epoch [3/3]: 100%|█| 331/331 [05:55<00:00,  1.07s/it, GPU_mem=5.799G, Instances=155, Size=224, loss=0.362, top1_acc=93.\n"
     ]
    },
    {
     "name": "stdout",
     "output_type": "stream",
     "text": [
      "Epoch [3/3], Loss: 0.4766\n"
     ]
    },
    {
     "name": "stderr",
     "output_type": "stream",
     "text": [
      "Validation: 100%|█████████████████████████| 11/11 [00:39<00:00,  3.58s/it, classes=0.971, top1_acc=97.1, top5_acc=99.9]"
     ]
    },
    {
     "name": "stdout",
     "output_type": "stream",
     "text": [
      "Validation Loss: 0.3117, Top-1 Accuracy: 97.07%, Top-5 Accuracy: 99.89%\n"
     ]
    },
    {
     "name": "stderr",
     "output_type": "stream",
     "text": [
      "\n"
     ]
    }
   ],
   "source": [
    "# Training with SGD optimizer and no augmentations (learning rate = 5e-3)\n",
    "mymodel_SGD_noAug =  copy.deepcopy(model).to(device)\n",
    "num_epochs = 3  # Set the number of epochs\n",
    "lr = 5e-3\n",
    "optimizer_SGD = torch.optim.SGD(mymodel_SGD_noAug.linear_head.parameters(), lr=lr)\n",
    "mymodel_Adam_noAug = train_model_no_aug(mymodel_SGD_noAug, num_epochs, optimizer_SGD)\n",
    "check_accuracy(mymodel_SGD_noAug, val_dataloader)\n"
   ]
  },
  {
   "cell_type": "code",
   "execution_count": 24,
   "id": "bb27313a",
   "metadata": {},
   "outputs": [],
   "source": [
    "# Save the trained model\n",
    "state = {'net': mymodel_SGD_noAug.state_dict()}\n",
    "torch.save(state, '../models/DINO/Dino_SGD_noAug_256_dropout_0.3_lr5e-3.pth')"
   ]
  },
  {
   "cell_type": "code",
   "execution_count": 25,
   "id": "d683247d",
   "metadata": {},
   "outputs": [],
   "source": [
    "del mymodel_SGD_noAug"
   ]
  },
  {
   "cell_type": "code",
   "execution_count": 26,
   "id": "87caf581",
   "metadata": {
    "scrolled": true
   },
   "outputs": [
    {
     "name": "stderr",
     "output_type": "stream",
     "text": [
      "Epoch [1/3]:   0%|                                                                             | 0/331 [00:00<?, ?it/s]C:\\Users\\User\\AppData\\Local\\Temp\\ipykernel_4932\\3159248368.py:13: FutureWarning: `torch.cuda.amp.autocast(args...)` is deprecated. Please use `torch.amp.autocast('cuda', args...)` instead.\n",
      "  with torch.cuda.amp.autocast(enabled=use_amp):\n",
      "Epoch [1/3]: 100%|█| 331/331 [05:53<00:00,  1.07s/it, GPU_mem=8.764G, Instances=155, Size=224, loss=0.159, top1_acc=89.\n"
     ]
    },
    {
     "name": "stdout",
     "output_type": "stream",
     "text": [
      "Epoch [1/3], Loss: 0.5929\n"
     ]
    },
    {
     "name": "stderr",
     "output_type": "stream",
     "text": [
      "Epoch [2/3]: 100%|█| 331/331 [06:00<00:00,  1.09s/it, GPU_mem=8.764G, Instances=155, Size=224, loss=0.113, top1_acc=97.\n"
     ]
    },
    {
     "name": "stdout",
     "output_type": "stream",
     "text": [
      "Epoch [2/3], Loss: 0.1013\n"
     ]
    },
    {
     "name": "stderr",
     "output_type": "stream",
     "text": [
      "Epoch [3/3]: 100%|█| 331/331 [05:56<00:00,  1.08s/it, GPU_mem=8.764G, Instances=155, Size=224, loss=0.0639, top1_acc=98\n"
     ]
    },
    {
     "name": "stdout",
     "output_type": "stream",
     "text": [
      "Epoch [3/3], Loss: 0.0676\n"
     ]
    },
    {
     "name": "stderr",
     "output_type": "stream",
     "text": [
      "Validation: 100%|██████████████████████████| 11/11 [00:40<00:00,  3.66s/it, classes=0.984, top1_acc=98.4, top5_acc=100]"
     ]
    },
    {
     "name": "stdout",
     "output_type": "stream",
     "text": [
      "Validation Loss: 0.0665, Top-1 Accuracy: 98.40%, Top-5 Accuracy: 99.96%\n"
     ]
    },
    {
     "name": "stderr",
     "output_type": "stream",
     "text": [
      "\n"
     ]
    }
   ],
   "source": [
    "# Training with AdamW optimizer and no augmentations\n",
    "mymodel_AdamW_noAug =  copy.deepcopy(model).to(device)\n",
    "num_epochs = 3  # Set the number of epochs\n",
    "lr = 2.5e-4\n",
    "optimizer_AdamW = torch.optim.AdamW(mymodel_AdamW_noAug.linear_head.parameters(), lr=lr)\n",
    "mymodel_AdamW_noAug = train_model_no_aug(mymodel_AdamW_noAug, num_epochs, optimizer_AdamW)\n",
    "check_accuracy(mymodel_AdamW_noAug, val_dataloader)\n"
   ]
  },
  {
   "cell_type": "code",
   "execution_count": 27,
   "id": "c5c510ab",
   "metadata": {},
   "outputs": [],
   "source": [
    "# Save the trained model\n",
    "state = {'net': mymodel_AdamW_noAug.state_dict()}\n",
    "torch.save(state, '../models/DINO/Dino_AdamW_noAug_256_dropout_0.3.pth')"
   ]
  },
  {
   "cell_type": "code",
   "execution_count": 28,
   "id": "a7e32994",
   "metadata": {},
   "outputs": [],
   "source": [
    "del mymodel_AdamW_noAug"
   ]
  },
  {
   "cell_type": "code",
   "execution_count": 29,
   "id": "a301d42b",
   "metadata": {},
   "outputs": [
    {
     "name": "stderr",
     "output_type": "stream",
     "text": [
      "Epoch [1/3]:   0%|                                                                             | 0/331 [00:00<?, ?it/s]C:\\Users\\User\\AppData\\Local\\Temp\\ipykernel_4932\\3159248368.py:13: FutureWarning: `torch.cuda.amp.autocast(args...)` is deprecated. Please use `torch.amp.autocast('cuda', args...)` instead.\n",
      "  with torch.cuda.amp.autocast(enabled=use_amp):\n",
      "Epoch [1/3]: 100%|█| 331/331 [05:52<00:00,  1.06s/it, GPU_mem=8.766G, Instances=155, Size=224, loss=0.194, top1_acc=91.\n"
     ]
    },
    {
     "name": "stdout",
     "output_type": "stream",
     "text": [
      "Epoch [1/3], Loss: 0.4498\n"
     ]
    },
    {
     "name": "stderr",
     "output_type": "stream",
     "text": [
      "Epoch [2/3]: 100%|█| 331/331 [05:53<00:00,  1.07s/it, GPU_mem=8.766G, Instances=155, Size=224, loss=0.0701, top1_acc=97\n"
     ]
    },
    {
     "name": "stdout",
     "output_type": "stream",
     "text": [
      "Epoch [2/3], Loss: 0.0958\n"
     ]
    },
    {
     "name": "stderr",
     "output_type": "stream",
     "text": [
      "Epoch [3/3]: 100%|█| 331/331 [06:00<00:00,  1.09s/it, GPU_mem=8.766G, Instances=155, Size=224, loss=0.0149, top1_acc=98\n"
     ]
    },
    {
     "name": "stdout",
     "output_type": "stream",
     "text": [
      "Epoch [3/3], Loss: 0.0633\n"
     ]
    },
    {
     "name": "stderr",
     "output_type": "stream",
     "text": [
      "Validation: 100%|██████████████████████████| 11/11 [00:40<00:00,  3.65s/it, classes=0.988, top1_acc=98.8, top5_acc=100]"
     ]
    },
    {
     "name": "stdout",
     "output_type": "stream",
     "text": [
      "Validation Loss: 0.0525, Top-1 Accuracy: 98.78%, Top-5 Accuracy: 99.96%\n"
     ]
    },
    {
     "name": "stderr",
     "output_type": "stream",
     "text": [
      "\n"
     ]
    }
   ],
   "source": [
    "# Training with RMSprop optimizer and no augmentations\n",
    "mymodel_RMSProp_noAug =  copy.deepcopy(model).to(device)\n",
    "num_epochs = 3  # Set the number of epochs\n",
    "lr = 2.5e-4\n",
    "optimizer_RMSProp = torch.optim.RMSprop(mymodel_RMSProp_noAug.linear_head.parameters(), lr=lr)\n",
    "mymodel_RMSProp_noAug = train_model_no_aug(mymodel_RMSProp_noAug, num_epochs, optimizer_RMSProp)\n",
    "check_accuracy(mymodel_RMSProp_noAug, val_dataloader)\n"
   ]
  },
  {
   "cell_type": "code",
   "execution_count": 30,
   "id": "40201a1c",
   "metadata": {},
   "outputs": [],
   "source": [
    "# Save the trained model\n",
    "state = {'net': mymodel_RMSProp_noAug.state_dict()} \n",
    "torch.save(state, '../models/DINO/Dino_RMSProp_noAug_256_dropout_0.3.pth')"
   ]
  },
  {
   "cell_type": "code",
   "execution_count": 31,
   "id": "1d6e2225",
   "metadata": {},
   "outputs": [],
   "source": [
    "del mymodel_RMSProp_noAug"
   ]
  },
  {
   "cell_type": "code",
   "execution_count": 33,
   "id": "4a6a8d0b",
   "metadata": {},
   "outputs": [
    {
     "name": "stderr",
     "output_type": "stream",
     "text": [
      "Epoch [1/3]:   0%|                                                                             | 0/331 [00:00<?, ?it/s]C:\\Users\\User\\AppData\\Local\\Temp\\ipykernel_4932\\3159248368.py:13: FutureWarning: `torch.cuda.amp.autocast(args...)` is deprecated. Please use `torch.amp.autocast('cuda', args...)` instead.\n",
      "  with torch.cuda.amp.autocast(enabled=use_amp):\n",
      "Epoch [1/3]: 100%|█| 331/331 [05:55<00:00,  1.07s/it, GPU_mem=7.132G, Instances=155, Size=224, loss=0.177, top1_acc=89.\n"
     ]
    },
    {
     "name": "stdout",
     "output_type": "stream",
     "text": [
      "Epoch [1/3], Loss: 0.6373\n"
     ]
    },
    {
     "name": "stderr",
     "output_type": "stream",
     "text": [
      "Epoch [2/3]: 100%|█| 331/331 [05:53<00:00,  1.07s/it, GPU_mem=7.132G, Instances=155, Size=224, loss=0.079, top1_acc=97.\n"
     ]
    },
    {
     "name": "stdout",
     "output_type": "stream",
     "text": [
      "Epoch [2/3], Loss: 0.1005\n"
     ]
    },
    {
     "name": "stderr",
     "output_type": "stream",
     "text": [
      "Epoch [3/3]: 100%|█| 331/331 [05:59<00:00,  1.09s/it, GPU_mem=7.132G, Instances=155, Size=224, loss=0.0491, top1_acc=98\n"
     ]
    },
    {
     "name": "stdout",
     "output_type": "stream",
     "text": [
      "Epoch [3/3], Loss: 0.0646\n"
     ]
    },
    {
     "name": "stderr",
     "output_type": "stream",
     "text": [
      "Validation: 100%|█████████████████████████| 11/11 [00:39<00:00,  3.59s/it, classes=0.986, top1_acc=98.6, top5_acc=99.9]"
     ]
    },
    {
     "name": "stdout",
     "output_type": "stream",
     "text": [
      "Validation Loss: 0.0609, Top-1 Accuracy: 98.59%, Top-5 Accuracy: 99.92%\n"
     ]
    },
    {
     "name": "stderr",
     "output_type": "stream",
     "text": [
      "\n"
     ]
    }
   ],
   "source": [
    "# Training with NAdam optimizer and no augmentations\n",
    "mymodel_NAdam_noAug =  copy.deepcopy(model).to(device)\n",
    "num_epochs = 3  # Set the number of epochs\n",
    "lr = 2.5e-4\n",
    "optimizer_NAdam = torch.optim.NAdam(mymodel_NAdam_noAug.linear_head.parameters(), lr=lr)\n",
    "mymodel_Adam_noAug = train_model_no_aug(mymodel_NAdam_noAug, num_epochs, optimizer_NAdam)\n",
    "check_accuracy(mymodel_NAdam_noAug, val_dataloader)\n"
   ]
  },
  {
   "cell_type": "code",
   "execution_count": 34,
   "id": "34c00f98",
   "metadata": {},
   "outputs": [],
   "source": [
    "# Save the trained model\n",
    "state = {'net': mymodel_NAdam_noAug.state_dict()}\n",
    "torch.save(state, '../models/DINO/Dino_NAdam_noAug_256_dropout_0.3.pth')"
   ]
  },
  {
   "cell_type": "code",
   "execution_count": 35,
   "id": "c574d3a8",
   "metadata": {},
   "outputs": [],
   "source": [
    "del mymodel_NAdam_noAug"
   ]
  },
  {
   "cell_type": "code",
   "execution_count": 36,
   "id": "7dbfff52",
   "metadata": {},
   "outputs": [
    {
     "name": "stderr",
     "output_type": "stream",
     "text": [
      "Epoch [1/3]:   0%|                                                                             | 0/331 [00:00<?, ?it/s]C:\\Users\\User\\AppData\\Local\\Temp\\ipykernel_4932\\3159248368.py:13: FutureWarning: `torch.cuda.amp.autocast(args...)` is deprecated. Please use `torch.amp.autocast('cuda', args...)` instead.\n",
      "  with torch.cuda.amp.autocast(enabled=use_amp):\n",
      "Epoch [1/3]: 100%|█| 331/331 [05:59<00:00,  1.09s/it, GPU_mem=10.098G, Instances=155, Size=224, loss=0.249, top1_acc=89\n"
     ]
    },
    {
     "name": "stdout",
     "output_type": "stream",
     "text": [
      "Epoch [1/3], Loss: 0.5934\n"
     ]
    },
    {
     "name": "stderr",
     "output_type": "stream",
     "text": [
      "Epoch [2/3]: 100%|█| 331/331 [06:01<00:00,  1.09s/it, GPU_mem=10.098G, Instances=155, Size=224, loss=0.127, top1_acc=97\n"
     ]
    },
    {
     "name": "stdout",
     "output_type": "stream",
     "text": [
      "Epoch [2/3], Loss: 0.1027\n"
     ]
    },
    {
     "name": "stderr",
     "output_type": "stream",
     "text": [
      "Epoch [3/3]: 100%|█| 331/331 [05:59<00:00,  1.08s/it, GPU_mem=10.098G, Instances=155, Size=224, loss=0.0869, top1_acc=9\n"
     ]
    },
    {
     "name": "stdout",
     "output_type": "stream",
     "text": [
      "Epoch [3/3], Loss: 0.0672\n"
     ]
    },
    {
     "name": "stderr",
     "output_type": "stream",
     "text": [
      "Validation: 100%|█████████████████████████| 11/11 [00:39<00:00,  3.59s/it, classes=0.985, top1_acc=98.5, top5_acc=99.9]"
     ]
    },
    {
     "name": "stdout",
     "output_type": "stream",
     "text": [
      "Validation Loss: 0.0596, Top-1 Accuracy: 98.51%, Top-5 Accuracy: 99.92%\n"
     ]
    },
    {
     "name": "stderr",
     "output_type": "stream",
     "text": [
      "\n"
     ]
    }
   ],
   "source": [
    "# Training with RAdam optimizer and no augmentations\n",
    "mymodel_RAdam_noAug = copy.deepcopy(model).to(device)\n",
    "num_epochs = 3  # Set the number of epochs\n",
    "lr = 2.5e-4\n",
    "optimizer_RAdam = torch.optim.Adam(mymodel_RAdam_noAug.linear_head.parameters(), lr=lr)\n",
    "mymodel_Adam_noAug = train_model_no_aug(mymodel_RAdam_noAug, num_epochs, optimizer_RAdam)\n",
    "check_accuracy(mymodel_RAdam_noAug, val_dataloader)\n"
   ]
  },
  {
   "cell_type": "code",
   "execution_count": 37,
   "id": "dc493d9e",
   "metadata": {},
   "outputs": [],
   "source": [
    "# Save the trained model\n",
    "state = {'net': mymodel_RAdam_noAug.state_dict()}\n",
    "torch.save(state, '../models/DINO/Dino_RAdam_noAug_256_dropout_0.3.pth')"
   ]
  },
  {
   "cell_type": "code",
   "execution_count": 38,
   "id": "e4734c77",
   "metadata": {},
   "outputs": [],
   "source": [
    "del mymodel_RAdam_noAug"
   ]
  },
  {
   "cell_type": "code",
   "execution_count": 41,
   "id": "5d5cca12",
   "metadata": {},
   "outputs": [
    {
     "name": "stderr",
     "output_type": "stream",
     "text": [
      "Epoch [1/3]:   0%|                                                                             | 0/331 [00:00<?, ?it/s]C:\\Users\\User\\AppData\\Local\\Temp\\ipykernel_4932\\3159248368.py:13: FutureWarning: `torch.cuda.amp.autocast(args...)` is deprecated. Please use `torch.amp.autocast('cuda', args...)` instead.\n",
      "  with torch.cuda.amp.autocast(enabled=use_amp):\n",
      "Epoch [1/3]: 100%|█| 331/331 [05:50<00:00,  1.06s/it, GPU_mem=6.000G, Instances=155, Size=224, loss=0.111, top1_acc=88]\n"
     ]
    },
    {
     "name": "stdout",
     "output_type": "stream",
     "text": [
      "Epoch [1/3], Loss: 0.7289\n"
     ]
    },
    {
     "name": "stderr",
     "output_type": "stream",
     "text": [
      "Epoch [2/3]: 100%|█| 331/331 [05:57<00:00,  1.08s/it, GPU_mem=6.000G, Instances=155, Size=224, loss=0.0646, top1_acc=98\n"
     ]
    },
    {
     "name": "stdout",
     "output_type": "stream",
     "text": [
      "Epoch [2/3], Loss: 0.0994\n"
     ]
    },
    {
     "name": "stderr",
     "output_type": "stream",
     "text": [
      "Epoch [3/3]: 100%|█| 331/331 [06:01<00:00,  1.09s/it, GPU_mem=6.000G, Instances=155, Size=224, loss=0.0672, top1_acc=98\n"
     ]
    },
    {
     "name": "stdout",
     "output_type": "stream",
     "text": [
      "Epoch [3/3], Loss: 0.0640\n"
     ]
    },
    {
     "name": "stderr",
     "output_type": "stream",
     "text": [
      "Validation: 100%|█████████████████████████| 11/11 [00:40<00:00,  3.66s/it, classes=0.989, top1_acc=98.9, top5_acc=99.9]"
     ]
    },
    {
     "name": "stdout",
     "output_type": "stream",
     "text": [
      "Validation Loss: 0.0519, Top-1 Accuracy: 98.93%, Top-5 Accuracy: 99.92%\n"
     ]
    },
    {
     "name": "stderr",
     "output_type": "stream",
     "text": [
      "\n"
     ]
    }
   ],
   "source": [
    "# Training with AdamWScheduleFree optimizer and no augmentations\n",
    "mymodel_AdamWScheduleFree_noAug = copy.deepcopy(model).to(device)\n",
    "num_epochs = 3  # Set the number of epochs\n",
    "lr = 2.5e-4\n",
    "optimizer_AdamWScheduleFree = schedulefree.AdamWScheduleFree(mymodel_AdamWScheduleFree_noAug.linear_head.parameters(), lr=lr)\n",
    "optimizer_AdamWScheduleFree.train()\n",
    "mymodel_AdamWScheduleFree_noAug = train_model_no_aug(mymodel_AdamWScheduleFree_noAug, num_epochs, optimizer_AdamWScheduleFree)\n",
    "optimizer_AdamWScheduleFree.eval()\n",
    "check_accuracy(mymodel_AdamWScheduleFree_noAug, val_dataloader)"
   ]
  },
  {
   "cell_type": "code",
   "execution_count": 42,
   "id": "b4e0d260",
   "metadata": {},
   "outputs": [],
   "source": [
    "# Save the trained model\n",
    "state = {'net': mymodel_AdamWScheduleFree_noAug.state_dict()}\n",
    "torch.save(state, '../models/DINO/Dino_AdamWScheduleFree_noAug_256_dropout_0.3.pth')"
   ]
  },
  {
   "cell_type": "code",
   "execution_count": 43,
   "id": "200ca979",
   "metadata": {},
   "outputs": [],
   "source": [
    "del mymodel_AdamWScheduleFree_noAug"
   ]
  },
  {
   "cell_type": "code",
   "execution_count": 49,
   "id": "44a1a1ab",
   "metadata": {},
   "outputs": [
    {
     "name": "stderr",
     "output_type": "stream",
     "text": [
      "Epoch [1/3]:   0%|                                                                             | 0/331 [00:00<?, ?it/s]C:\\Users\\User\\AppData\\Local\\Temp\\ipykernel_4932\\3159248368.py:13: FutureWarning: `torch.cuda.amp.autocast(args...)` is deprecated. Please use `torch.amp.autocast('cuda', args...)` instead.\n",
      "  with torch.cuda.amp.autocast(enabled=use_amp):\n",
      "Epoch [1/3]: 100%|█| 331/331 [05:52<00:00,  1.07s/it, GPU_mem=7.378G, Instances=155, Size=224, loss=2.37, top1_acc=34.7\n"
     ]
    },
    {
     "name": "stdout",
     "output_type": "stream",
     "text": [
      "Epoch [1/3], Loss: 4.2115\n"
     ]
    },
    {
     "name": "stderr",
     "output_type": "stream",
     "text": [
      "Epoch [2/3]: 100%|█| 331/331 [05:52<00:00,  1.06s/it, GPU_mem=7.378G, Instances=155, Size=224, loss=0.858, top1_acc=81]\n"
     ]
    },
    {
     "name": "stdout",
     "output_type": "stream",
     "text": [
      "Epoch [2/3], Loss: 1.4619\n"
     ]
    },
    {
     "name": "stderr",
     "output_type": "stream",
     "text": [
      "Epoch [3/3]: 100%|█| 331/331 [05:56<00:00,  1.08s/it, GPU_mem=7.378G, Instances=155, Size=224, loss=0.449, top1_acc=90.\n"
     ]
    },
    {
     "name": "stdout",
     "output_type": "stream",
     "text": [
      "Epoch [3/3], Loss: 0.6891\n"
     ]
    },
    {
     "name": "stderr",
     "output_type": "stream",
     "text": [
      "Validation: 100%|█████████████████████████| 11/11 [00:40<00:00,  3.69s/it, classes=0.956, top1_acc=95.6, top5_acc=99.8]"
     ]
    },
    {
     "name": "stdout",
     "output_type": "stream",
     "text": [
      "Validation Loss: 0.4978, Top-1 Accuracy: 95.58%, Top-5 Accuracy: 99.77%\n"
     ]
    },
    {
     "name": "stderr",
     "output_type": "stream",
     "text": [
      "\n"
     ]
    }
   ],
   "source": [
    "# Training with SGDScheduleFree optimizer and no augmentations(lr = 5e-3)\n",
    "mymodel_SGDScheduleFree_noAug = copy.deepcopy(model).to(device)\n",
    "num_epochs = 3  # Set the number of epochs\n",
    "lr = 5e-3\n",
    "optimizer_SGDScheduleFree = schedulefree.SGDScheduleFree(mymodel_SGDScheduleFree_noAug.linear_head.parameters(), lr=lr)\n",
    "optimizer_SGDScheduleFree.train()\n",
    "mymodel_SGDScheduleFree_noAug = train_model_no_aug(mymodel_SGDScheduleFree_noAug, num_epochs, optimizer_SGDScheduleFree)\n",
    "optimizer_SGDScheduleFree.eval()\n",
    "check_accuracy(mymodel_SGDScheduleFree_noAug, val_dataloader)"
   ]
  },
  {
   "cell_type": "code",
   "execution_count": 50,
   "id": "61ff4a76",
   "metadata": {},
   "outputs": [],
   "source": [
    "# Save the trained model\n",
    "state = {'net': mymodel_SGDScheduleFree_noAug.state_dict()}\n",
    "torch.save(state, '../models/DINO/Dino_SGDScheduleFree_noAug_256_dropout_0.3_lr_5e-3.pth')"
   ]
  },
  {
   "cell_type": "code",
   "execution_count": 51,
   "id": "3a7679d8",
   "metadata": {},
   "outputs": [],
   "source": [
    "del mymodel_SGDScheduleFree_noAug"
   ]
  },
  {
   "cell_type": "code",
   "execution_count": 44,
   "id": "d94f2359",
   "metadata": {
    "scrolled": true
   },
   "outputs": [
    {
     "name": "stderr",
     "output_type": "stream",
     "text": [
      "Epoch [1/3]:   0%|                                                                             | 0/331 [00:00<?, ?it/s]C:\\Users\\User\\AppData\\Local\\Temp\\ipykernel_4932\\3159248368.py:13: FutureWarning: `torch.cuda.amp.autocast(args...)` is deprecated. Please use `torch.amp.autocast('cuda', args...)` instead.\n",
      "  with torch.cuda.amp.autocast(enabled=use_amp):\n",
      "Epoch [1/3]: 100%|█| 331/331 [05:59<00:00,  1.08s/it, GPU_mem=8.967G, Instances=155, Size=224, loss=5.43, top1_acc=2.25\n"
     ]
    },
    {
     "name": "stdout",
     "output_type": "stream",
     "text": [
      "Epoch [1/3], Loss: 6.0033\n"
     ]
    },
    {
     "name": "stderr",
     "output_type": "stream",
     "text": [
      "Epoch [2/3]: 100%|█| 331/331 [05:57<00:00,  1.08s/it, GPU_mem=8.967G, Instances=155, Size=224, loss=4.64, top1_acc=18.7\n"
     ]
    },
    {
     "name": "stdout",
     "output_type": "stream",
     "text": [
      "Epoch [2/3], Loss: 4.9820\n"
     ]
    },
    {
     "name": "stderr",
     "output_type": "stream",
     "text": [
      "Epoch [3/3]: 100%|█| 331/331 [05:54<00:00,  1.07s/it, GPU_mem=8.967G, Instances=155, Size=224, loss=3.69, top1_acc=39.5\n"
     ]
    },
    {
     "name": "stdout",
     "output_type": "stream",
     "text": [
      "Epoch [3/3], Loss: 4.0758\n"
     ]
    },
    {
     "name": "stderr",
     "output_type": "stream",
     "text": [
      "Validation: 100%|███████████████████████████| 11/11 [00:39<00:00,  3.63s/it, classes=0.514, top1_acc=51.4, top5_acc=89]"
     ]
    },
    {
     "name": "stdout",
     "output_type": "stream",
     "text": [
      "Validation Loss: 3.7592, Top-1 Accuracy: 51.35%, Top-5 Accuracy: 88.99%\n"
     ]
    },
    {
     "name": "stderr",
     "output_type": "stream",
     "text": [
      "\n"
     ]
    }
   ],
   "source": [
    "# Training with SGDScheduleFree optimizer and no augmentations(lr = 1e-3)\n",
    "mymodel_SGDScheduleFree_noAug = copy.deepcopy(model).to(device)\n",
    "num_epochs = 3  # Set the number of epochs\n",
    "lr = 1e-3\n",
    "optimizer_SGDScheduleFree = schedulefree.SGDScheduleFree(mymodel_SGDScheduleFree_noAug.linear_head.parameters(), lr=lr)\n",
    "optimizer_SGDScheduleFree.train()\n",
    "mymodel_SGDScheduleFree_noAug = train_model_no_aug(mymodel_SGDScheduleFree_noAug, num_epochs, optimizer_SGDScheduleFree)\n",
    "optimizer_SGDScheduleFree.eval()\n",
    "check_accuracy(mymodel_SGDScheduleFree_noAug, val_dataloader)"
   ]
  },
  {
   "cell_type": "code",
   "execution_count": 45,
   "id": "655d8f4b",
   "metadata": {},
   "outputs": [],
   "source": [
    "# Save the trained model\n",
    "state = {'net': mymodel_SGDScheduleFree_noAug.state_dict()}\n",
    "torch.save(state, '../models/DINO/Dino_SGDScheduleFree_noAug_256_dropout_0.3_lr_1e-3.pth')"
   ]
  },
  {
   "cell_type": "code",
   "execution_count": 46,
   "id": "7d81c87c",
   "metadata": {},
   "outputs": [],
   "source": [
    "del mymodel_SGDScheduleFree_noAug"
   ]
  },
  {
   "cell_type": "markdown",
   "id": "fd059a7b",
   "metadata": {},
   "source": [
    "## Set of models with the following parameters:\n",
    "1. Automatic mixed precision\n",
    "2. Batch size of 64\n",
    "3. Dropout rate of 0.3\n",
    "4. Kornia augmentations (see specifics below)\n",
    "5. 3 epochs"
   ]
  },
  {
   "cell_type": "code",
   "execution_count": 17,
   "id": "da407b29",
   "metadata": {},
   "outputs": [],
   "source": [
    "# Create data loaders for training and validation datasets(with batch size = 64)\n",
    "train_dataloader = torch.utils.data.DataLoader(\n",
    "    train_dataset,\n",
    "    batch_size=64,\n",
    "    shuffle=True,\n",
    "    num_workers=4,\n",
    "    pin_memory=True\n",
    ")\n",
    "\n",
    "val_dataloader = torch.utils.data.DataLoader(\n",
    "    val_dataset,\n",
    "    batch_size=64,\n",
    "    shuffle=False,\n",
    "    num_workers=4,\n",
    "    pin_memory=True\n",
    ")\n"
   ]
  },
  {
   "cell_type": "code",
   "execution_count": 18,
   "id": "3aa6b7af",
   "metadata": {},
   "outputs": [],
   "source": [
    "# Create an augmentation pipeline using Kornia's AugmentationSequential\n",
    "aug = AugmentationSequential(\n",
    "    # Apply a random rotation up to 45 degrees with a 30% probability\n",
    "    K.RandomRotation(degrees=45.0, p=0.3),\n",
    "    # Apply a random horizontal flip with a 30% probability\n",
    "    K.RandomHorizontalFlip(p=0.3),\n",
    "    # Apply a random vertical flip with a 30% probability\n",
    "    K.RandomVerticalFlip(p=0.3),\n",
    "    # Apply a random affine transformation with rotation up to 30 degrees with a 30% probability\n",
    "    K.RandomAffine(degrees=30.0, p=0.3)\n",
    ").to(device)"
   ]
  },
  {
   "cell_type": "code",
   "execution_count": 21,
   "id": "eb40b652",
   "metadata": {},
   "outputs": [],
   "source": [
    "use_amp = True # Flag to use automatic mixed precision for training\n",
    "scaler = torch.amp.GradScaler(device,enabled=use_amp) # GradScaler for mixed precision training\n",
    "\n",
    "# train function with augmentations\n",
    "def train_model_aug(model, num_epochs, optimizer):\n",
    "    for epoch in range(num_epochs):\n",
    "        model.train() # Set the model to training mode\n",
    "        running_loss = 0.0\n",
    "        correct_top1 = 0 # Correct predictions for top-1 accuracy\n",
    "        total = 0\n",
    "        # Use tqdm for displaying progress during training\n",
    "        train_loader_tqdm = tqdm(train_dataloader, desc=f'Epoch [{epoch+1}/{num_epochs}]', leave=True)\n",
    "        \n",
    "        for inputs, labels in train_loader_tqdm:\n",
    "            inputs, labels = aug(inputs.to(device)), labels.to(device)\n",
    "\n",
    "            optimizer.zero_grad(set_to_none=True)\n",
    "            with torch.cuda.amp.autocast(enabled=use_amp):\n",
    "                outputs = model(inputs)\n",
    "                loss = criterion(outputs, labels)\n",
    "                \n",
    "            scaler.scale(loss).backward()\n",
    "            scaler.step(optimizer)\n",
    "            scaler.update()\n",
    "\n",
    "            running_loss += loss.item()\n",
    "            gpu_mem = torch.cuda.memory_reserved() / 1e9  # Get GPU memory usage in GB\n",
    "            _, predicted = torch.max(outputs, 1)\n",
    "            total += labels.size(0)\n",
    "            correct_top1 += (predicted == labels).sum().item()\n",
    "            \n",
    "            train_loader_tqdm.set_postfix(GPU_mem=f'{gpu_mem:.3f}G', loss=loss.item(), Instances=len(inputs), Size=inputs.shape[-1], top1_acc=100 * correct_top1 / total)\n",
    "\n",
    "        print(f'Epoch [{epoch+1}/{num_epochs}], Loss: {running_loss/len(train_dataloader):.4f}')\n",
    "        \n",
    "    return model\n"
   ]
  },
  {
   "cell_type": "code",
   "execution_count": 22,
   "id": "58fd281f",
   "metadata": {},
   "outputs": [
    {
     "name": "stderr",
     "output_type": "stream",
     "text": [
      "Epoch [1/3]:   0%|                                                                            | 0/1323 [00:00<?, ?it/s]C:\\Users\\User\\AppData\\Local\\Temp\\ipykernel_9860\\3954878754.py:18: FutureWarning: `torch.cuda.amp.autocast(args...)` is deprecated. Please use `torch.amp.autocast('cuda', args...)` instead.\n",
      "  with torch.cuda.amp.autocast(enabled=use_amp):\n",
      "Epoch [1/3]: 100%|█| 1323/1323 [06:26<00:00,  3.42it/s, GPU_mem=3.504G, Instances=27, Size=224, loss=0.11, top1_acc=89.\n"
     ]
    },
    {
     "name": "stdout",
     "output_type": "stream",
     "text": [
      "Epoch [1/3], Loss: 0.5103\n"
     ]
    },
    {
     "name": "stderr",
     "output_type": "stream",
     "text": [
      "Epoch [2/3]: 100%|█| 1323/1323 [06:26<00:00,  3.42it/s, GPU_mem=3.504G, Instances=27, Size=224, loss=0.445, top1_acc=96\n"
     ]
    },
    {
     "name": "stdout",
     "output_type": "stream",
     "text": [
      "Epoch [2/3], Loss: 0.1420\n"
     ]
    },
    {
     "name": "stderr",
     "output_type": "stream",
     "text": [
      "Epoch [3/3]: 100%|█| 1323/1323 [06:19<00:00,  3.49it/s, GPU_mem=3.504G, Instances=27, Size=224, loss=0.0118, top1_acc=9\n"
     ]
    },
    {
     "name": "stdout",
     "output_type": "stream",
     "text": [
      "Epoch [3/3], Loss: 0.1148\n"
     ]
    },
    {
     "name": "stderr",
     "output_type": "stream",
     "text": [
      "Validation: 100%|█████████████████████████| 42/42 [00:39<00:00,  1.06it/s, classes=0.978, top1_acc=97.8, top5_acc=99.9]"
     ]
    },
    {
     "name": "stdout",
     "output_type": "stream",
     "text": [
      "Validation Loss: 0.0863, Top-1 Accuracy: 97.83%, Top-5 Accuracy: 99.92%\n"
     ]
    },
    {
     "name": "stderr",
     "output_type": "stream",
     "text": [
      "\n"
     ]
    }
   ],
   "source": [
    "# Training with Adam optimizer and augmentations\n",
    "mymodel_Adam_Aug = copy.deepcopy(model).to(device)\n",
    "num_epochs = 3  # Set the number of epochs\n",
    "lr = 2.5e-4\n",
    "optimizer_Adam = torch.optim.Adam(mymodel_Adam_Aug.linear_head.parameters(), lr=lr)\n",
    "mymodel_Adam_Aug = train_model_aug(mymodel_Adam_Aug, num_epochs, optimizer_Adam)\n",
    "check_accuracy(mymodel_Adam_Aug, val_dataloader)\n"
   ]
  },
  {
   "cell_type": "code",
   "execution_count": 23,
   "id": "fb9257a3",
   "metadata": {},
   "outputs": [],
   "source": [
    "# Save the trained model\n",
    "state = {'net': mymodel_Adam_Aug.state_dict()}\n",
    "torch.save(state, '../models/DINO/Dino_Adam_Aug_64_dropout_0.3.pth')"
   ]
  },
  {
   "cell_type": "code",
   "execution_count": 24,
   "id": "a6adee9e",
   "metadata": {},
   "outputs": [],
   "source": [
    "del mymodel_Adam_Aug"
   ]
  },
  {
   "cell_type": "code",
   "execution_count": 25,
   "id": "d61c0116",
   "metadata": {},
   "outputs": [
    {
     "name": "stderr",
     "output_type": "stream",
     "text": [
      "Epoch [1/3]:   0%|                                                                            | 0/1323 [00:00<?, ?it/s]C:\\Users\\User\\AppData\\Local\\Temp\\ipykernel_9860\\3954878754.py:18: FutureWarning: `torch.cuda.amp.autocast(args...)` is deprecated. Please use `torch.amp.autocast('cuda', args...)` instead.\n",
      "  with torch.cuda.amp.autocast(enabled=use_amp):\n",
      "Epoch [1/3]: 100%|█| 1323/1323 [06:22<00:00,  3.46it/s, GPU_mem=4.660G, Instances=27, Size=224, loss=0.24, top1_acc=77.\n"
     ]
    },
    {
     "name": "stdout",
     "output_type": "stream",
     "text": [
      "Epoch [1/3], Loss: 1.4328\n"
     ]
    },
    {
     "name": "stderr",
     "output_type": "stream",
     "text": [
      "Epoch [2/3]: 100%|█| 1323/1323 [06:25<00:00,  3.43it/s, GPU_mem=4.660G, Instances=27, Size=224, loss=0.157, top1_acc=95\n"
     ]
    },
    {
     "name": "stdout",
     "output_type": "stream",
     "text": [
      "Epoch [2/3], Loss: 0.3162\n"
     ]
    },
    {
     "name": "stderr",
     "output_type": "stream",
     "text": [
      "Epoch [3/3]: 100%|█| 1323/1323 [06:25<00:00,  3.43it/s, GPU_mem=4.660G, Instances=27, Size=224, loss=0.114, top1_acc=96\n"
     ]
    },
    {
     "name": "stdout",
     "output_type": "stream",
     "text": [
      "Epoch [3/3], Loss: 0.2262\n"
     ]
    },
    {
     "name": "stderr",
     "output_type": "stream",
     "text": [
      "Validation: 100%|██████████████████████████| 42/42 [00:39<00:00,  1.05it/s, classes=0.982, top1_acc=98.2, top5_acc=100]"
     ]
    },
    {
     "name": "stdout",
     "output_type": "stream",
     "text": [
      "Validation Loss: 0.1200, Top-1 Accuracy: 98.25%, Top-5 Accuracy: 99.96%\n"
     ]
    },
    {
     "name": "stderr",
     "output_type": "stream",
     "text": [
      "\n"
     ]
    }
   ],
   "source": [
    "# Training with SGD optimizer and augmentations(lr = 5e-3)\n",
    "mymodel_SGD_Aug =  copy.deepcopy(model).to(device)\n",
    "num_epochs = 3  # Set the number of epochs\n",
    "lr = 5e-3\n",
    "optimizer_SGD = torch.optim.SGD(mymodel_SGD_Aug.linear_head.parameters(), lr=lr)\n",
    "mymodel_Adam_Aug = train_model_aug(mymodel_SGD_Aug, num_epochs, optimizer_SGD)\n",
    "check_accuracy(mymodel_SGD_Aug, val_dataloader)\n"
   ]
  },
  {
   "cell_type": "code",
   "execution_count": 26,
   "id": "4bf9062e",
   "metadata": {},
   "outputs": [],
   "source": [
    "# Save the trained model\n",
    "state = {'net': mymodel_SGD_Aug.state_dict()}\n",
    "torch.save(state, '../models/DINO/Dino_SGD_Aug_64_dropout_0.3.pth')"
   ]
  },
  {
   "cell_type": "code",
   "execution_count": 27,
   "id": "282b74e2",
   "metadata": {},
   "outputs": [],
   "source": [
    "del mymodel_SGD_Aug"
   ]
  },
  {
   "cell_type": "code",
   "execution_count": 28,
   "id": "09518faa",
   "metadata": {
    "scrolled": true
   },
   "outputs": [
    {
     "name": "stderr",
     "output_type": "stream",
     "text": [
      "Epoch [1/3]:   0%|                                                                            | 0/1323 [00:00<?, ?it/s]C:\\Users\\User\\AppData\\Local\\Temp\\ipykernel_9860\\3954878754.py:18: FutureWarning: `torch.cuda.amp.autocast(args...)` is deprecated. Please use `torch.amp.autocast('cuda', args...)` instead.\n",
      "  with torch.cuda.amp.autocast(enabled=use_amp):\n",
      "Epoch [1/3]: 100%|█| 1323/1323 [06:25<00:00,  3.43it/s, GPU_mem=4.930G, Instances=27, Size=224, loss=0.1, top1_acc=89.8\n"
     ]
    },
    {
     "name": "stdout",
     "output_type": "stream",
     "text": [
      "Epoch [1/3], Loss: 0.5098\n"
     ]
    },
    {
     "name": "stderr",
     "output_type": "stream",
     "text": [
      "Epoch [2/3]: 100%|█| 1323/1323 [06:17<00:00,  3.51it/s, GPU_mem=4.930G, Instances=27, Size=224, loss=0.0983, top1_acc=9\n"
     ]
    },
    {
     "name": "stdout",
     "output_type": "stream",
     "text": [
      "Epoch [2/3], Loss: 0.1462\n"
     ]
    },
    {
     "name": "stderr",
     "output_type": "stream",
     "text": [
      "Epoch [3/3]: 100%|█| 1323/1323 [06:18<00:00,  3.49it/s, GPU_mem=4.930G, Instances=27, Size=224, loss=0.163, top1_acc=97\n"
     ]
    },
    {
     "name": "stdout",
     "output_type": "stream",
     "text": [
      "Epoch [3/3], Loss: 0.1101\n"
     ]
    },
    {
     "name": "stderr",
     "output_type": "stream",
     "text": [
      "Validation: 100%|█████████████████████████| 42/42 [00:41<00:00,  1.02it/s, classes=0.974, top1_acc=97.4, top5_acc=99.9]"
     ]
    },
    {
     "name": "stdout",
     "output_type": "stream",
     "text": [
      "Validation Loss: 0.0915, Top-1 Accuracy: 97.41%, Top-5 Accuracy: 99.89%\n"
     ]
    },
    {
     "name": "stderr",
     "output_type": "stream",
     "text": [
      "\n"
     ]
    }
   ],
   "source": [
    "# Training with AdamW optimizer and augmentations\n",
    "mymodel_AdamW_Aug =  copy.deepcopy(model).to(device)\n",
    "num_epochs = 3  # Set the number of epochs\n",
    "lr = 2.5e-4\n",
    "optimizer_AdamW = torch.optim.AdamW(mymodel_AdamW_Aug.linear_head.parameters(), lr=lr)\n",
    "mymodel_AdamW_Aug = train_model_aug(mymodel_AdamW_Aug, num_epochs, optimizer_AdamW)\n",
    "check_accuracy(mymodel_AdamW_Aug, val_dataloader)\n"
   ]
  },
  {
   "cell_type": "code",
   "execution_count": 29,
   "id": "7b42aa41",
   "metadata": {},
   "outputs": [],
   "source": [
    "# Save the trained model\n",
    "state = {'net': mymodel_AdamW_Aug.state_dict()}\n",
    "torch.save(state, '../models/DINO/Dino_AdamW_Aug_64_dropout_0.3.pth')"
   ]
  },
  {
   "cell_type": "code",
   "execution_count": 30,
   "id": "9e24e282",
   "metadata": {},
   "outputs": [],
   "source": [
    "del mymodel_AdamW_Aug"
   ]
  },
  {
   "cell_type": "code",
   "execution_count": 31,
   "id": "d602e738",
   "metadata": {},
   "outputs": [
    {
     "name": "stderr",
     "output_type": "stream",
     "text": [
      "Epoch [1/3]:   0%|                                                                            | 0/1323 [00:00<?, ?it/s]C:\\Users\\User\\AppData\\Local\\Temp\\ipykernel_9860\\3954878754.py:18: FutureWarning: `torch.cuda.amp.autocast(args...)` is deprecated. Please use `torch.amp.autocast('cuda', args...)` instead.\n",
      "  with torch.cuda.amp.autocast(enabled=use_amp):\n",
      "Epoch [1/3]: 100%|█| 1323/1323 [06:24<00:00,  3.44it/s, GPU_mem=6.094G, Instances=27, Size=224, loss=0.468, top1_acc=91\n"
     ]
    },
    {
     "name": "stdout",
     "output_type": "stream",
     "text": [
      "Epoch [1/3], Loss: 0.4164\n"
     ]
    },
    {
     "name": "stderr",
     "output_type": "stream",
     "text": [
      "Epoch [2/3]: 100%|█| 1323/1323 [06:27<00:00,  3.42it/s, GPU_mem=6.094G, Instances=27, Size=224, loss=0.044, top1_acc=96\n"
     ]
    },
    {
     "name": "stdout",
     "output_type": "stream",
     "text": [
      "Epoch [2/3], Loss: 0.1356\n"
     ]
    },
    {
     "name": "stderr",
     "output_type": "stream",
     "text": [
      "Epoch [3/3]: 100%|█| 1323/1323 [06:24<00:00,  3.44it/s, GPU_mem=6.094G, Instances=27, Size=224, loss=0.00475, top1_acc=\n"
     ]
    },
    {
     "name": "stdout",
     "output_type": "stream",
     "text": [
      "Epoch [3/3], Loss: 0.1018\n"
     ]
    },
    {
     "name": "stderr",
     "output_type": "stream",
     "text": [
      "Validation: 100%|█████████████████████████| 42/42 [00:39<00:00,  1.06it/s, classes=0.984, top1_acc=98.4, top5_acc=99.9]"
     ]
    },
    {
     "name": "stdout",
     "output_type": "stream",
     "text": [
      "Validation Loss: 0.0729, Top-1 Accuracy: 98.40%, Top-5 Accuracy: 99.92%\n"
     ]
    },
    {
     "name": "stderr",
     "output_type": "stream",
     "text": [
      "\n"
     ]
    }
   ],
   "source": [
    "# Training with RMSProp optimizer and augmentations\n",
    "mymodel_RMSProp_Aug =  copy.deepcopy(model).to(device)\n",
    "num_epochs = 3  # Set the number of epochs\n",
    "lr = 2.5e-4\n",
    "optimizer_RMSProp = torch.optim.RMSprop(mymodel_RMSProp_Aug.linear_head.parameters(), lr=lr)\n",
    "mymodel_RMSProp_Aug = train_model_aug(mymodel_RMSProp_Aug, num_epochs, optimizer_RMSProp)\n",
    "check_accuracy(mymodel_RMSProp_Aug, val_dataloader)\n"
   ]
  },
  {
   "cell_type": "code",
   "execution_count": 32,
   "id": "47fcbe89",
   "metadata": {},
   "outputs": [],
   "source": [
    "# Save the trained model\n",
    "state = {'net': mymodel_RMSProp_Aug.state_dict()}\n",
    "torch.save(state, '../models/DINO/Dino_RMSProp_Aug_64_dropout_0.3.pth')"
   ]
  },
  {
   "cell_type": "code",
   "execution_count": 33,
   "id": "f1ab52a4",
   "metadata": {},
   "outputs": [],
   "source": [
    "del mymodel_RMSProp_Aug"
   ]
  },
  {
   "cell_type": "code",
   "execution_count": 34,
   "id": "1dafc735",
   "metadata": {},
   "outputs": [
    {
     "name": "stderr",
     "output_type": "stream",
     "text": [
      "Epoch [1/3]:   0%|                                                                            | 0/1323 [00:00<?, ?it/s]C:\\Users\\User\\AppData\\Local\\Temp\\ipykernel_9860\\3954878754.py:18: FutureWarning: `torch.cuda.amp.autocast(args...)` is deprecated. Please use `torch.amp.autocast('cuda', args...)` instead.\n",
      "  with torch.cuda.amp.autocast(enabled=use_amp):\n",
      "Epoch [1/3]: 100%|█| 1323/1323 [06:19<00:00,  3.49it/s, GPU_mem=6.839G, Instances=27, Size=224, loss=0.176, top1_acc=90\n"
     ]
    },
    {
     "name": "stdout",
     "output_type": "stream",
     "text": [
      "Epoch [1/3], Loss: 0.4975\n"
     ]
    },
    {
     "name": "stderr",
     "output_type": "stream",
     "text": [
      "Epoch [2/3]: 100%|█| 1323/1323 [06:19<00:00,  3.49it/s, GPU_mem=6.839G, Instances=27, Size=224, loss=0.0611, top1_acc=9\n"
     ]
    },
    {
     "name": "stdout",
     "output_type": "stream",
     "text": [
      "Epoch [2/3], Loss: 0.1350\n"
     ]
    },
    {
     "name": "stderr",
     "output_type": "stream",
     "text": [
      "Epoch [3/3]: 100%|█| 1323/1323 [06:19<00:00,  3.49it/s, GPU_mem=6.839G, Instances=27, Size=224, loss=0.0813, top1_acc=9\n"
     ]
    },
    {
     "name": "stdout",
     "output_type": "stream",
     "text": [
      "Epoch [3/3], Loss: 0.1075\n"
     ]
    },
    {
     "name": "stderr",
     "output_type": "stream",
     "text": [
      "Validation: 100%|█████████████████████████| 42/42 [00:39<00:00,  1.06it/s, classes=0.981, top1_acc=98.1, top5_acc=99.9]"
     ]
    },
    {
     "name": "stdout",
     "output_type": "stream",
     "text": [
      "Validation Loss: 0.0731, Top-1 Accuracy: 98.06%, Top-5 Accuracy: 99.92%\n"
     ]
    },
    {
     "name": "stderr",
     "output_type": "stream",
     "text": [
      "\n"
     ]
    }
   ],
   "source": [
    "# Training with NAdam optimizer and augmentations\n",
    "mymodel_NAdam_Aug =  copy.deepcopy(model).to(device)\n",
    "num_epochs = 3  # Set the number of epochs\n",
    "lr = 2.5e-4\n",
    "optimizer_NAdam = torch.optim.NAdam(mymodel_NAdam_Aug.linear_head.parameters(), lr=lr)\n",
    "mymodel_Adam_Aug = train_model_aug(mymodel_NAdam_Aug, num_epochs, optimizer_NAdam)\n",
    "check_accuracy(mymodel_NAdam_Aug, val_dataloader)\n"
   ]
  },
  {
   "cell_type": "code",
   "execution_count": 35,
   "id": "4d4be53a",
   "metadata": {},
   "outputs": [],
   "source": [
    "# Save the trained model\n",
    "state = {'net': mymodel_NAdam_Aug.state_dict()}\n",
    "torch.save(state, '../models/DINO/Dino_NAdam_Aug_64_dropout_0.3.pth')"
   ]
  },
  {
   "cell_type": "code",
   "execution_count": 36,
   "id": "c69e81b5",
   "metadata": {},
   "outputs": [],
   "source": [
    "del mymodel_NAdam_Aug"
   ]
  },
  {
   "cell_type": "code",
   "execution_count": 37,
   "id": "21db1b9e",
   "metadata": {},
   "outputs": [
    {
     "name": "stderr",
     "output_type": "stream",
     "text": [
      "Epoch [1/3]:   0%|                                                                            | 0/1323 [00:00<?, ?it/s]C:\\Users\\User\\AppData\\Local\\Temp\\ipykernel_9860\\3954878754.py:18: FutureWarning: `torch.cuda.amp.autocast(args...)` is deprecated. Please use `torch.amp.autocast('cuda', args...)` instead.\n",
      "  with torch.cuda.amp.autocast(enabled=use_amp):\n",
      "Epoch [1/3]: 100%|█| 1323/1323 [06:25<00:00,  3.43it/s, GPU_mem=6.839G, Instances=27, Size=224, loss=0.285, top1_acc=89\n"
     ]
    },
    {
     "name": "stdout",
     "output_type": "stream",
     "text": [
      "Epoch [1/3], Loss: 0.5105\n"
     ]
    },
    {
     "name": "stderr",
     "output_type": "stream",
     "text": [
      "Epoch [2/3]: 100%|█| 1323/1323 [06:38<00:00,  3.32it/s, GPU_mem=6.839G, Instances=27, Size=224, loss=0.0401, top1_acc=9\n"
     ]
    },
    {
     "name": "stdout",
     "output_type": "stream",
     "text": [
      "Epoch [2/3], Loss: 0.1458\n"
     ]
    },
    {
     "name": "stderr",
     "output_type": "stream",
     "text": [
      "Epoch [3/3]: 100%|█| 1323/1323 [06:23<00:00,  3.45it/s, GPU_mem=6.839G, Instances=27, Size=224, loss=0.363, top1_acc=97\n"
     ]
    },
    {
     "name": "stdout",
     "output_type": "stream",
     "text": [
      "Epoch [3/3], Loss: 0.1141\n"
     ]
    },
    {
     "name": "stderr",
     "output_type": "stream",
     "text": [
      "Validation: 100%|██████████████████████████| 42/42 [00:39<00:00,  1.06it/s, classes=0.973, top1_acc=97.3, top5_acc=100]"
     ]
    },
    {
     "name": "stdout",
     "output_type": "stream",
     "text": [
      "Validation Loss: 0.0966, Top-1 Accuracy: 97.26%, Top-5 Accuracy: 100.00%\n"
     ]
    },
    {
     "name": "stderr",
     "output_type": "stream",
     "text": [
      "\n"
     ]
    }
   ],
   "source": [
    "# Training with RAdam optimizer and augmentations\n",
    "mymodel_RAdam_Aug = copy.deepcopy(model).to(device)\n",
    "num_epochs = 3  # Set the number of epochs\n",
    "lr = 2.5e-4\n",
    "optimizer_RAdam = torch.optim.Adam(mymodel_RAdam_Aug.linear_head.parameters(), lr=lr)\n",
    "mymodel_Adam_Aug = train_model_aug(mymodel_RAdam_Aug, num_epochs, optimizer_RAdam)\n",
    "check_accuracy(mymodel_RAdam_Aug, val_dataloader)\n"
   ]
  },
  {
   "cell_type": "code",
   "execution_count": 38,
   "id": "d92059b0",
   "metadata": {},
   "outputs": [],
   "source": [
    "# Save the trained model\n",
    "state = {'net': mymodel_RAdam_Aug.state_dict()}    \n",
    "torch.save(state, '../models/DINO/Dino_RAdam_Aug_64_dropout_0.3.pth')"
   ]
  },
  {
   "cell_type": "code",
   "execution_count": 39,
   "id": "c8bb884e",
   "metadata": {},
   "outputs": [],
   "source": [
    "del mymodel_RAdam_Aug"
   ]
  },
  {
   "cell_type": "code",
   "execution_count": 40,
   "id": "19fc9a97",
   "metadata": {},
   "outputs": [
    {
     "name": "stderr",
     "output_type": "stream",
     "text": [
      "Epoch [1/3]:   0%|                                                                            | 0/1323 [00:00<?, ?it/s]C:\\Users\\User\\AppData\\Local\\Temp\\ipykernel_9860\\3954878754.py:18: FutureWarning: `torch.cuda.amp.autocast(args...)` is deprecated. Please use `torch.amp.autocast('cuda', args...)` instead.\n",
      "  with torch.cuda.amp.autocast(enabled=use_amp):\n",
      "Epoch [1/3]: 100%|█| 1323/1323 [06:18<00:00,  3.49it/s, GPU_mem=6.839G, Instances=27, Size=224, loss=0.0504, top1_acc=9\n"
     ]
    },
    {
     "name": "stdout",
     "output_type": "stream",
     "text": [
      "Epoch [1/3], Loss: 0.5343\n"
     ]
    },
    {
     "name": "stderr",
     "output_type": "stream",
     "text": [
      "Epoch [2/3]: 100%|█| 1323/1323 [06:19<00:00,  3.49it/s, GPU_mem=6.839G, Instances=27, Size=224, loss=0.0685, top1_acc=9\n"
     ]
    },
    {
     "name": "stdout",
     "output_type": "stream",
     "text": [
      "Epoch [2/3], Loss: 0.0953\n"
     ]
    },
    {
     "name": "stderr",
     "output_type": "stream",
     "text": [
      "Epoch [3/3]: 100%|█| 1323/1323 [06:19<00:00,  3.49it/s, GPU_mem=6.839G, Instances=27, Size=224, loss=0.0321, top1_acc=9\n"
     ]
    },
    {
     "name": "stdout",
     "output_type": "stream",
     "text": [
      "Epoch [3/3], Loss: 0.0613\n"
     ]
    },
    {
     "name": "stderr",
     "output_type": "stream",
     "text": [
      "Validation: 100%|█████████████████████████████| 42/42 [00:39<00:00,  1.06it/s, classes=0.99, top1_acc=99, top5_acc=100]"
     ]
    },
    {
     "name": "stdout",
     "output_type": "stream",
     "text": [
      "Validation Loss: 0.0475, Top-1 Accuracy: 99.01%, Top-5 Accuracy: 99.96%\n"
     ]
    },
    {
     "name": "stderr",
     "output_type": "stream",
     "text": [
      "\n"
     ]
    }
   ],
   "source": [
    "# Training with AdamWScheduleFree optimizer and augmentations\n",
    "mymodel_AdamWScheduleFree_Aug = copy.deepcopy(model).to(device)\n",
    "num_epochs = 3  # Set the number of epochs\n",
    "lr = 2.5e-4\n",
    "optimizer_AdamWScheduleFree = schedulefree.AdamWScheduleFree(mymodel_AdamWScheduleFree_Aug.linear_head.parameters(), lr=lr)\n",
    "optimizer_AdamWScheduleFree.train()\n",
    "mymodel_AdamWScheduleFree_Aug = train_model_aug(mymodel_AdamWScheduleFree_Aug, num_epochs, optimizer_AdamWScheduleFree)\n",
    "optimizer_AdamWScheduleFree.eval()\n",
    "check_accuracy(mymodel_AdamWScheduleFree_Aug, val_dataloader)"
   ]
  },
  {
   "cell_type": "code",
   "execution_count": 41,
   "id": "f8f3e9a1",
   "metadata": {},
   "outputs": [],
   "source": [
    "# Save the trained model\n",
    "state = {'net': mymodel_AdamWScheduleFree_Aug.state_dict()}\n",
    "torch.save(state, '../models/DINO/Dino_AdamWScheduleFree_Aug_64_dropout_0.3.pth')"
   ]
  },
  {
   "cell_type": "code",
   "execution_count": 42,
   "id": "44476cc0",
   "metadata": {},
   "outputs": [],
   "source": [
    "del mymodel_AdamWScheduleFree_Aug"
   ]
  },
  {
   "cell_type": "code",
   "execution_count": 43,
   "id": "93e825ce",
   "metadata": {},
   "outputs": [
    {
     "name": "stderr",
     "output_type": "stream",
     "text": [
      "Epoch [1/3]:   0%|                                                                            | 0/1323 [00:00<?, ?it/s]C:\\Users\\User\\AppData\\Local\\Temp\\ipykernel_9860\\3954878754.py:18: FutureWarning: `torch.cuda.amp.autocast(args...)` is deprecated. Please use `torch.amp.autocast('cuda', args...)` instead.\n",
      "  with torch.cuda.amp.autocast(enabled=use_amp):\n",
      "Epoch [1/3]: 100%|█| 1323/1323 [06:17<00:00,  3.51it/s, GPU_mem=6.839G, Instances=27, Size=224, loss=5.8, top1_acc=1.73\n"
     ]
    },
    {
     "name": "stdout",
     "output_type": "stream",
     "text": [
      "Epoch [1/3], Loss: 6.0973\n"
     ]
    },
    {
     "name": "stderr",
     "output_type": "stream",
     "text": [
      "Epoch [2/3]: 100%|█| 1323/1323 [06:31<00:00,  3.38it/s, GPU_mem=6.839G, Instances=27, Size=224, loss=4.87, top1_acc=14.\n"
     ]
    },
    {
     "name": "stdout",
     "output_type": "stream",
     "text": [
      "Epoch [2/3], Loss: 5.2015\n"
     ]
    },
    {
     "name": "stderr",
     "output_type": "stream",
     "text": [
      "Epoch [3/3]: 100%|█| 1323/1323 [06:34<00:00,  3.35it/s, GPU_mem=6.839G, Instances=27, Size=224, loss=3.79, top1_acc=33.\n"
     ]
    },
    {
     "name": "stdout",
     "output_type": "stream",
     "text": [
      "Epoch [3/3], Loss: 4.3846\n"
     ]
    },
    {
     "name": "stderr",
     "output_type": "stream",
     "text": [
      "Validation: 100%|███████████████████████████| 42/42 [00:42<00:00,  1.01s/it, classes=0.487, top1_acc=48.7, top5_acc=83]"
     ]
    },
    {
     "name": "stdout",
     "output_type": "stream",
     "text": [
      "Validation Loss: 4.0366, Top-1 Accuracy: 48.69%, Top-5 Accuracy: 83.01%\n"
     ]
    },
    {
     "name": "stderr",
     "output_type": "stream",
     "text": [
      "\n"
     ]
    }
   ],
   "source": [
    "# Training with SGDScheduleFree optimizer and augmentations(learning rate = 2.5e-4)\n",
    "mymodel_SGDScheduleFree_Aug = copy.deepcopy(model).to(device)\n",
    "num_epochs = 3  # Set the number of epochs\n",
    "lr = 2.5e-4\n",
    "optimizer_SGDScheduleFree = schedulefree.SGDScheduleFree(mymodel_SGDScheduleFree_Aug.linear_head.parameters(), lr=lr)\n",
    "optimizer_SGDScheduleFree.train()\n",
    "mymodel_SGDScheduleFree_Aug = train_model_aug(mymodel_SGDScheduleFree_Aug, num_epochs, optimizer_SGDScheduleFree)\n",
    "optimizer_SGDScheduleFree.eval()\n",
    "check_accuracy(mymodel_SGDScheduleFree_Aug, val_dataloader)"
   ]
  },
  {
   "cell_type": "code",
   "execution_count": 44,
   "id": "a5a22c47",
   "metadata": {},
   "outputs": [],
   "source": [
    "# Save the trained model\n",
    "state = {'net': mymodel_SGDScheduleFree_Aug.state_dict()}\n",
    "torch.save(state, '../models/DINO/Dino_SGDScheduleFree_Aug_64_dropout_0.3.pth')"
   ]
  },
  {
   "cell_type": "code",
   "execution_count": 50,
   "id": "2f293e60",
   "metadata": {},
   "outputs": [],
   "source": [
    "del mymodel_SGDScheduleFree_Aug"
   ]
  },
  {
   "cell_type": "code",
   "execution_count": 45,
   "id": "5973563d",
   "metadata": {},
   "outputs": [
    {
     "name": "stderr",
     "output_type": "stream",
     "text": [
      "Epoch [1/3]:   0%|                                                                            | 0/1323 [00:00<?, ?it/s]C:\\Users\\User\\AppData\\Local\\Temp\\ipykernel_9860\\3954878754.py:18: FutureWarning: `torch.cuda.amp.autocast(args...)` is deprecated. Please use `torch.amp.autocast('cuda', args...)` instead.\n",
      "  with torch.cuda.amp.autocast(enabled=use_amp):\n",
      "Epoch [1/3]: 100%|█| 1323/1323 [06:35<00:00,  3.35it/s, GPU_mem=6.839G, Instances=27, Size=224, loss=0.557, top1_acc=69\n"
     ]
    },
    {
     "name": "stdout",
     "output_type": "stream",
     "text": [
      "Epoch [1/3], Loss: 2.0041\n"
     ]
    },
    {
     "name": "stderr",
     "output_type": "stream",
     "text": [
      "Epoch [2/3]: 100%|█| 1323/1323 [06:26<00:00,  3.43it/s, GPU_mem=6.839G, Instances=27, Size=224, loss=0.206, top1_acc=93\n"
     ]
    },
    {
     "name": "stdout",
     "output_type": "stream",
     "text": [
      "Epoch [2/3], Loss: 0.3659\n"
     ]
    },
    {
     "name": "stderr",
     "output_type": "stream",
     "text": [
      "Epoch [3/3]: 100%|█| 1323/1323 [06:21<00:00,  3.47it/s, GPU_mem=6.839G, Instances=27, Size=224, loss=0.219, top1_acc=95\n"
     ]
    },
    {
     "name": "stdout",
     "output_type": "stream",
     "text": [
      "Epoch [3/3], Loss: 0.2435\n"
     ]
    },
    {
     "name": "stderr",
     "output_type": "stream",
     "text": [
      "Validation: 100%|█████████████████████████| 42/42 [00:39<00:00,  1.06it/s, classes=0.982, top1_acc=98.2, top5_acc=99.9]"
     ]
    },
    {
     "name": "stdout",
     "output_type": "stream",
     "text": [
      "Validation Loss: 0.1343, Top-1 Accuracy: 98.21%, Top-5 Accuracy: 99.89%\n"
     ]
    },
    {
     "name": "stderr",
     "output_type": "stream",
     "text": [
      "\n"
     ]
    }
   ],
   "source": [
    "# Training with SGDScheduleFree optimizer and augmentations(learning rate = 5e-3)\n",
    "mymodel_SGDScheduleFree_Aug = copy.deepcopy(model).to(device)\n",
    "num_epochs = 3  # Set the number of epochs\n",
    "lr = 5e-3\n",
    "optimizer_SGDScheduleFree = schedulefree.SGDScheduleFree(mymodel_SGDScheduleFree_Aug.linear_head.parameters(), lr=lr)\n",
    "optimizer_SGDScheduleFree.train()\n",
    "mymodel_SGDScheduleFree_Aug = train_model_aug(mymodel_SGDScheduleFree_Aug, num_epochs, optimizer_SGDScheduleFree)\n",
    "optimizer_SGDScheduleFree.eval()\n",
    "check_accuracy(mymodel_SGDScheduleFree_Aug, val_dataloader)"
   ]
  },
  {
   "cell_type": "code",
   "execution_count": 46,
   "id": "2593f206",
   "metadata": {},
   "outputs": [],
   "source": [
    "# Save the trained model\n",
    "state = {'net': mymodel_SGDScheduleFree_Aug.state_dict()}     \n",
    "torch.save(state, '../models/DINO/Dino_SGDScheduleFree_Aug_64_dropout_0.3_lr_5e-3.pth')"
   ]
  },
  {
   "cell_type": "code",
   "execution_count": 47,
   "id": "9968fb32",
   "metadata": {},
   "outputs": [],
   "source": [
    "del mymodel_SGDScheduleFree_Aug"
   ]
  }
 ],
 "metadata": {
  "kernelspec": {
   "display_name": "Python 3 (ipykernel)",
   "language": "python",
   "name": "python3"
  },
  "language_info": {
   "codemirror_mode": {
    "name": "ipython",
    "version": 3
   },
   "file_extension": ".py",
   "mimetype": "text/x-python",
   "name": "python",
   "nbconvert_exporter": "python",
   "pygments_lexer": "ipython3",
   "version": "3.8.18"
  }
 },
 "nbformat": 4,
 "nbformat_minor": 5
}
